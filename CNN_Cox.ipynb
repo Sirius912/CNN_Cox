{
  "cells": [
    {
      "cell_type": "markdown",
      "id": "a1027733",
      "metadata": {
        "id": "a1027733"
      },
      "source": [
        "# Survival Prediction of Lung Cancer Patients Based on Different Feature Selection Methods Using CNN-Cox Models"
      ]
    },
    {
      "cell_type": "markdown",
      "id": "754057a4",
      "metadata": {
        "id": "754057a4"
      },
      "source": [
        "## Import the Libraries"
      ]
    },
    {
      "cell_type": "code",
      "source": [
        "pip install lifelines"
      ],
      "metadata": {
        "colab": {
          "base_uri": "https://localhost:8080/"
        },
        "id": "gw3JHR2ycvZt",
        "outputId": "6ac3be8a-bb7d-41d4-e97e-b606c7b540fc"
      },
      "id": "gw3JHR2ycvZt",
      "execution_count": 431,
      "outputs": [
        {
          "output_type": "stream",
          "name": "stdout",
          "text": [
            "Requirement already satisfied: lifelines in /usr/local/lib/python3.11/dist-packages (0.30.0)\n",
            "Requirement already satisfied: numpy>=1.14.0 in /usr/local/lib/python3.11/dist-packages (from lifelines) (2.0.2)\n",
            "Requirement already satisfied: scipy>=1.7.0 in /usr/local/lib/python3.11/dist-packages (from lifelines) (1.15.2)\n",
            "Requirement already satisfied: pandas>=2.1 in /usr/local/lib/python3.11/dist-packages (from lifelines) (2.2.2)\n",
            "Requirement already satisfied: matplotlib>=3.0 in /usr/local/lib/python3.11/dist-packages (from lifelines) (3.10.0)\n",
            "Requirement already satisfied: autograd>=1.5 in /usr/local/lib/python3.11/dist-packages (from lifelines) (1.7.0)\n",
            "Requirement already satisfied: autograd-gamma>=0.3 in /usr/local/lib/python3.11/dist-packages (from lifelines) (0.5.0)\n",
            "Requirement already satisfied: formulaic>=0.2.2 in /usr/local/lib/python3.11/dist-packages (from lifelines) (1.1.1)\n",
            "Requirement already satisfied: interface-meta>=1.2.0 in /usr/local/lib/python3.11/dist-packages (from formulaic>=0.2.2->lifelines) (1.3.0)\n",
            "Requirement already satisfied: typing-extensions>=4.2.0 in /usr/local/lib/python3.11/dist-packages (from formulaic>=0.2.2->lifelines) (4.13.2)\n",
            "Requirement already satisfied: wrapt>=1.0 in /usr/local/lib/python3.11/dist-packages (from formulaic>=0.2.2->lifelines) (1.17.2)\n",
            "Requirement already satisfied: contourpy>=1.0.1 in /usr/local/lib/python3.11/dist-packages (from matplotlib>=3.0->lifelines) (1.3.2)\n",
            "Requirement already satisfied: cycler>=0.10 in /usr/local/lib/python3.11/dist-packages (from matplotlib>=3.0->lifelines) (0.12.1)\n",
            "Requirement already satisfied: fonttools>=4.22.0 in /usr/local/lib/python3.11/dist-packages (from matplotlib>=3.0->lifelines) (4.57.0)\n",
            "Requirement already satisfied: kiwisolver>=1.3.1 in /usr/local/lib/python3.11/dist-packages (from matplotlib>=3.0->lifelines) (1.4.8)\n",
            "Requirement already satisfied: packaging>=20.0 in /usr/local/lib/python3.11/dist-packages (from matplotlib>=3.0->lifelines) (24.2)\n",
            "Requirement already satisfied: pillow>=8 in /usr/local/lib/python3.11/dist-packages (from matplotlib>=3.0->lifelines) (11.2.1)\n",
            "Requirement already satisfied: pyparsing>=2.3.1 in /usr/local/lib/python3.11/dist-packages (from matplotlib>=3.0->lifelines) (3.2.3)\n",
            "Requirement already satisfied: python-dateutil>=2.7 in /usr/local/lib/python3.11/dist-packages (from matplotlib>=3.0->lifelines) (2.9.0.post0)\n",
            "Requirement already satisfied: pytz>=2020.1 in /usr/local/lib/python3.11/dist-packages (from pandas>=2.1->lifelines) (2025.2)\n",
            "Requirement already satisfied: tzdata>=2022.7 in /usr/local/lib/python3.11/dist-packages (from pandas>=2.1->lifelines) (2025.2)\n",
            "Requirement already satisfied: six>=1.5 in /usr/local/lib/python3.11/dist-packages (from python-dateutil>=2.7->matplotlib>=3.0->lifelines) (1.17.0)\n"
          ]
        }
      ]
    },
    {
      "cell_type": "code",
      "source": [
        "pip install bioservices"
      ],
      "metadata": {
        "colab": {
          "base_uri": "https://localhost:8080/"
        },
        "id": "wFVQa8i1yHys",
        "outputId": "b7975454-9fb7-458f-a20a-7505fdd673ad"
      },
      "id": "wFVQa8i1yHys",
      "execution_count": 432,
      "outputs": [
        {
          "output_type": "stream",
          "name": "stdout",
          "text": [
            "Requirement already satisfied: bioservices in /usr/local/lib/python3.11/dist-packages (1.12.1)\n",
            "Requirement already satisfied: appdirs<2.0.0,>=1.4.4 in /usr/local/lib/python3.11/dist-packages (from bioservices) (1.4.4)\n",
            "Requirement already satisfied: beautifulsoup4<5.0.0,>=4.12.3 in /usr/local/lib/python3.11/dist-packages (from bioservices) (4.13.4)\n",
            "Requirement already satisfied: click<9.0.0,>=8.1.8 in /usr/local/lib/python3.11/dist-packages (from bioservices) (8.1.8)\n",
            "Requirement already satisfied: colorlog<7.0.0,>=6.9.0 in /usr/local/lib/python3.11/dist-packages (from bioservices) (6.9.0)\n",
            "Requirement already satisfied: easydev<0.14.0,>=0.13.3 in /usr/local/lib/python3.11/dist-packages (from bioservices) (0.13.3)\n",
            "Requirement already satisfied: grequests<0.8.0,>=0.7.0 in /usr/local/lib/python3.11/dist-packages (from bioservices) (0.7.0)\n",
            "Requirement already satisfied: lxml<6.0.0,>=5.3.0 in /usr/local/lib/python3.11/dist-packages (from bioservices) (5.4.0)\n",
            "Requirement already satisfied: matplotlib>=3.9 in /usr/local/lib/python3.11/dist-packages (from bioservices) (3.10.0)\n",
            "Requirement already satisfied: pandas>2.2 in /usr/local/lib/python3.11/dist-packages (from bioservices) (2.2.2)\n",
            "Requirement already satisfied: requests<3.0.0,>=2.32.3 in /usr/local/lib/python3.11/dist-packages (from bioservices) (2.32.3)\n",
            "Requirement already satisfied: requests-cache<2.0.0,>=1.2.1 in /usr/local/lib/python3.11/dist-packages (from bioservices) (1.2.1)\n",
            "Requirement already satisfied: rich-click<2.0.0,>=1.8.5 in /usr/local/lib/python3.11/dist-packages (from bioservices) (1.8.8)\n",
            "Requirement already satisfied: suds-community<2.0.0,>=1.2.0 in /usr/local/lib/python3.11/dist-packages (from bioservices) (1.2.0)\n",
            "Requirement already satisfied: tqdm<5.0.0,>=4.67.1 in /usr/local/lib/python3.11/dist-packages (from bioservices) (4.67.1)\n",
            "Requirement already satisfied: wrapt<2.0.0,>=1.17.2 in /usr/local/lib/python3.11/dist-packages (from bioservices) (1.17.2)\n",
            "Requirement already satisfied: xmltodict<0.15.0,>=0.14.2 in /usr/local/lib/python3.11/dist-packages (from bioservices) (0.14.2)\n",
            "Requirement already satisfied: soupsieve>1.2 in /usr/local/lib/python3.11/dist-packages (from beautifulsoup4<5.0.0,>=4.12.3->bioservices) (2.7)\n",
            "Requirement already satisfied: typing-extensions>=4.0.0 in /usr/local/lib/python3.11/dist-packages (from beautifulsoup4<5.0.0,>=4.12.3->bioservices) (4.13.2)\n",
            "Requirement already satisfied: colorama<0.5.0,>=0.4.6 in /usr/local/lib/python3.11/dist-packages (from easydev<0.14.0,>=0.13.3->bioservices) (0.4.6)\n",
            "Requirement already satisfied: line-profiler<5.0.0,>=4.1.2 in /usr/local/lib/python3.11/dist-packages (from easydev<0.14.0,>=0.13.3->bioservices) (4.2.0)\n",
            "Requirement already satisfied: pexpect<5.0.0,>=4.9.0 in /usr/local/lib/python3.11/dist-packages (from easydev<0.14.0,>=0.13.3->bioservices) (4.9.0)\n",
            "Requirement already satisfied: platformdirs<5.0.0,>=4.2.0 in /usr/local/lib/python3.11/dist-packages (from easydev<0.14.0,>=0.13.3->bioservices) (4.3.7)\n",
            "Requirement already satisfied: gevent in /usr/local/lib/python3.11/dist-packages (from grequests<0.8.0,>=0.7.0->bioservices) (25.4.2)\n",
            "Requirement already satisfied: contourpy>=1.0.1 in /usr/local/lib/python3.11/dist-packages (from matplotlib>=3.9->bioservices) (1.3.2)\n",
            "Requirement already satisfied: cycler>=0.10 in /usr/local/lib/python3.11/dist-packages (from matplotlib>=3.9->bioservices) (0.12.1)\n",
            "Requirement already satisfied: fonttools>=4.22.0 in /usr/local/lib/python3.11/dist-packages (from matplotlib>=3.9->bioservices) (4.57.0)\n",
            "Requirement already satisfied: kiwisolver>=1.3.1 in /usr/local/lib/python3.11/dist-packages (from matplotlib>=3.9->bioservices) (1.4.8)\n",
            "Requirement already satisfied: numpy>=1.23 in /usr/local/lib/python3.11/dist-packages (from matplotlib>=3.9->bioservices) (2.0.2)\n",
            "Requirement already satisfied: packaging>=20.0 in /usr/local/lib/python3.11/dist-packages (from matplotlib>=3.9->bioservices) (24.2)\n",
            "Requirement already satisfied: pillow>=8 in /usr/local/lib/python3.11/dist-packages (from matplotlib>=3.9->bioservices) (11.2.1)\n",
            "Requirement already satisfied: pyparsing>=2.3.1 in /usr/local/lib/python3.11/dist-packages (from matplotlib>=3.9->bioservices) (3.2.3)\n",
            "Requirement already satisfied: python-dateutil>=2.7 in /usr/local/lib/python3.11/dist-packages (from matplotlib>=3.9->bioservices) (2.9.0.post0)\n",
            "Requirement already satisfied: pytz>=2020.1 in /usr/local/lib/python3.11/dist-packages (from pandas>2.2->bioservices) (2025.2)\n",
            "Requirement already satisfied: tzdata>=2022.7 in /usr/local/lib/python3.11/dist-packages (from pandas>2.2->bioservices) (2025.2)\n",
            "Requirement already satisfied: charset-normalizer<4,>=2 in /usr/local/lib/python3.11/dist-packages (from requests<3.0.0,>=2.32.3->bioservices) (3.4.1)\n",
            "Requirement already satisfied: idna<4,>=2.5 in /usr/local/lib/python3.11/dist-packages (from requests<3.0.0,>=2.32.3->bioservices) (3.10)\n",
            "Requirement already satisfied: urllib3<3,>=1.21.1 in /usr/local/lib/python3.11/dist-packages (from requests<3.0.0,>=2.32.3->bioservices) (2.4.0)\n",
            "Requirement already satisfied: certifi>=2017.4.17 in /usr/local/lib/python3.11/dist-packages (from requests<3.0.0,>=2.32.3->bioservices) (2025.4.26)\n",
            "Requirement already satisfied: attrs>=21.2 in /usr/local/lib/python3.11/dist-packages (from requests-cache<2.0.0,>=1.2.1->bioservices) (25.3.0)\n",
            "Requirement already satisfied: cattrs>=22.2 in /usr/local/lib/python3.11/dist-packages (from requests-cache<2.0.0,>=1.2.1->bioservices) (24.1.3)\n",
            "Requirement already satisfied: url-normalize>=1.4 in /usr/local/lib/python3.11/dist-packages (from requests-cache<2.0.0,>=1.2.1->bioservices) (2.2.1)\n",
            "Requirement already satisfied: rich>=10.7 in /usr/local/lib/python3.11/dist-packages (from rich-click<2.0.0,>=1.8.5->bioservices) (13.9.4)\n",
            "Requirement already satisfied: ptyprocess>=0.5 in /usr/local/lib/python3.11/dist-packages (from pexpect<5.0.0,>=4.9.0->easydev<0.14.0,>=0.13.3->bioservices) (0.7.0)\n",
            "Requirement already satisfied: six>=1.5 in /usr/local/lib/python3.11/dist-packages (from python-dateutil>=2.7->matplotlib>=3.9->bioservices) (1.17.0)\n",
            "Requirement already satisfied: markdown-it-py>=2.2.0 in /usr/local/lib/python3.11/dist-packages (from rich>=10.7->rich-click<2.0.0,>=1.8.5->bioservices) (3.0.0)\n",
            "Requirement already satisfied: pygments<3.0.0,>=2.13.0 in /usr/local/lib/python3.11/dist-packages (from rich>=10.7->rich-click<2.0.0,>=1.8.5->bioservices) (2.19.1)\n",
            "Requirement already satisfied: greenlet>=3.2.0 in /usr/local/lib/python3.11/dist-packages (from gevent->grequests<0.8.0,>=0.7.0->bioservices) (3.2.1)\n",
            "Requirement already satisfied: zope.event in /usr/local/lib/python3.11/dist-packages (from gevent->grequests<0.8.0,>=0.7.0->bioservices) (5.0)\n",
            "Requirement already satisfied: zope.interface in /usr/local/lib/python3.11/dist-packages (from gevent->grequests<0.8.0,>=0.7.0->bioservices) (7.2)\n",
            "Requirement already satisfied: mdurl~=0.1 in /usr/local/lib/python3.11/dist-packages (from markdown-it-py>=2.2.0->rich>=10.7->rich-click<2.0.0,>=1.8.5->bioservices) (0.1.2)\n",
            "Requirement already satisfied: setuptools in /usr/local/lib/python3.11/dist-packages (from zope.event->gevent->grequests<0.8.0,>=0.7.0->bioservices) (75.2.0)\n"
          ]
        }
      ]
    },
    {
      "cell_type": "code",
      "execution_count": 433,
      "id": "db97f998",
      "metadata": {
        "id": "db97f998"
      },
      "outputs": [],
      "source": [
        "import pandas as pd\n",
        "import numpy as np\n",
        "import random\n",
        "import tensorflow as tf\n",
        "import requests\n",
        "import matplotlib.pyplot as plt\n",
        "from sklearn.preprocessing import StandardScaler\n",
        "from sklearn.model_selection import StratifiedKFold,train_test_split\n",
        "from lifelines.utils import concordance_index\n",
        "from tensorflow.keras.models import Model\n",
        "from tensorflow.keras.callbacks import ModelCheckpoint\n",
        "from tensorflow.keras.layers import Conv2D, MaxPooling2D, Dense, Dropout, Input, Flatten, concatenate, BatchNormalization\n",
        "from tensorflow.keras.regularizers import l1_l2\n",
        "from bioservices import KEGG"
      ]
    },
    {
      "cell_type": "markdown",
      "id": "95e82bf3",
      "metadata": {
        "id": "95e82bf3"
      },
      "source": [
        "## Prepare the dataset"
      ]
    },
    {
      "cell_type": "markdown",
      "id": "b1737b96",
      "metadata": {
        "id": "b1737b96"
      },
      "source": [
        "### Clinical data"
      ]
    },
    {
      "cell_type": "markdown",
      "id": "16c2f8e7",
      "metadata": {
        "id": "16c2f8e7"
      },
      "source": [
        "#### Load the dataset"
      ]
    },
    {
      "cell_type": "code",
      "execution_count": 434,
      "id": "08f18fd3",
      "metadata": {
        "id": "08f18fd3"
      },
      "outputs": [],
      "source": [
        "clinical_data = pd.read_csv('/content/luad_clinical_patient.txt', sep='\\t')"
      ]
    },
    {
      "cell_type": "markdown",
      "id": "984b3e1f",
      "metadata": {
        "id": "984b3e1f"
      },
      "source": [
        "#### Select the relevant columns for analysis"
      ]
    },
    {
      "cell_type": "code",
      "execution_count": 435,
      "id": "336ab08f",
      "metadata": {
        "colab": {
          "base_uri": "https://localhost:8080/"
        },
        "id": "336ab08f",
        "outputId": "a3aa305e-93a1-49fc-94c8-e2c53e654b3e"
      },
      "outputs": [
        {
          "output_type": "stream",
          "name": "stdout",
          "text": [
            "   Patient Identifier   OS_STATUS OS_MONTHS\n",
            "4        TCGA-05-4244    0:LIVING         0\n",
            "5        TCGA-05-4245    0:LIVING     23.98\n",
            "6        TCGA-05-4249    0:LIVING     50.03\n",
            "7        TCGA-05-4250  1:DECEASED      3.98\n",
            "8        TCGA-05-4382    0:LIVING     19.94\n",
            "9        TCGA-05-4384    0:LIVING     13.99\n",
            "10       TCGA-05-4389    0:LIVING     44.97\n",
            "11       TCGA-05-4390    0:LIVING     36.99\n",
            "12       TCGA-05-4395  1:DECEASED         0\n",
            "13       TCGA-05-4396  1:DECEASED      9.95\n"
          ]
        }
      ],
      "source": [
        "clinical_data = clinical_data[['Patient Identifier', 'Overall Survival Status', 'Overall Survival (Months)']].loc[4:]\n",
        "clinical_data = clinical_data.rename(columns = {'Overall Survival Status' : 'OS_STATUS', 'Overall Survival (Months)' : 'OS_MONTHS'})\n",
        "\n",
        "print(clinical_data.head(10))"
      ]
    },
    {
      "cell_type": "markdown",
      "id": "540d377a",
      "metadata": {
        "id": "540d377a"
      },
      "source": [
        "#### Convert OS_MONTHS values into binary format (1 for deceased, 0 for living)"
      ]
    },
    {
      "cell_type": "code",
      "execution_count": 436,
      "id": "1b107901",
      "metadata": {
        "colab": {
          "base_uri": "https://localhost:8080/"
        },
        "id": "1b107901",
        "outputId": "3a4d85b4-5740-4ceb-a061-df8f4adcb52e"
      },
      "outputs": [
        {
          "output_type": "stream",
          "name": "stdout",
          "text": [
            "   Patient Identifier  OS_STATUS OS_MONTHS\n",
            "4        TCGA-05-4244          0         0\n",
            "5        TCGA-05-4245          0     23.98\n",
            "6        TCGA-05-4249          0     50.03\n",
            "7        TCGA-05-4250          1      3.98\n",
            "8        TCGA-05-4382          0     19.94\n",
            "9        TCGA-05-4384          0     13.99\n",
            "10       TCGA-05-4389          0     44.97\n",
            "11       TCGA-05-4390          0     36.99\n",
            "12       TCGA-05-4395          1         0\n",
            "13       TCGA-05-4396          1      9.95\n"
          ]
        }
      ],
      "source": [
        "clinical_data[\"OS_STATUS\"] = clinical_data[\"OS_STATUS\"].apply(lambda x : 1 if x.find('1:') != -1 else 0)\n",
        "\n",
        "print(clinical_data.head(10))"
      ]
    },
    {
      "cell_type": "markdown",
      "id": "3e5d7c99",
      "metadata": {
        "id": "3e5d7c99"
      },
      "source": [
        "#### Check for unnecessary data"
      ]
    },
    {
      "cell_type": "code",
      "execution_count": 437,
      "id": "587683ae",
      "metadata": {
        "colab": {
          "base_uri": "https://localhost:8080/"
        },
        "id": "587683ae",
        "outputId": "e5aed6d8-69e4-4660-c10e-91144a5cb6fd"
      },
      "outputs": [
        {
          "output_type": "stream",
          "name": "stdout",
          "text": [
            "OS_STATUS\n",
            "0    334\n",
            "1    188\n",
            "Name: count, dtype: int64\n",
            "OS_MONTHS\n",
            "[Not Available]    9\n",
            "25.99              4\n",
            "0                  4\n",
            "15.64              3\n",
            "14.29              3\n",
            "12.65              3\n",
            "18.66              3\n",
            "20.04              3\n",
            "29.43              3\n",
            "18.99              3\n",
            "Name: count, dtype: int64\n"
          ]
        }
      ],
      "source": [
        "print(clinical_data['OS_STATUS'].value_counts())\n",
        "print(clinical_data['OS_MONTHS'].value_counts().head(10))"
      ]
    },
    {
      "cell_type": "markdown",
      "id": "767554bd",
      "metadata": {
        "id": "767554bd"
      },
      "source": [
        "#### Drop rows where OS_MONTHS is 0 or '[Not Available]'"
      ]
    },
    {
      "cell_type": "code",
      "execution_count": 438,
      "id": "930c7ae7",
      "metadata": {
        "colab": {
          "base_uri": "https://localhost:8080/"
        },
        "id": "930c7ae7",
        "outputId": "e441df11-de33-4174-8417-3782d6007e55"
      },
      "outputs": [
        {
          "output_type": "stream",
          "name": "stdout",
          "text": [
            "   Patient Identifier  OS_STATUS OS_MONTHS\n",
            "5        TCGA-05-4245          0     23.98\n",
            "6        TCGA-05-4249          0     50.03\n",
            "7        TCGA-05-4250          1      3.98\n",
            "8        TCGA-05-4382          0     19.94\n",
            "9        TCGA-05-4384          0     13.99\n",
            "10       TCGA-05-4389          0     44.97\n",
            "11       TCGA-05-4390          0     36.99\n",
            "13       TCGA-05-4396          1      9.95\n",
            "14       TCGA-05-4397          1     24.01\n",
            "15       TCGA-05-4398          0     47.01\n"
          ]
        }
      ],
      "source": [
        "clinical_data = clinical_data[\n",
        "    (clinical_data['OS_MONTHS'] != '0') &\n",
        "    (clinical_data['OS_MONTHS'] != '[Not Available]')\n",
        "]\n",
        "\n",
        "print(clinical_data.head(10))"
      ]
    },
    {
      "cell_type": "markdown",
      "id": "5204e061",
      "metadata": {
        "id": "5204e061"
      },
      "source": [
        "#### Reset the index to start from 0"
      ]
    },
    {
      "cell_type": "code",
      "execution_count": 439,
      "id": "d0a78b69",
      "metadata": {
        "colab": {
          "base_uri": "https://localhost:8080/"
        },
        "id": "d0a78b69",
        "outputId": "4df582df-f329-4d3d-c079-f914426bd3d1"
      },
      "outputs": [
        {
          "output_type": "stream",
          "name": "stdout",
          "text": [
            "  Patient Identifier  OS_STATUS OS_MONTHS\n",
            "0       TCGA-05-4245          0     23.98\n",
            "1       TCGA-05-4249          0     50.03\n",
            "2       TCGA-05-4250          1      3.98\n",
            "3       TCGA-05-4382          0     19.94\n",
            "4       TCGA-05-4384          0     13.99\n",
            "5       TCGA-05-4389          0     44.97\n",
            "6       TCGA-05-4390          0     36.99\n",
            "7       TCGA-05-4396          1      9.95\n",
            "8       TCGA-05-4397          1     24.01\n",
            "9       TCGA-05-4398          0     47.01\n"
          ]
        }
      ],
      "source": [
        "clinical_data = clinical_data.reset_index(drop=True)\n",
        "\n",
        "print(clinical_data.head(10))"
      ]
    },
    {
      "cell_type": "markdown",
      "id": "6bf57b79",
      "metadata": {
        "id": "6bf57b79"
      },
      "source": [
        "### Gene data"
      ]
    },
    {
      "cell_type": "markdown",
      "id": "c40a3937",
      "metadata": {
        "id": "c40a3937"
      },
      "source": [
        "#### Load the dataset"
      ]
    },
    {
      "cell_type": "code",
      "execution_count": 440,
      "id": "9bcb35be",
      "metadata": {
        "colab": {
          "base_uri": "https://localhost:8080/"
        },
        "id": "9bcb35be",
        "outputId": "f9708a24-901f-4091-b561-16c48aeeaee9"
      },
      "outputs": [
        {
          "output_type": "stream",
          "name": "stdout",
          "text": [
            "                        0          1          2        3       4       5      \\\n",
            "Hugo_Symbol      LOC100130426   UBE2Q2P3   UBE2Q2P3  HMGB1P1  TIMM23   MOXD2   \n",
            "Entrez_Gene_Id      100130426  100133144  100134869    10357   10431  136542   \n",
            "TCGA-05-4244-01       -2.2883      0.038     0.0691  -1.9057 -0.0395     NaN   \n",
            "TCGA-05-4249-01       -2.2883    -0.3514     0.1971   -0.295  0.1945     NaN   \n",
            "TCGA-05-4250-01       -2.2883    -0.3435    -0.7239  -1.9091  0.7761     NaN   \n",
            "...                       ...        ...        ...      ...     ...     ...   \n",
            "TCGA-NJ-A55O-01       -2.2883     0.5729     1.0176  -0.0218  0.0408     NaN   \n",
            "TCGA-NJ-A55R-01       -2.2883    -0.1679    -0.0462  -0.8099 -0.3206     NaN   \n",
            "TCGA-NJ-A7XG-01       -2.2883     1.8645     2.7613  -0.4522 -0.6611     NaN   \n",
            "TCGA-O1-A52J-01       -2.2883     0.4532      1.087  -1.3473  0.7679     NaN   \n",
            "TCGA-S2-AA1A-01       -2.2883     0.9225    -0.2293  -0.7319  -1.161     NaN   \n",
            "\n",
            "                     6         7       8          9      ...   20521   20522  \\\n",
            "Hugo_Symbol      LOC155060  RNU12-2P    SSX9  LOC317712  ...    ZXDA    ZXDB   \n",
            "Entrez_Gene_Id      155060     26823  280660     317712  ...    7789  158586   \n",
            "TCGA-05-4244-01     1.0624    0.5387 -1.2501        NaN  ... -0.2092 -0.4448   \n",
            "TCGA-05-4249-01     -0.069    1.4599 -1.2501        NaN  ...  0.7816  0.8157   \n",
            "TCGA-05-4250-01    -1.4074   -2.1796 -1.2501        NaN  ...  0.7041  0.0911   \n",
            "...                    ...       ...     ...        ...  ...     ...     ...   \n",
            "TCGA-NJ-A55O-01     0.6719    0.7543 -1.2501        NaN  ... -0.1517 -0.1613   \n",
            "TCGA-NJ-A55R-01      1.154     -0.12 -1.2501        NaN  ...  0.3282  0.1494   \n",
            "TCGA-NJ-A7XG-01      1.022   -2.1796 -1.2501        NaN  ... -2.0722 -1.7646   \n",
            "TCGA-O1-A52J-01     0.1428    2.9555 -1.2501        NaN  ...  2.5448  1.1317   \n",
            "TCGA-S2-AA1A-01     1.1789   -0.2677 -1.2501        NaN  ...  0.7138  0.0837   \n",
            "\n",
            "                  20523   20524   20525   20526     20527   20528   20529  \\\n",
            "Hugo_Symbol        ZXDC  ZYG11A  ZYG11B     ZYX  FLJ10821    ZZZ3  TPTEP1   \n",
            "Entrez_Gene_Id    79364  440590   79699    7791     23140   26009  387590   \n",
            "TCGA-05-4244-01 -0.2293 -1.8833   0.985 -0.4967   -0.2737 -0.4482 -1.0407   \n",
            "TCGA-05-4249-01  0.4243 -0.1788 -0.1119 -0.8791    0.3183  0.0984  1.0324   \n",
            "TCGA-05-4250-01 -0.6346 -0.0054 -1.8251  0.8248    0.3805 -0.6777 -1.0698   \n",
            "...                 ...     ...     ...     ...       ...     ...     ...   \n",
            "TCGA-NJ-A55O-01   0.225 -0.2732  -0.386   0.293    0.6698 -0.3969  1.7447   \n",
            "TCGA-NJ-A55R-01  1.1546  0.4441 -0.2421 -0.3319    1.5561 -0.2637  1.9706   \n",
            "TCGA-NJ-A7XG-01  0.5444 -0.6192 -1.4443 -1.2127    0.8153 -1.3431 -1.1463   \n",
            "TCGA-O1-A52J-01  0.7244 -1.9766 -0.1344  0.4326    0.9605 -1.0035  1.0542   \n",
            "TCGA-S2-AA1A-01  1.8159 -0.8773 -0.9062  0.7905    1.0496 -0.8107  1.4044   \n",
            "\n",
            "                   20530  \n",
            "Hugo_Symbol      AKR1C6P  \n",
            "Entrez_Gene_Id    389932  \n",
            "TCGA-05-4244-01  -1.2966  \n",
            "TCGA-05-4249-01  -1.2966  \n",
            "TCGA-05-4250-01  -1.2966  \n",
            "...                  ...  \n",
            "TCGA-NJ-A55O-01  -1.2966  \n",
            "TCGA-NJ-A55R-01   0.5663  \n",
            "TCGA-NJ-A7XG-01  -1.2966  \n",
            "TCGA-O1-A52J-01  -0.3735  \n",
            "TCGA-S2-AA1A-01  -1.2966  \n",
            "\n",
            "[519 rows x 20531 columns]\n"
          ]
        }
      ],
      "source": [
        "gene_data = pd.read_csv('/content/luad_gene_data.txt', sep='\\t').T\n",
        "\n",
        "print(gene_data)"
      ]
    },
    {
      "cell_type": "markdown",
      "source": [
        "#### Change the column name as gene symbol"
      ],
      "metadata": {
        "id": "wdeHNb3kzhnD"
      },
      "id": "wdeHNb3kzhnD"
    },
    {
      "cell_type": "code",
      "source": [
        "gene_data.columns = gene_data.iloc[0]\n",
        "gene_data = gene_data.drop(['Hugo_Symbol', 'Entrez_Gene_Id'])\n",
        "gene_data = gene_data.astype(float)\n",
        "\n",
        "print(gene_data)"
      ],
      "metadata": {
        "colab": {
          "base_uri": "https://localhost:8080/"
        },
        "id": "ww7i_hKXzlG8",
        "outputId": "dc8ecad9-41b3-4414-de39-cb365ed897f2"
      },
      "id": "ww7i_hKXzlG8",
      "execution_count": 441,
      "outputs": [
        {
          "output_type": "stream",
          "name": "stdout",
          "text": [
            "Hugo_Symbol      LOC100130426  UBE2Q2P3  UBE2Q2P3  HMGB1P1  TIMM23  MOXD2  \\\n",
            "TCGA-05-4244-01       -2.2883    0.0380    0.0691  -1.9057 -0.0395    NaN   \n",
            "TCGA-05-4249-01       -2.2883   -0.3514    0.1971  -0.2950  0.1945    NaN   \n",
            "TCGA-05-4250-01       -2.2883   -0.3435   -0.7239  -1.9091  0.7761    NaN   \n",
            "TCGA-05-4382-01       -2.2883    0.1873   -0.4402  -0.5333 -0.1787    NaN   \n",
            "TCGA-05-4384-01       -2.2883   -1.2251   -1.3555  -0.8895 -1.1778    NaN   \n",
            "...                       ...       ...       ...      ...     ...    ...   \n",
            "TCGA-NJ-A55O-01       -2.2883    0.5729    1.0176  -0.0218  0.0408    NaN   \n",
            "TCGA-NJ-A55R-01       -2.2883   -0.1679   -0.0462  -0.8099 -0.3206    NaN   \n",
            "TCGA-NJ-A7XG-01       -2.2883    1.8645    2.7613  -0.4522 -0.6611    NaN   \n",
            "TCGA-O1-A52J-01       -2.2883    0.4532    1.0870  -1.3473  0.7679    NaN   \n",
            "TCGA-S2-AA1A-01       -2.2883    0.9225   -0.2293  -0.7319 -1.1610    NaN   \n",
            "\n",
            "Hugo_Symbol      LOC155060  RNU12-2P    SSX9  LOC317712  ...    ZXDA    ZXDB  \\\n",
            "TCGA-05-4244-01     1.0624    0.5387 -1.2501        NaN  ... -0.2092 -0.4448   \n",
            "TCGA-05-4249-01    -0.0690    1.4599 -1.2501        NaN  ...  0.7816  0.8157   \n",
            "TCGA-05-4250-01    -1.4074   -2.1796 -1.2501        NaN  ...  0.7041  0.0911   \n",
            "TCGA-05-4382-01     0.5870   -0.6958 -0.9868        NaN  ... -0.1734 -0.0352   \n",
            "TCGA-05-4384-01     0.7614   -0.3706 -1.2501        NaN  ...  1.3474  1.1341   \n",
            "...                    ...       ...     ...        ...  ...     ...     ...   \n",
            "TCGA-NJ-A55O-01     0.6719    0.7543 -1.2501        NaN  ... -0.1517 -0.1613   \n",
            "TCGA-NJ-A55R-01     1.1540   -0.1200 -1.2501        NaN  ...  0.3282  0.1494   \n",
            "TCGA-NJ-A7XG-01     1.0220   -2.1796 -1.2501        NaN  ... -2.0722 -1.7646   \n",
            "TCGA-O1-A52J-01     0.1428    2.9555 -1.2501        NaN  ...  2.5448  1.1317   \n",
            "TCGA-S2-AA1A-01     1.1789   -0.2677 -1.2501        NaN  ...  0.7138  0.0837   \n",
            "\n",
            "Hugo_Symbol        ZXDC  ZYG11A  ZYG11B     ZYX  FLJ10821    ZZZ3  TPTEP1  \\\n",
            "TCGA-05-4244-01 -0.2293 -1.8833  0.9850 -0.4967   -0.2737 -0.4482 -1.0407   \n",
            "TCGA-05-4249-01  0.4243 -0.1788 -0.1119 -0.8791    0.3183  0.0984  1.0324   \n",
            "TCGA-05-4250-01 -0.6346 -0.0054 -1.8251  0.8248    0.3805 -0.6777 -1.0698   \n",
            "TCGA-05-4382-01 -0.2710  0.5825  0.3717  1.2704    0.3781 -0.0188 -0.0218   \n",
            "TCGA-05-4384-01  0.7826 -0.7635 -0.1493 -0.1648    1.2559  0.2385  1.5166   \n",
            "...                 ...     ...     ...     ...       ...     ...     ...   \n",
            "TCGA-NJ-A55O-01  0.2250 -0.2732 -0.3860  0.2930    0.6698 -0.3969  1.7447   \n",
            "TCGA-NJ-A55R-01  1.1546  0.4441 -0.2421 -0.3319    1.5561 -0.2637  1.9706   \n",
            "TCGA-NJ-A7XG-01  0.5444 -0.6192 -1.4443 -1.2127    0.8153 -1.3431 -1.1463   \n",
            "TCGA-O1-A52J-01  0.7244 -1.9766 -0.1344  0.4326    0.9605 -1.0035  1.0542   \n",
            "TCGA-S2-AA1A-01  1.8159 -0.8773 -0.9062  0.7905    1.0496 -0.8107  1.4044   \n",
            "\n",
            "Hugo_Symbol      AKR1C6P  \n",
            "TCGA-05-4244-01  -1.2966  \n",
            "TCGA-05-4249-01  -1.2966  \n",
            "TCGA-05-4250-01  -1.2966  \n",
            "TCGA-05-4382-01  -1.2966  \n",
            "TCGA-05-4384-01  -1.2966  \n",
            "...                  ...  \n",
            "TCGA-NJ-A55O-01  -1.2966  \n",
            "TCGA-NJ-A55R-01   0.5663  \n",
            "TCGA-NJ-A7XG-01  -1.2966  \n",
            "TCGA-O1-A52J-01  -0.3735  \n",
            "TCGA-S2-AA1A-01  -1.2966  \n",
            "\n",
            "[517 rows x 20531 columns]\n"
          ]
        }
      ]
    },
    {
      "cell_type": "markdown",
      "source": [
        "#### Drop columns with any NaN values"
      ],
      "metadata": {
        "id": "O1bORicZ0Lp1"
      },
      "id": "O1bORicZ0Lp1"
    },
    {
      "cell_type": "code",
      "source": [
        "gene_data = gene_data.dropna(axis=1)\n",
        "\n",
        "print(gene_data)"
      ],
      "metadata": {
        "colab": {
          "base_uri": "https://localhost:8080/"
        },
        "id": "vgY_ZOPT0TOW",
        "outputId": "4a12b202-fc2f-4739-c695-7636b5cedccc"
      },
      "id": "vgY_ZOPT0TOW",
      "execution_count": 442,
      "outputs": [
        {
          "output_type": "stream",
          "name": "stdout",
          "text": [
            "Hugo_Symbol      LOC100130426  UBE2Q2P3  UBE2Q2P3  HMGB1P1  TIMM23  LOC155060  \\\n",
            "TCGA-05-4244-01       -2.2883    0.0380    0.0691  -1.9057 -0.0395     1.0624   \n",
            "TCGA-05-4249-01       -2.2883   -0.3514    0.1971  -0.2950  0.1945    -0.0690   \n",
            "TCGA-05-4250-01       -2.2883   -0.3435   -0.7239  -1.9091  0.7761    -1.4074   \n",
            "TCGA-05-4382-01       -2.2883    0.1873   -0.4402  -0.5333 -0.1787     0.5870   \n",
            "TCGA-05-4384-01       -2.2883   -1.2251   -1.3555  -0.8895 -1.1778     0.7614   \n",
            "...                       ...       ...       ...      ...     ...        ...   \n",
            "TCGA-NJ-A55O-01       -2.2883    0.5729    1.0176  -0.0218  0.0408     0.6719   \n",
            "TCGA-NJ-A55R-01       -2.2883   -0.1679   -0.0462  -0.8099 -0.3206     1.1540   \n",
            "TCGA-NJ-A7XG-01       -2.2883    1.8645    2.7613  -0.4522 -0.6611     1.0220   \n",
            "TCGA-O1-A52J-01       -2.2883    0.4532    1.0870  -1.3473  0.7679     0.1428   \n",
            "TCGA-S2-AA1A-01       -2.2883    0.9225   -0.2293  -0.7319 -1.1610     1.1789   \n",
            "\n",
            "Hugo_Symbol      RNU12-2P    SSX9   EZHIP  EFCAB8  ...    ZXDA    ZXDB  \\\n",
            "TCGA-05-4244-01    0.5387 -1.2501 -0.9569  1.3884  ... -0.2092 -0.4448   \n",
            "TCGA-05-4249-01    1.4599 -1.2501 -0.9569 -0.2834  ...  0.7816  0.8157   \n",
            "TCGA-05-4250-01   -2.1796 -1.2501 -0.9569 -1.6633  ...  0.7041  0.0911   \n",
            "TCGA-05-4382-01   -0.6958 -0.9868  1.1884 -0.1789  ... -0.1734 -0.0352   \n",
            "TCGA-05-4384-01   -0.3706 -1.2501 -0.9569 -0.3323  ...  1.3474  1.1341   \n",
            "...                   ...     ...     ...     ...  ...     ...     ...   \n",
            "TCGA-NJ-A55O-01    0.7543 -1.2501 -0.9569 -1.6633  ... -0.1517 -0.1613   \n",
            "TCGA-NJ-A55R-01   -0.1200 -1.2501  0.1089  2.9233  ...  0.3282  0.1494   \n",
            "TCGA-NJ-A7XG-01   -2.1796 -1.2501 -0.9569  0.7316  ... -2.0722 -1.7646   \n",
            "TCGA-O1-A52J-01    2.9555 -1.2501  0.5042 -0.1792  ...  2.5448  1.1317   \n",
            "TCGA-S2-AA1A-01   -0.2677 -1.2501  0.3220  1.2050  ...  0.7138  0.0837   \n",
            "\n",
            "Hugo_Symbol        ZXDC  ZYG11A  ZYG11B     ZYX  FLJ10821    ZZZ3  TPTEP1  \\\n",
            "TCGA-05-4244-01 -0.2293 -1.8833  0.9850 -0.4967   -0.2737 -0.4482 -1.0407   \n",
            "TCGA-05-4249-01  0.4243 -0.1788 -0.1119 -0.8791    0.3183  0.0984  1.0324   \n",
            "TCGA-05-4250-01 -0.6346 -0.0054 -1.8251  0.8248    0.3805 -0.6777 -1.0698   \n",
            "TCGA-05-4382-01 -0.2710  0.5825  0.3717  1.2704    0.3781 -0.0188 -0.0218   \n",
            "TCGA-05-4384-01  0.7826 -0.7635 -0.1493 -0.1648    1.2559  0.2385  1.5166   \n",
            "...                 ...     ...     ...     ...       ...     ...     ...   \n",
            "TCGA-NJ-A55O-01  0.2250 -0.2732 -0.3860  0.2930    0.6698 -0.3969  1.7447   \n",
            "TCGA-NJ-A55R-01  1.1546  0.4441 -0.2421 -0.3319    1.5561 -0.2637  1.9706   \n",
            "TCGA-NJ-A7XG-01  0.5444 -0.6192 -1.4443 -1.2127    0.8153 -1.3431 -1.1463   \n",
            "TCGA-O1-A52J-01  0.7244 -1.9766 -0.1344  0.4326    0.9605 -1.0035  1.0542   \n",
            "TCGA-S2-AA1A-01  1.8159 -0.8773 -0.9062  0.7905    1.0496 -0.8107  1.4044   \n",
            "\n",
            "Hugo_Symbol      AKR1C6P  \n",
            "TCGA-05-4244-01  -1.2966  \n",
            "TCGA-05-4249-01  -1.2966  \n",
            "TCGA-05-4250-01  -1.2966  \n",
            "TCGA-05-4382-01  -1.2966  \n",
            "TCGA-05-4384-01  -1.2966  \n",
            "...                  ...  \n",
            "TCGA-NJ-A55O-01  -1.2966  \n",
            "TCGA-NJ-A55R-01   0.5663  \n",
            "TCGA-NJ-A7XG-01  -1.2966  \n",
            "TCGA-O1-A52J-01  -0.3735  \n",
            "TCGA-S2-AA1A-01  -1.2966  \n",
            "\n",
            "[517 rows x 20113 columns]\n"
          ]
        }
      ]
    },
    {
      "cell_type": "markdown",
      "source": [
        "#### Remove the last '-01' part in index"
      ],
      "metadata": {
        "id": "RVinRjvUkOcr"
      },
      "id": "RVinRjvUkOcr"
    },
    {
      "cell_type": "code",
      "source": [
        "gene_data.index = gene_data.index.astype(str)\n",
        "gene_data.index = gene_data.index.str.replace(r'-\\d+$', '', regex=True)\n",
        "\n",
        "print(gene_data)"
      ],
      "metadata": {
        "colab": {
          "base_uri": "https://localhost:8080/"
        },
        "id": "dfTPtGavkN7j",
        "outputId": "73c06c25-e3fc-48dc-c881-72a1f56a4c7a"
      },
      "id": "dfTPtGavkN7j",
      "execution_count": 443,
      "outputs": [
        {
          "output_type": "stream",
          "name": "stdout",
          "text": [
            "Hugo_Symbol   LOC100130426  UBE2Q2P3  UBE2Q2P3  HMGB1P1  TIMM23  LOC155060  \\\n",
            "TCGA-05-4244       -2.2883    0.0380    0.0691  -1.9057 -0.0395     1.0624   \n",
            "TCGA-05-4249       -2.2883   -0.3514    0.1971  -0.2950  0.1945    -0.0690   \n",
            "TCGA-05-4250       -2.2883   -0.3435   -0.7239  -1.9091  0.7761    -1.4074   \n",
            "TCGA-05-4382       -2.2883    0.1873   -0.4402  -0.5333 -0.1787     0.5870   \n",
            "TCGA-05-4384       -2.2883   -1.2251   -1.3555  -0.8895 -1.1778     0.7614   \n",
            "...                    ...       ...       ...      ...     ...        ...   \n",
            "TCGA-NJ-A55O       -2.2883    0.5729    1.0176  -0.0218  0.0408     0.6719   \n",
            "TCGA-NJ-A55R       -2.2883   -0.1679   -0.0462  -0.8099 -0.3206     1.1540   \n",
            "TCGA-NJ-A7XG       -2.2883    1.8645    2.7613  -0.4522 -0.6611     1.0220   \n",
            "TCGA-O1-A52J       -2.2883    0.4532    1.0870  -1.3473  0.7679     0.1428   \n",
            "TCGA-S2-AA1A       -2.2883    0.9225   -0.2293  -0.7319 -1.1610     1.1789   \n",
            "\n",
            "Hugo_Symbol   RNU12-2P    SSX9   EZHIP  EFCAB8  ...    ZXDA    ZXDB    ZXDC  \\\n",
            "TCGA-05-4244    0.5387 -1.2501 -0.9569  1.3884  ... -0.2092 -0.4448 -0.2293   \n",
            "TCGA-05-4249    1.4599 -1.2501 -0.9569 -0.2834  ...  0.7816  0.8157  0.4243   \n",
            "TCGA-05-4250   -2.1796 -1.2501 -0.9569 -1.6633  ...  0.7041  0.0911 -0.6346   \n",
            "TCGA-05-4382   -0.6958 -0.9868  1.1884 -0.1789  ... -0.1734 -0.0352 -0.2710   \n",
            "TCGA-05-4384   -0.3706 -1.2501 -0.9569 -0.3323  ...  1.3474  1.1341  0.7826   \n",
            "...                ...     ...     ...     ...  ...     ...     ...     ...   \n",
            "TCGA-NJ-A55O    0.7543 -1.2501 -0.9569 -1.6633  ... -0.1517 -0.1613  0.2250   \n",
            "TCGA-NJ-A55R   -0.1200 -1.2501  0.1089  2.9233  ...  0.3282  0.1494  1.1546   \n",
            "TCGA-NJ-A7XG   -2.1796 -1.2501 -0.9569  0.7316  ... -2.0722 -1.7646  0.5444   \n",
            "TCGA-O1-A52J    2.9555 -1.2501  0.5042 -0.1792  ...  2.5448  1.1317  0.7244   \n",
            "TCGA-S2-AA1A   -0.2677 -1.2501  0.3220  1.2050  ...  0.7138  0.0837  1.8159   \n",
            "\n",
            "Hugo_Symbol   ZYG11A  ZYG11B     ZYX  FLJ10821    ZZZ3  TPTEP1  AKR1C6P  \n",
            "TCGA-05-4244 -1.8833  0.9850 -0.4967   -0.2737 -0.4482 -1.0407  -1.2966  \n",
            "TCGA-05-4249 -0.1788 -0.1119 -0.8791    0.3183  0.0984  1.0324  -1.2966  \n",
            "TCGA-05-4250 -0.0054 -1.8251  0.8248    0.3805 -0.6777 -1.0698  -1.2966  \n",
            "TCGA-05-4382  0.5825  0.3717  1.2704    0.3781 -0.0188 -0.0218  -1.2966  \n",
            "TCGA-05-4384 -0.7635 -0.1493 -0.1648    1.2559  0.2385  1.5166  -1.2966  \n",
            "...              ...     ...     ...       ...     ...     ...      ...  \n",
            "TCGA-NJ-A55O -0.2732 -0.3860  0.2930    0.6698 -0.3969  1.7447  -1.2966  \n",
            "TCGA-NJ-A55R  0.4441 -0.2421 -0.3319    1.5561 -0.2637  1.9706   0.5663  \n",
            "TCGA-NJ-A7XG -0.6192 -1.4443 -1.2127    0.8153 -1.3431 -1.1463  -1.2966  \n",
            "TCGA-O1-A52J -1.9766 -0.1344  0.4326    0.9605 -1.0035  1.0542  -0.3735  \n",
            "TCGA-S2-AA1A -0.8773 -0.9062  0.7905    1.0496 -0.8107  1.4044  -1.2966  \n",
            "\n",
            "[517 rows x 20113 columns]\n"
          ]
        }
      ]
    },
    {
      "cell_type": "markdown",
      "source": [
        "#### Check and control the duplicated genes"
      ],
      "metadata": {
        "id": "B5Dn8O3N2ITL"
      },
      "id": "B5Dn8O3N2ITL"
    },
    {
      "cell_type": "code",
      "source": [
        "duplicated_genes = gene_data.columns[gene_data.columns.duplicated()]\n",
        "\n",
        "print(duplicated_genes)\n",
        "print(len(duplicated_genes))"
      ],
      "metadata": {
        "colab": {
          "base_uri": "https://localhost:8080/"
        },
        "id": "bR8vHUyD2NTX",
        "outputId": "e924d8d5-e4a6-4af1-f6d7-2f5d0a77a813"
      },
      "id": "bR8vHUyD2NTX",
      "execution_count": 444,
      "outputs": [
        {
          "output_type": "stream",
          "name": "stdout",
          "text": [
            "Index(['UBE2Q2P3', 'CC2D2B', 'CCDC7', 'CYorf15B', 'C1orf84', 'LINC00875',\n",
            "       'ELMOD1', 'NBPF16', 'NEBL', 'NKAIN3', 'C5orf23', 'PALM2AKAP2',\n",
            "       'PLEKHG7', 'QSOX1', 'SH3D20', 'SNAP47', 'NCRNA00185'],\n",
            "      dtype='object', name='Hugo_Symbol')\n",
            "17\n"
          ]
        }
      ]
    },
    {
      "cell_type": "code",
      "source": [
        "for gene in duplicated_genes:\n",
        "  var_gene = np.var(gene_data[gene])\n",
        "\n",
        "  if var_gene.values[0] < var_gene.values[1]:\n",
        "    gene_data[gene] = gene_data[gene].iloc[:, 1]\n",
        "  else:\n",
        "    gene_data[gene] = gene_data[gene].iloc[:, 0]\n",
        "\n",
        "gene_data = gene_data.iloc[:, ~gene_data.columns.duplicated()]\n",
        "print(gene_data)"
      ],
      "metadata": {
        "colab": {
          "base_uri": "https://localhost:8080/"
        },
        "id": "58qQPIx2JKuV",
        "outputId": "a382913a-6a97-49e0-8a18-da446bffc490"
      },
      "id": "58qQPIx2JKuV",
      "execution_count": 445,
      "outputs": [
        {
          "output_type": "stream",
          "name": "stderr",
          "text": [
            "/usr/local/lib/python3.11/dist-packages/numpy/_core/fromnumeric.py:4006: FutureWarning: The behavior of DataFrame.var with axis=None is deprecated, in a future version this will reduce over both axes and return a scalar. To retain the old behavior, pass axis=0 (or do not pass axis)\n",
            "  return var(axis=axis, dtype=dtype, out=out, ddof=ddof, **kwargs)\n"
          ]
        },
        {
          "output_type": "stream",
          "name": "stdout",
          "text": [
            "Hugo_Symbol   LOC100130426  UBE2Q2P3  HMGB1P1  TIMM23  LOC155060  RNU12-2P  \\\n",
            "TCGA-05-4244       -2.2883    0.0380  -1.9057 -0.0395     1.0624    0.5387   \n",
            "TCGA-05-4249       -2.2883   -0.3514  -0.2950  0.1945    -0.0690    1.4599   \n",
            "TCGA-05-4250       -2.2883   -0.3435  -1.9091  0.7761    -1.4074   -2.1796   \n",
            "TCGA-05-4382       -2.2883    0.1873  -0.5333 -0.1787     0.5870   -0.6958   \n",
            "TCGA-05-4384       -2.2883   -1.2251  -0.8895 -1.1778     0.7614   -0.3706   \n",
            "...                    ...       ...      ...     ...        ...       ...   \n",
            "TCGA-NJ-A55O       -2.2883    0.5729  -0.0218  0.0408     0.6719    0.7543   \n",
            "TCGA-NJ-A55R       -2.2883   -0.1679  -0.8099 -0.3206     1.1540   -0.1200   \n",
            "TCGA-NJ-A7XG       -2.2883    1.8645  -0.4522 -0.6611     1.0220   -2.1796   \n",
            "TCGA-O1-A52J       -2.2883    0.4532  -1.3473  0.7679     0.1428    2.9555   \n",
            "TCGA-S2-AA1A       -2.2883    0.9225  -0.7319 -1.1610     1.1789   -0.2677   \n",
            "\n",
            "Hugo_Symbol     SSX9   EZHIP  EFCAB8  SRP14P1  ...    ZXDA    ZXDB    ZXDC  \\\n",
            "TCGA-05-4244 -1.2501 -0.9569  1.3884   0.1027  ... -0.2092 -0.4448 -0.2293   \n",
            "TCGA-05-4249 -1.2501 -0.9569 -0.2834  -0.0119  ...  0.7816  0.8157  0.4243   \n",
            "TCGA-05-4250 -1.2501 -0.9569 -1.6633  -0.0611  ...  0.7041  0.0911 -0.6346   \n",
            "TCGA-05-4382 -0.9868  1.1884 -0.1789  -0.2600  ... -0.1734 -0.0352 -0.2710   \n",
            "TCGA-05-4384 -1.2501 -0.9569 -0.3323   0.2313  ...  1.3474  1.1341  0.7826   \n",
            "...              ...     ...     ...      ...  ...     ...     ...     ...   \n",
            "TCGA-NJ-A55O -1.2501 -0.9569 -1.6633  -0.1497  ... -0.1517 -0.1613  0.2250   \n",
            "TCGA-NJ-A55R -1.2501  0.1089  2.9233  -1.7395  ...  0.3282  0.1494  1.1546   \n",
            "TCGA-NJ-A7XG -1.2501 -0.9569  0.7316  -1.6127  ... -2.0722 -1.7646  0.5444   \n",
            "TCGA-O1-A52J -1.2501  0.5042 -0.1792  -0.1152  ...  2.5448  1.1317  0.7244   \n",
            "TCGA-S2-AA1A -1.2501  0.3220  1.2050  -1.2385  ...  0.7138  0.0837  1.8159   \n",
            "\n",
            "Hugo_Symbol   ZYG11A  ZYG11B     ZYX  FLJ10821    ZZZ3  TPTEP1  AKR1C6P  \n",
            "TCGA-05-4244 -1.8833  0.9850 -0.4967   -0.2737 -0.4482 -1.0407  -1.2966  \n",
            "TCGA-05-4249 -0.1788 -0.1119 -0.8791    0.3183  0.0984  1.0324  -1.2966  \n",
            "TCGA-05-4250 -0.0054 -1.8251  0.8248    0.3805 -0.6777 -1.0698  -1.2966  \n",
            "TCGA-05-4382  0.5825  0.3717  1.2704    0.3781 -0.0188 -0.0218  -1.2966  \n",
            "TCGA-05-4384 -0.7635 -0.1493 -0.1648    1.2559  0.2385  1.5166  -1.2966  \n",
            "...              ...     ...     ...       ...     ...     ...      ...  \n",
            "TCGA-NJ-A55O -0.2732 -0.3860  0.2930    0.6698 -0.3969  1.7447  -1.2966  \n",
            "TCGA-NJ-A55R  0.4441 -0.2421 -0.3319    1.5561 -0.2637  1.9706   0.5663  \n",
            "TCGA-NJ-A7XG -0.6192 -1.4443 -1.2127    0.8153 -1.3431 -1.1463  -1.2966  \n",
            "TCGA-O1-A52J -1.9766 -0.1344  0.4326    0.9605 -1.0035  1.0542  -0.3735  \n",
            "TCGA-S2-AA1A -0.8773 -0.9062  0.7905    1.0496 -0.8107  1.4044  -1.2966  \n",
            "\n",
            "[517 rows x 20096 columns]\n"
          ]
        }
      ]
    },
    {
      "cell_type": "markdown",
      "source": [
        "## Feature Selection"
      ],
      "metadata": {
        "id": "jNQt0Z3qMrqR"
      },
      "id": "jNQt0Z3qMrqR"
    },
    {
      "cell_type": "markdown",
      "source": [
        "### 1. Variance-based Univariate Selection(Top 500)"
      ],
      "metadata": {
        "id": "2cB5yVOjMF57"
      },
      "id": "2cB5yVOjMF57"
    },
    {
      "cell_type": "code",
      "source": [
        "def variance_selection(gene_data):\n",
        "  # Calculate variance by column\n",
        "  variances = gene_data.var(axis=0)\n",
        "  top_100_variance = variances.sort_values(ascending=False).head(100)\n",
        "\n",
        "  return top_100_variance.index"
      ],
      "metadata": {
        "id": "VUnMRZwLxktT"
      },
      "id": "VUnMRZwLxktT",
      "execution_count": 446,
      "outputs": []
    },
    {
      "cell_type": "markdown",
      "source": [
        "### 2. Specific gene data"
      ],
      "metadata": {
        "id": "GKQre_r5kOFz"
      },
      "id": "GKQre_r5kOFz"
    },
    {
      "cell_type": "code",
      "source": [
        "def specific_gene_selection(gene_data):\n",
        "  specific_gene = []\n",
        "  if 'ANLN' in gene_data.columns:\n",
        "    specific_gene.append('ANLN')\n",
        "  if 'RACGAP1' in gene_data.columns:\n",
        "    specific_gene.append('RACGAP1')\n",
        "  if 'KIF4A' in gene_data.columns:\n",
        "    specific_gene.append('KIF4A')\n",
        "  if 'KIF20A' in gene_data.columns:\n",
        "    specific_gene.append('KIF20A')\n",
        "  if 'KIF14' in gene_data.columns:\n",
        "    specific_gene.append('KIF14')\n",
        "  if 'ASPM' in gene_data.columns:\n",
        "    specific_gene.append('ASPM')\n",
        "  if 'CDK1' in gene_data.columns:\n",
        "    specific_gene.append('CDK1')\n",
        "  if 'SPC25' in gene_data.columns:\n",
        "    specific_gene.append('SPC25')\n",
        "  if 'NCAPG' in gene_data.columns:\n",
        "    specific_gene.append('NCAPG')\n",
        "  if 'MKI67' in gene_data.columns:\n",
        "    specific_gene.append('MKI67')\n",
        "  if 'JHURP' in gene_data.columns:\n",
        "    specific_gene.append('JHURP')\n",
        "  if 'EXO1' in gene_data.columns:\n",
        "    specific_gene.append('EXO1')\n",
        "  if 'HMMR' in gene_data.columns:\n",
        "    specific_gene.append('HMMR')\n",
        "\n",
        "  return specific_gene"
      ],
      "metadata": {
        "id": "XVmFwObHkSX3"
      },
      "id": "XVmFwObHkSX3",
      "execution_count": 447,
      "outputs": []
    },
    {
      "cell_type": "markdown",
      "source": [
        "### 3. KEGG pathway"
      ],
      "metadata": {
        "id": "-gwGnGvfMLd2"
      },
      "id": "-gwGnGvfMLd2"
    },
    {
      "cell_type": "code",
      "source": [
        "# def kegg_pathway_selection(gene_data):"
      ],
      "metadata": {
        "id": "HW7tmLhFCIeX"
      },
      "id": "HW7tmLhFCIeX",
      "execution_count": 448,
      "outputs": []
    },
    {
      "cell_type": "markdown",
      "source": [
        "### 4. Reactome pathway"
      ],
      "metadata": {
        "id": "UE8GxooIMPPE"
      },
      "id": "UE8GxooIMPPE"
    },
    {
      "cell_type": "code",
      "source": [
        "# def reactome_pathway_selection(gene_data):"
      ],
      "metadata": {
        "id": "g7nymIVqMVdN"
      },
      "id": "g7nymIVqMVdN",
      "execution_count": 449,
      "outputs": []
    },
    {
      "cell_type": "markdown",
      "source": [
        "### 5. Cascaded Wx"
      ],
      "metadata": {
        "id": "_QLhDELfMR1L"
      },
      "id": "_QLhDELfMR1L"
    },
    {
      "cell_type": "code",
      "source": [
        "# def cascaded_wx_selection(gene_data):"
      ],
      "metadata": {
        "id": "qgqwIIO-MU4C"
      },
      "id": "qgqwIIO-MU4C",
      "execution_count": 450,
      "outputs": []
    },
    {
      "cell_type": "markdown",
      "source": [
        "## Merge the clinical data and the gene data"
      ],
      "metadata": {
        "id": "EReOL0-mQGXc"
      },
      "id": "EReOL0-mQGXc"
    },
    {
      "cell_type": "code",
      "source": [
        "def merge_data(gene_data, clinical_data):\n",
        "  merge_data = pd.merge(gene_data,\n",
        "                         clinical_data,\n",
        "                         left_on=gene_data.index,\n",
        "                         right_on='Patient Identifier',\n",
        "                         how='inner')\n",
        "  return merge_data"
      ],
      "metadata": {
        "id": "QnyEWfglzMJU"
      },
      "id": "QnyEWfglzMJU",
      "execution_count": 451,
      "outputs": []
    },
    {
      "cell_type": "markdown",
      "source": [
        "## Model(CNN-Cox)"
      ],
      "metadata": {
        "id": "V3j_4eHaM6Nm"
      },
      "id": "V3j_4eHaM6Nm"
    },
    {
      "cell_type": "code",
      "source": [
        "def traindcnncoxmodel(merged_data, cancer_name, conv1, conv1_size, dense, input_shape, save_path, le, wi):\n",
        "\n",
        "    E = np.array(merged_data[\"OS_STATUS\"])\n",
        "    Y = np.array(merged_data[\"OS_MONTHS\"])\n",
        "\n",
        "    gene_columns = [col for col in merged_data.columns if col not in [\"OS_STATUS\", \"OS_MONTHS\", \"Patient Identifier\"]]\n",
        "    X = np.array(merged_data[gene_columns]).astype('float64')\n",
        "    Y = Y.astype('float64')\n",
        "\n",
        "    # 표준화\n",
        "    scaler = StandardScaler().fit(X)\n",
        "    X = scaler.transform(X)\n",
        "\n",
        "    score_tst_list = []\n",
        "    score_dev_list = []\n",
        "    epoch_logs = []\n",
        "    cindex_logs = []\n",
        "    best_cindex_list = []\n",
        "\n",
        "    kf_outer = StratifiedKFold(n_splits=5, random_state=1, shuffle=True)\n",
        "\n",
        "    for i, (outer_train_idx, outer_test_idx) in enumerate(kf_outer.split(X, E)):\n",
        "        fold = i + 1\n",
        "        ci_tst_list = []\n",
        "        ci_dev_list = []\n",
        "\n",
        "        x_tst, c_tst, s_tst = X[outer_test_idx], E[outer_test_idx], Y[outer_test_idx]\n",
        "        x_trn_full, c_trn_full, s_trn_full = X[outer_train_idx], E[outer_train_idx], Y[outer_train_idx]\n",
        "\n",
        "        x_trn, x_dev, c_trn, c_dev, s_trn, s_dev = train_test_split(\n",
        "            x_trn_full, c_trn_full, s_trn_full, test_size=0.2, stratify=c_trn_full, random_state=1\n",
        "        )\n",
        "\n",
        "        # 데이터 정렬\n",
        "        sort_idx = np.argsort(s_trn)[::-1]\n",
        "        x_trn, s_trn, c_trn = x_trn[sort_idx], s_trn[sort_idx], c_trn[sort_idx]\n",
        "\n",
        "        # # 데이터 reshape (이미지로 사용하는 경우)\n",
        "        # x_trn = x_trn.reshape(-1, le, wi, 1)\n",
        "        # x_dev = x_dev.reshape(-1, le, wi, 1)\n",
        "        # x_tst = x_tst.reshape(-1, le, wi, 1)\n",
        "\n",
        "        # 모델 경로 설정\n",
        "        modelpath = save_path + f\"{cancer_name}_fold_{fold}_repeat_{i+1}_{le*wi}.weights.h5\"\n",
        "        checkpoint = MyCallback(modelpath, (x_trn, c_trn, s_trn, x_dev, c_dev, s_dev), fold=fold)\n",
        "\n",
        "        # 모델 정의 및 컴파일\n",
        "        # model = dcnncox(conv1, conv1_size, dense, input_shape=(le, wi, 1))\n",
        "        # model = deep_surv_like_2d(le, wi)\n",
        "        model = deep_surv_like_1d(n_features=X.shape[1])\n",
        "\n",
        "\n",
        "        # ⚠️ c_trn 만 전달해서 손실 함수 구성\n",
        "        loss_fn = negative_log_partial_likelihood(c_trn)\n",
        "        optimizer = tf.keras.optimizers.Adam(learning_rate=0.01)\n",
        "        model.compile(optimizer=optimizer, loss=loss_fn)\n",
        "        # model.compile(loss=loss_fn, optimizer='adam')\n",
        "\n",
        "        # 모델 훈련\n",
        "        print(f\"\\n==================== Training Fold {fold} ====================\")\n",
        "        history = model.fit(x_trn, s_trn, batch_size=len(x_trn), epochs=1000, verbose=0, callbacks=[checkpoint], shuffle=False)\n",
        "        plot_loss(history)\n",
        "\n",
        "        # 모델 가중치 불러오기\n",
        "        model.load_weights(modelpath)\n",
        "\n",
        "        # 예측 및 C-index 계산 (Validation)\n",
        "        hr_pred_dev = np.exp(model.predict(x_dev, batch_size=1, verbose=0))\n",
        "        ci_dev = concordance_index(s_dev, -hr_pred_dev, c_dev)\n",
        "\n",
        "        # 예측 및 C-index 계산 (Test)\n",
        "        hr_pred_tst = np.exp(model.predict(x_tst, batch_size=1, verbose=0))\n",
        "        ci_tst = concordance_index(s_tst, -hr_pred_tst, c_tst)\n",
        "\n",
        "        ci_dev_list.append(ci_dev)\n",
        "        ci_tst_list.append(ci_tst)\n",
        "\n",
        "        score_dev_list.append(ci_dev_list)\n",
        "        score_tst_list.append(ci_tst_list)\n",
        "\n",
        "        epoch_logs.append(checkpoint.epoch_log)\n",
        "        cindex_logs.append(checkpoint.cindex_log)\n",
        "\n",
        "        best_cindex_list.append(checkpoint.best_cindex)\n",
        "\n",
        "        print(f'C-index (fold {fold}): {np.mean(ci_tst_list):.4f} +/- {np.std(ci_tst_list):.4f}')\n",
        "\n",
        "    print(f'\\n{cancer_name} - Mean C-index: {np.mean(score_tst_list):.4f} +/- {np.std(score_tst_list):.4f}')\n",
        "\n",
        "    return score_tst_list, epoch_logs, cindex_logs\n"
      ],
      "metadata": {
        "id": "VwEHvO8nYyi1"
      },
      "id": "VwEHvO8nYyi1",
      "execution_count": 452,
      "outputs": []
    },
    {
      "cell_type": "code",
      "source": [
        "def dcnncox(conv1=128, conv1_size=(1, 10), dense=64, input_shape=(10, 10, 1)):\n",
        "    # input_img = Input(input_shape)\n",
        "    input_img = Input(shape=input_shape)\n",
        "\n",
        "    tower = Conv2D(conv1, conv1_size, activation='relu')(input_img)\n",
        "    tower1 = MaxPooling2D(1, 2)(tower)\n",
        "    tower2 = Flatten()(tower1)\n",
        "\n",
        "    out = Dense(dense, activation='relu')(tower2)\n",
        "    last_layer = Dense(1)(out)  # 기본 초기화 사용\n",
        "\n",
        "    # model = Model(inputs=[input_img], outputs=last_layer)\n",
        "    model = Model(inputs=input_img, outputs=last_layer)\n",
        "    return model"
      ],
      "metadata": {
        "id": "g40MmrLjb-u8"
      },
      "id": "g40MmrLjb-u8",
      "execution_count": 453,
      "outputs": []
    },
    {
      "cell_type": "code",
      "source": [
        "# input: 2d\n",
        "def deep_surv_like_2d(le, wi, hidden_units=128, dropout_rate=0.1, l1=0.0, l2=0.001, use_batch_norm=True):\n",
        "    \"\"\"\n",
        "    CNN 없이 MLP 기반의 DeepSurv 구조 (CNN-Cox와 같은 입력 형식)\n",
        "    \"\"\"\n",
        "\n",
        "    input_shape = (le, wi, 1)\n",
        "    input_layer = Input(shape=input_shape)\n",
        "\n",
        "    x = Flatten()(input_layer)\n",
        "\n",
        "    if use_batch_norm:\n",
        "        x = BatchNormalization()(x)\n",
        "\n",
        "    x = Dense(hidden_units, activation='relu',\n",
        "              kernel_regularizer=l1_l2(l1=l1, l2=l2))(x)\n",
        "\n",
        "    if dropout_rate:\n",
        "        x = Dropout(dropout_rate)(x)\n",
        "\n",
        "    output = Dense(1)(x)  # log hazard 출력\n",
        "\n",
        "    model = Model(inputs=input_layer, outputs=output)\n",
        "    return model"
      ],
      "metadata": {
        "id": "VFWcFU6P9Yjp"
      },
      "id": "VFWcFU6P9Yjp",
      "execution_count": 454,
      "outputs": []
    },
    {
      "cell_type": "code",
      "source": [
        "# input: 1d vector\n",
        "def deep_surv_like_1d(n_features, hidden_units=128, dropout_rate=0.1, l1=0.0, l2=0.001, use_batch_norm=True):\n",
        "    \"\"\"\n",
        "    MLP 기반의 DeepSurv 모델 (1D 벡터 입력)\n",
        "    \"\"\"\n",
        "    input_layer = Input(shape=(n_features,))  # n_features: 유전자 데이터 수\n",
        "\n",
        "    x = input_layer\n",
        "\n",
        "    if use_batch_norm:\n",
        "        x = BatchNormalization()(x)\n",
        "\n",
        "    x = Dense(hidden_units, activation='relu', kernel_regularizer=l1_l2(l1=l1, l2=l2))(x)\n",
        "\n",
        "    if dropout_rate:\n",
        "        x = Dropout(dropout_rate)(x)\n",
        "\n",
        "    output = Dense(1)(x)  # log hazard 출력\n",
        "\n",
        "    model = Model(inputs=input_layer, outputs=output)\n",
        "    return model"
      ],
      "metadata": {
        "id": "Z9xgnTU8Af1u"
      },
      "id": "Z9xgnTU8Af1u",
      "execution_count": 455,
      "outputs": []
    },
    {
      "cell_type": "code",
      "source": [
        "def negative_log_partial_likelihood(event):\n",
        "    event = tf.cast(event, tf.float32)\n",
        "\n",
        "    def loss(y_true, y_pred):\n",
        "        # y_pred: raw risk score (log hazard)\n",
        "        risk_score = tf.squeeze(y_pred, axis=-1)\n",
        "        hazard_ratio = tf.exp(risk_score)\n",
        "\n",
        "        # Risk set: 누적합 (뒤에서 앞으로)\n",
        "        log_cumsum = tf.math.log(tf.maximum(tf.cumsum(hazard_ratio[::-1]), 1e-8))[::-1]\n",
        "\n",
        "        # Uncensored data만 고려\n",
        "        likelihood = risk_score - log_cumsum\n",
        "        uncensored_likelihood = likelihood * event\n",
        "\n",
        "        neg_likelihood = -tf.reduce_mean(uncensored_likelihood)\n",
        "        return neg_likelihood\n",
        "\n",
        "    return loss"
      ],
      "metadata": {
        "id": "6IFRXqiJvt8T"
      },
      "id": "6IFRXqiJvt8T",
      "execution_count": 456,
      "outputs": []
    },
    {
      "cell_type": "code",
      "source": [
        "# #loss\n",
        "# def nll(E, NUM_E):\n",
        "#     def loss(y_true, y_pred):\n",
        "#         hazard_ratio = tf.squeeze(tf.exp(y_pred))\n",
        "#         log_risk = tf.math.log(tf.math.cumsum(hazard_ratio))\n",
        "#         uncensored_likelihood = tf.subtract(tf.squeeze(y_pred),log_risk)\n",
        "#         censored_likelihood = uncensored_likelihood * E\n",
        "#         neg_likelihood = -tf.reduce_sum(censored_likelihood) / NUM_E\n",
        "#         return neg_likelihood\n",
        "\n",
        "#     return loss"
      ],
      "metadata": {
        "id": "kkrJc94lcdrC"
      },
      "id": "kkrJc94lcdrC",
      "execution_count": 457,
      "outputs": []
    },
    {
      "cell_type": "code",
      "source": [
        "def avgcindex(Cindex,cancer_types,numbers):\n",
        "    cisum=[]\n",
        "    for i in range(7):\n",
        "        cancer_name = cancer_types[i]\n",
        "        number = numbers[i]\n",
        "        print(cancer_name,np.mean(Cindex[i]))\n",
        "        cisum.append(np.mean(Cindex[i])*number)\n",
        "\n",
        "    avgci= np.array(cisum).sum()/np.array(numbers).sum()\n",
        "    return avgci"
      ],
      "metadata": {
        "id": "rA8V6x5XdAxP"
      },
      "id": "rA8V6x5XdAxP",
      "execution_count": 458,
      "outputs": []
    },
    {
      "cell_type": "code",
      "source": [
        "def setup_seed(seed):\n",
        "    random.seed(seed)  # python set random seed\n",
        "    np.random.seed(seed)  # numpy set random seed\n",
        "    tf.random.set_seed(seed)  # tf cpu fix seed"
      ],
      "metadata": {
        "id": "lbao53JmdEe7"
      },
      "id": "lbao53JmdEe7",
      "execution_count": 459,
      "outputs": []
    },
    {
      "cell_type": "code",
      "source": [
        "def plot_loss(history):\n",
        "    plt.figure(figsize=(8, 6))\n",
        "    plt.plot(history.history['loss'], label='Training Loss')\n",
        "\n",
        "    # validation loss가 있는 경우에만 그림\n",
        "    if 'val_loss' in history.history:\n",
        "        plt.plot(history.history['val_loss'], label='Validation Loss')\n",
        "\n",
        "    plt.xlabel('Epoch')\n",
        "    plt.ylabel('Loss')\n",
        "    plt.title('Training and Validation Loss')\n",
        "    plt.legend()\n",
        "    plt.grid(True)\n",
        "    plt.tight_layout()\n",
        "    plt.show()"
      ],
      "metadata": {
        "id": "XRoXMXR3nH2m"
      },
      "id": "XRoXMXR3nH2m",
      "execution_count": 460,
      "outputs": []
    },
    {
      "cell_type": "code",
      "source": [
        "class MyCallback(ModelCheckpoint):\n",
        "    def __init__(self, filepath, data, fold=None, params=None, real_save=True, patience=100, max_epoch=1000):\n",
        "        super(MyCallback, self).__init__(filepath, save_weights_only=True)\n",
        "        self.patience = patience\n",
        "        self.max_epoch = max_epoch\n",
        "        self.fold = fold\n",
        "        self.params = params if params else {}\n",
        "\n",
        "        self.x_trn, self.c_trn, self.s_trn, self.x_dev, self.c_dev, self.s_dev = data\n",
        "\n",
        "        self.best_cindex = 0\n",
        "        self.best_epoch = 0\n",
        "        self.real_save = real_save\n",
        "\n",
        "        self.cindex_log = []\n",
        "        self.epoch_log = []\n",
        "\n",
        "    def print_status(self):\n",
        "        print(\"\\n==================== Fold %d Training Result ====================\" % self.fold)\n",
        "        print(f\"- Best Epoch: {self.best_epoch}\")\n",
        "        print(f\"- Best C-index: {self.best_cindex:.4f}\")\n",
        "        print(\"===============================================================\")\n",
        "\n",
        "    def on_train_begin(self, logs=None):\n",
        "        print(f\"\\n===== Start Training Fold {self.fold} =====\")\n",
        "        print(f\"Train samples: {len(self.x_trn)}, Dev samples: {len(self.x_dev)}\")\n",
        "        print(f\"Hyperparameters: {self.params}\")\n",
        "        print(\"===================================================\")\n",
        "\n",
        "    def on_epoch_end(self, epoch, logs=None):\n",
        "        pred_dev = -np.exp(self.model.predict(self.x_dev, batch_size=1, verbose=0))\n",
        "        cindex_dev = concordance_index(self.s_dev, pred_dev, self.c_dev)\n",
        "        current_loss = logs.get(\"loss\")\n",
        "\n",
        "        if epoch % 100 == 0:\n",
        "          print(f\"Epoch {epoch}: loss = {current_loss:.4f}, C-index = {cindex_dev:.4f}\")\n",
        "\n",
        "\n",
        "        if cindex_dev > self.best_cindex:\n",
        "            self.best_cindex = cindex_dev\n",
        "            self.best_epoch = epoch\n",
        "            if self.real_save:\n",
        "                if self.save_weights_only:\n",
        "                    self.model.save_weights(self.filepath, overwrite=True)\n",
        "                else:\n",
        "                    self.model.save(self.filepath, overwrite=True)\n",
        "        # C-index Early Stopping\n",
        "        elif epoch - self.best_epoch > self.patience:\n",
        "            self.model.stop_training = True\n",
        "            print(f\"Early stopping at epoch {epoch} (no improvement for {self.patience} epochs)\")\n",
        "\n",
        "        elif current_loss is not None and current_loss < 0.3:\n",
        "            self.model.stop_training = True\n",
        "            print(f\"Early stopping at epoch {epoch} (loss dropped below 0.3)\")\n",
        "\n",
        "        if epoch >= self.max_epoch:\n",
        "            self.model.stop_training = True\n",
        "            print(f\"Stopping at max epoch {self.max_epoch}\")\n",
        "\n",
        "        self.epoch_log.append(epoch)\n",
        "        self.cindex_log.append(cindex_dev)\n",
        "\n",
        "    def on_train_end(self, logs=None):\n",
        "        print(\"[Training Ended]\")\n",
        "        self.print_status()\n"
      ],
      "metadata": {
        "id": "1kQgNhQXcZ5C"
      },
      "id": "1kQgNhQXcZ5C",
      "execution_count": 461,
      "outputs": []
    },
    {
      "cell_type": "code",
      "source": [
        "cancer_name = 'LUAD'    # add LUSC\n",
        "\n",
        "# feature_selection_methods = ['variance', 'kegg', 'reactome', 'cascaded_wx']\n",
        "feature_selection_methods = ['specific_gene']\n",
        "\n",
        "for method in feature_selection_methods:\n",
        "  print(f'\\n========== Running with {method} feature selection ==========')\n",
        "\n",
        "  # Feature selection\n",
        "  if method == 'variance':\n",
        "    selected_features = variance_selection(gene_data)\n",
        "  elif method == 'specific_gene':\n",
        "    selected_features = specific_gene_selection(gene_data)\n",
        "  # elif method == 'kegg':\n",
        "  #   selected_features = kegg_pathway_selection(gene_data)\n",
        "  # elif method == 'reactome':\n",
        "  #   selected_features = reactome_pathway_selection(gene_data)\n",
        "  # elif method == 'cascaded_wx':\n",
        "  #   selected_features = cascaded_wx_selection(gene_data)\n",
        "\n",
        "  # Merge with clinical dataset\n",
        "  selected_gene_data = gene_data[selected_features]\n",
        "  merged_data = merge_data(selected_gene_data, clinical_data)\n",
        "\n",
        "  # 모델 파라미터 설정\n",
        "  conv1 = 64\n",
        "  dense = 16\n",
        "  conv1_size = (1, 10)\n",
        "  input_shape = (10, 10, 1)\n",
        "  le, wi = 10, 10\n",
        "\n",
        "  save_path=\"/content/\"\n",
        "\n",
        "  # 모델 훈련 및 C-index 계산\n",
        "  score_tst_list = traindcnncoxmodel(merged_data, cancer_name, conv1, conv1_size, dense, input_shape, save_path, le, wi)\n",
        "\n",
        "  # # C-index 출력\n",
        "  # flat_scores = [score for fold_scores in score_tst_list for score in fold_scores]\n",
        "  # print(f\"Test C-index for {cancer_name}: {np.mean(flat_scores):.4f} +/- {np.std(flat_scores):.4f}\")\n",
        "  # print(f'\\n{cancer_name} - Fold-wise Best C-index Mean: {np.mean(best_cindex_list):.4f} +/- {np.std(best_cindex_list):.4f}')\n",
        "\n"
      ],
      "metadata": {
        "colab": {
          "base_uri": "https://localhost:8080/",
          "height": 1000
        },
        "id": "ucJy3EjB0dJl",
        "outputId": "58c1ad05-1fa9-4b6f-eba5-15e779049e5a"
      },
      "id": "ucJy3EjB0dJl",
      "execution_count": 462,
      "outputs": [
        {
          "output_type": "stream",
          "name": "stdout",
          "text": [
            "\n",
            "========== Running with specific_gene feature selection ==========\n",
            "\n",
            "==================== Training Fold 1 ====================\n",
            "\n",
            "===== Start Training Fold 1 =====\n",
            "Train samples: 322, Dev samples: 81\n",
            "Hyperparameters: {'verbose': 0, 'epochs': 1000, 'steps': 1}\n",
            "===================================================\n",
            "Epoch 0: loss = 1.7558, C-index = 0.6268\n",
            "Epoch 100: loss = 1.5412, C-index = 0.4407\n",
            "Early stopping at epoch 103 (no improvement for 100 epochs)\n",
            "[Training Ended]\n",
            "\n",
            "==================== Fold 1 Training Result ====================\n",
            "- Best Epoch: 2\n",
            "- Best C-index: 0.6472\n",
            "===============================================================\n"
          ]
        },
        {
          "output_type": "display_data",
          "data": {
            "text/plain": [
              "<Figure size 800x600 with 1 Axes>"
            ],
            "image/png": "[encoded data removed]"
          },
          "metadata": {}
        },
        {
          "output_type": "stream",
          "name": "stdout",
          "text": [
            "C-index (fold 1): 0.5880 +/- 0.0000\n",
            "\n",
            "==================== Training Fold 2 ====================\n",
            "\n",
            "===== Start Training Fold 2 =====\n",
            "Train samples: 322, Dev samples: 81\n",
            "Hyperparameters: {'verbose': 0, 'epochs': 1000, 'steps': 1}\n",
            "===================================================\n",
            "Epoch 0: loss = 1.7982, C-index = 0.5848\n",
            "Epoch 100: loss = 1.5427, C-index = 0.4681\n",
            "Early stopping at epoch 101 (no improvement for 100 epochs)\n",
            "[Training Ended]\n",
            "\n",
            "==================== Fold 2 Training Result ====================\n",
            "- Best Epoch: 0\n",
            "- Best C-index: 0.5848\n",
            "===============================================================\n"
          ]
        },
        {
          "output_type": "display_data",
          "data": {
            "text/plain": [
              "<Figure size 800x600 with 1 Axes>"
            ],
            "image/png": "[encoded data removed]"
          },
          "metadata": {}
        },
        {
          "output_type": "stream",
          "name": "stdout",
          "text": [
            "C-index (fold 2): 0.5767 +/- 0.0000\n",
            "\n",
            "==================== Training Fold 3 ====================\n",
            "\n",
            "===== Start Training Fold 3 =====\n",
            "Train samples: 322, Dev samples: 81\n",
            "Hyperparameters: {'verbose': 0, 'epochs': 1000, 'steps': 1}\n",
            "===================================================\n",
            "Epoch 0: loss = 1.7035, C-index = 0.6693\n",
            "Epoch 100: loss = 1.5376, C-index = 0.4747\n",
            "Early stopping at epoch 107 (no improvement for 100 epochs)\n",
            "[Training Ended]\n",
            "\n",
            "==================== Fold 3 Training Result ====================\n",
            "- Best Epoch: 6\n",
            "- Best C-index: 0.6739\n",
            "===============================================================\n"
          ]
        },
        {
          "output_type": "display_data",
          "data": {
            "text/plain": [
              "<Figure size 800x600 with 1 Axes>"
            ],
            "image/png": "[encoded data removed]"
          },
          "metadata": {}
        },
        {
          "output_type": "stream",
          "name": "stdout",
          "text": [
            "C-index (fold 3): 0.5321 +/- 0.0000\n",
            "\n",
            "==================== Training Fold 4 ====================\n",
            "\n",
            "===== Start Training Fold 4 =====\n",
            "Train samples: 322, Dev samples: 81\n",
            "Hyperparameters: {'verbose': 0, 'epochs': 1000, 'steps': 1}\n",
            "===================================================\n",
            "Epoch 0: loss = 1.6889, C-index = 0.5461\n",
            "Epoch 100: loss = 1.4709, C-index = 0.4794\n",
            "Early stopping at epoch 101 (no improvement for 100 epochs)\n",
            "[Training Ended]\n",
            "\n",
            "==================== Fold 4 Training Result ====================\n",
            "- Best Epoch: 0\n",
            "- Best C-index: 0.5461\n",
            "===============================================================\n"
          ]
        },
        {
          "output_type": "display_data",
          "data": {
            "text/plain": [
              "<Figure size 800x600 with 1 Axes>"
            ],
            "image/png": "[encoded data removed]"
          },
          "metadata": {}
        },
        {
          "output_type": "stream",
          "name": "stdout",
          "text": [
            "C-index (fold 4): 0.7006 +/- 0.0000\n",
            "\n",
            "==================== Training Fold 5 ====================\n",
            "\n",
            "===== Start Training Fold 5 =====\n",
            "Train samples: 323, Dev samples: 81\n",
            "Hyperparameters: {'verbose': 0, 'epochs': 1000, 'steps': 1}\n",
            "===================================================\n",
            "Epoch 0: loss = 1.7210, C-index = 0.3970\n",
            "Epoch 100: loss = 1.4959, C-index = 0.5672\n",
            "Early stopping at epoch 181 (no improvement for 100 epochs)\n",
            "[Training Ended]\n",
            "\n",
            "==================== Fold 5 Training Result ====================\n",
            "- Best Epoch: 80\n",
            "- Best C-index: 0.5855\n",
            "===============================================================\n"
          ]
        },
        {
          "output_type": "display_data",
          "data": {
            "text/plain": [
              "<Figure size 800x600 with 1 Axes>"
            ],
            "image/png": "[encoded data removed]"
          },
          "metadata": {}
        },
        {
          "output_type": "stream",
          "name": "stdout",
          "text": [
            "C-index (fold 5): 0.5915 +/- 0.0000\n",
            "\n",
            "LUAD - Mean C-index: 0.5978 +/- 0.0556\n"
          ]
        }
      ]
    },
    {
      "cell_type": "code",
      "source": [
        "# # 예시로 LUAD 사용\n",
        "# cancer_name = 'LUAD'\n",
        "\n",
        "# # 모델 파라미터 설정\n",
        "# conv1 = 64\n",
        "# dense = 16\n",
        "# conv1_size = (1, 10)\n",
        "# input_shape = (10, 10, 1)\n",
        "# le, wi = 10, 10\n",
        "\n",
        "# save_path=\"/content/\"\n",
        "\n",
        "# # 모델 훈련 및 C-index 계산\n",
        "# score_tst_list = traindcnncoxmodel(merged_data, cancer_name, conv1, conv1_size, dense, input_shape, save_path, le, wi)\n",
        "\n",
        "# # C-index 출력\n",
        "# print(f\"Test C-index for {cancer_name}: {np.mean(score_tst_list):.4f} +/- {np.std(score_tst_list):.4f}\")"
      ],
      "metadata": {
        "id": "mx1tduzSZJMq"
      },
      "id": "mx1tduzSZJMq",
      "execution_count": 463,
      "outputs": []
    },
    {
      "cell_type": "markdown",
      "source": [
        "### Visualization"
      ],
      "metadata": {
        "id": "L_FK6Zp4YJCa"
      },
      "id": "L_FK6Zp4YJCa"
    },
    {
      "cell_type": "code",
      "source": [
        "# plt.plot(checkpoint.epoch_log, checkpoint.cindex_log, label=\"Dev C-index\")\n",
        "# plt.xlabel(\"Epoch\")\n",
        "# plt.ylabel(\"C-index\")\n",
        "# plt.title(\"C-index over Epochs\")\n",
        "# plt.legend()\n",
        "# plt.grid(True)\n",
        "# plt.show()"
      ],
      "metadata": {
        "id": "Alv8EGddwmaT"
      },
      "id": "Alv8EGddwmaT",
      "execution_count": 464,
      "outputs": []
    }
  ],
  "metadata": {
    "kernelspec": {
      "display_name": "Python 3",
      "name": "python3"
    },
    "language_info": {
      "codemirror_mode": {
        "name": "ipython",
        "version": 3
      },
      "file_extension": ".py",
      "mimetype": "text/x-python",
      "name": "python",
      "nbconvert_exporter": "python",
      "pygments_lexer": "ipython3",
      "version": "3.8.20"
    },
    "colab": {
      "provenance": [],
      "gpuType": "T4"
    },
    "accelerator": "GPU"
  },
  "nbformat": 4,
  "nbformat_minor": 5
}