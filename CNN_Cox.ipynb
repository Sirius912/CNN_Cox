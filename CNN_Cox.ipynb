{
  "cells": [
    {
      "cell_type": "markdown",
      "id": "a1027733",
      "metadata": {
        "id": "a1027733"
      },
      "source": [
        "# Survival Prediction of Lung Cancer Patients Based on Different Feature Selection Methods Using CNN-Cox Models"
      ]
    },
    {
      "cell_type": "markdown",
      "id": "754057a4",
      "metadata": {
        "id": "754057a4"
      },
      "source": [
        "## Import the Libraries"
      ]
    },
    {
      "cell_type": "code",
      "source": [
        "pip install lifelines"
      ],
      "metadata": {
        "colab": {
          "base_uri": "https://localhost:8080/"
        },
        "id": "gw3JHR2ycvZt",
        "outputId": "c5eb7e1d-77a2-4637-b020-205b6614f14c"
      },
      "id": "gw3JHR2ycvZt",
      "execution_count": 989,
      "outputs": [
        {
          "output_type": "stream",
          "name": "stdout",
          "text": [
            "Requirement already satisfied: lifelines in /usr/local/lib/python3.11/dist-packages (0.30.0)\n",
            "Requirement already satisfied: numpy>=1.14.0 in /usr/local/lib/python3.11/dist-packages (from lifelines) (2.0.2)\n",
            "Requirement already satisfied: scipy>=1.7.0 in /usr/local/lib/python3.11/dist-packages (from lifelines) (1.15.2)\n",
            "Requirement already satisfied: pandas>=2.1 in /usr/local/lib/python3.11/dist-packages (from lifelines) (2.2.2)\n",
            "Requirement already satisfied: matplotlib>=3.0 in /usr/local/lib/python3.11/dist-packages (from lifelines) (3.10.0)\n",
            "Requirement already satisfied: autograd>=1.5 in /usr/local/lib/python3.11/dist-packages (from lifelines) (1.7.0)\n",
            "Requirement already satisfied: autograd-gamma>=0.3 in /usr/local/lib/python3.11/dist-packages (from lifelines) (0.5.0)\n",
            "Requirement already satisfied: formulaic>=0.2.2 in /usr/local/lib/python3.11/dist-packages (from lifelines) (1.1.1)\n",
            "Requirement already satisfied: interface-meta>=1.2.0 in /usr/local/lib/python3.11/dist-packages (from formulaic>=0.2.2->lifelines) (1.3.0)\n",
            "Requirement already satisfied: typing-extensions>=4.2.0 in /usr/local/lib/python3.11/dist-packages (from formulaic>=0.2.2->lifelines) (4.13.2)\n",
            "Requirement already satisfied: wrapt>=1.0 in /usr/local/lib/python3.11/dist-packages (from formulaic>=0.2.2->lifelines) (1.17.2)\n",
            "Requirement already satisfied: contourpy>=1.0.1 in /usr/local/lib/python3.11/dist-packages (from matplotlib>=3.0->lifelines) (1.3.2)\n",
            "Requirement already satisfied: cycler>=0.10 in /usr/local/lib/python3.11/dist-packages (from matplotlib>=3.0->lifelines) (0.12.1)\n",
            "Requirement already satisfied: fonttools>=4.22.0 in /usr/local/lib/python3.11/dist-packages (from matplotlib>=3.0->lifelines) (4.57.0)\n",
            "Requirement already satisfied: kiwisolver>=1.3.1 in /usr/local/lib/python3.11/dist-packages (from matplotlib>=3.0->lifelines) (1.4.8)\n",
            "Requirement already satisfied: packaging>=20.0 in /usr/local/lib/python3.11/dist-packages (from matplotlib>=3.0->lifelines) (24.2)\n",
            "Requirement already satisfied: pillow>=8 in /usr/local/lib/python3.11/dist-packages (from matplotlib>=3.0->lifelines) (11.2.1)\n",
            "Requirement already satisfied: pyparsing>=2.3.1 in /usr/local/lib/python3.11/dist-packages (from matplotlib>=3.0->lifelines) (3.2.3)\n",
            "Requirement already satisfied: python-dateutil>=2.7 in /usr/local/lib/python3.11/dist-packages (from matplotlib>=3.0->lifelines) (2.9.0.post0)\n",
            "Requirement already satisfied: pytz>=2020.1 in /usr/local/lib/python3.11/dist-packages (from pandas>=2.1->lifelines) (2025.2)\n",
            "Requirement already satisfied: tzdata>=2022.7 in /usr/local/lib/python3.11/dist-packages (from pandas>=2.1->lifelines) (2025.2)\n",
            "Requirement already satisfied: six>=1.5 in /usr/local/lib/python3.11/dist-packages (from python-dateutil>=2.7->matplotlib>=3.0->lifelines) (1.17.0)\n"
          ]
        }
      ]
    },
    {
      "cell_type": "code",
      "source": [
        "pip install bioservices"
      ],
      "metadata": {
        "colab": {
          "base_uri": "https://localhost:8080/"
        },
        "id": "wFVQa8i1yHys",
        "outputId": "c6511b6e-baf4-4a88-85c6-cf87080f59ff"
      },
      "id": "wFVQa8i1yHys",
      "execution_count": 990,
      "outputs": [
        {
          "output_type": "stream",
          "name": "stdout",
          "text": [
            "Requirement already satisfied: bioservices in /usr/local/lib/python3.11/dist-packages (1.12.1)\n",
            "Requirement already satisfied: appdirs<2.0.0,>=1.4.4 in /usr/local/lib/python3.11/dist-packages (from bioservices) (1.4.4)\n",
            "Requirement already satisfied: beautifulsoup4<5.0.0,>=4.12.3 in /usr/local/lib/python3.11/dist-packages (from bioservices) (4.13.4)\n",
            "Requirement already satisfied: click<9.0.0,>=8.1.8 in /usr/local/lib/python3.11/dist-packages (from bioservices) (8.1.8)\n",
            "Requirement already satisfied: colorlog<7.0.0,>=6.9.0 in /usr/local/lib/python3.11/dist-packages (from bioservices) (6.9.0)\n",
            "Requirement already satisfied: easydev<0.14.0,>=0.13.3 in /usr/local/lib/python3.11/dist-packages (from bioservices) (0.13.3)\n",
            "Requirement already satisfied: grequests<0.8.0,>=0.7.0 in /usr/local/lib/python3.11/dist-packages (from bioservices) (0.7.0)\n",
            "Requirement already satisfied: lxml<6.0.0,>=5.3.0 in /usr/local/lib/python3.11/dist-packages (from bioservices) (5.4.0)\n",
            "Requirement already satisfied: matplotlib>=3.9 in /usr/local/lib/python3.11/dist-packages (from bioservices) (3.10.0)\n",
            "Requirement already satisfied: pandas>2.2 in /usr/local/lib/python3.11/dist-packages (from bioservices) (2.2.2)\n",
            "Requirement already satisfied: requests<3.0.0,>=2.32.3 in /usr/local/lib/python3.11/dist-packages (from bioservices) (2.32.3)\n",
            "Requirement already satisfied: requests-cache<2.0.0,>=1.2.1 in /usr/local/lib/python3.11/dist-packages (from bioservices) (1.2.1)\n",
            "Requirement already satisfied: rich-click<2.0.0,>=1.8.5 in /usr/local/lib/python3.11/dist-packages (from bioservices) (1.8.8)\n",
            "Requirement already satisfied: suds-community<2.0.0,>=1.2.0 in /usr/local/lib/python3.11/dist-packages (from bioservices) (1.2.0)\n",
            "Requirement already satisfied: tqdm<5.0.0,>=4.67.1 in /usr/local/lib/python3.11/dist-packages (from bioservices) (4.67.1)\n",
            "Requirement already satisfied: wrapt<2.0.0,>=1.17.2 in /usr/local/lib/python3.11/dist-packages (from bioservices) (1.17.2)\n",
            "Requirement already satisfied: xmltodict<0.15.0,>=0.14.2 in /usr/local/lib/python3.11/dist-packages (from bioservices) (0.14.2)\n",
            "Requirement already satisfied: soupsieve>1.2 in /usr/local/lib/python3.11/dist-packages (from beautifulsoup4<5.0.0,>=4.12.3->bioservices) (2.7)\n",
            "Requirement already satisfied: typing-extensions>=4.0.0 in /usr/local/lib/python3.11/dist-packages (from beautifulsoup4<5.0.0,>=4.12.3->bioservices) (4.13.2)\n",
            "Requirement already satisfied: colorama<0.5.0,>=0.4.6 in /usr/local/lib/python3.11/dist-packages (from easydev<0.14.0,>=0.13.3->bioservices) (0.4.6)\n",
            "Requirement already satisfied: line-profiler<5.0.0,>=4.1.2 in /usr/local/lib/python3.11/dist-packages (from easydev<0.14.0,>=0.13.3->bioservices) (4.2.0)\n",
            "Requirement already satisfied: pexpect<5.0.0,>=4.9.0 in /usr/local/lib/python3.11/dist-packages (from easydev<0.14.0,>=0.13.3->bioservices) (4.9.0)\n",
            "Requirement already satisfied: platformdirs<5.0.0,>=4.2.0 in /usr/local/lib/python3.11/dist-packages (from easydev<0.14.0,>=0.13.3->bioservices) (4.3.7)\n",
            "Requirement already satisfied: gevent in /usr/local/lib/python3.11/dist-packages (from grequests<0.8.0,>=0.7.0->bioservices) (25.4.2)\n",
            "Requirement already satisfied: contourpy>=1.0.1 in /usr/local/lib/python3.11/dist-packages (from matplotlib>=3.9->bioservices) (1.3.2)\n",
            "Requirement already satisfied: cycler>=0.10 in /usr/local/lib/python3.11/dist-packages (from matplotlib>=3.9->bioservices) (0.12.1)\n",
            "Requirement already satisfied: fonttools>=4.22.0 in /usr/local/lib/python3.11/dist-packages (from matplotlib>=3.9->bioservices) (4.57.0)\n",
            "Requirement already satisfied: kiwisolver>=1.3.1 in /usr/local/lib/python3.11/dist-packages (from matplotlib>=3.9->bioservices) (1.4.8)\n",
            "Requirement already satisfied: numpy>=1.23 in /usr/local/lib/python3.11/dist-packages (from matplotlib>=3.9->bioservices) (2.0.2)\n",
            "Requirement already satisfied: packaging>=20.0 in /usr/local/lib/python3.11/dist-packages (from matplotlib>=3.9->bioservices) (24.2)\n",
            "Requirement already satisfied: pillow>=8 in /usr/local/lib/python3.11/dist-packages (from matplotlib>=3.9->bioservices) (11.2.1)\n",
            "Requirement already satisfied: pyparsing>=2.3.1 in /usr/local/lib/python3.11/dist-packages (from matplotlib>=3.9->bioservices) (3.2.3)\n",
            "Requirement already satisfied: python-dateutil>=2.7 in /usr/local/lib/python3.11/dist-packages (from matplotlib>=3.9->bioservices) (2.9.0.post0)\n",
            "Requirement already satisfied: pytz>=2020.1 in /usr/local/lib/python3.11/dist-packages (from pandas>2.2->bioservices) (2025.2)\n",
            "Requirement already satisfied: tzdata>=2022.7 in /usr/local/lib/python3.11/dist-packages (from pandas>2.2->bioservices) (2025.2)\n",
            "Requirement already satisfied: charset-normalizer<4,>=2 in /usr/local/lib/python3.11/dist-packages (from requests<3.0.0,>=2.32.3->bioservices) (3.4.1)\n",
            "Requirement already satisfied: idna<4,>=2.5 in /usr/local/lib/python3.11/dist-packages (from requests<3.0.0,>=2.32.3->bioservices) (3.10)\n",
            "Requirement already satisfied: urllib3<3,>=1.21.1 in /usr/local/lib/python3.11/dist-packages (from requests<3.0.0,>=2.32.3->bioservices) (2.4.0)\n",
            "Requirement already satisfied: certifi>=2017.4.17 in /usr/local/lib/python3.11/dist-packages (from requests<3.0.0,>=2.32.3->bioservices) (2025.1.31)\n",
            "Requirement already satisfied: attrs>=21.2 in /usr/local/lib/python3.11/dist-packages (from requests-cache<2.0.0,>=1.2.1->bioservices) (25.3.0)\n",
            "Requirement already satisfied: cattrs>=22.2 in /usr/local/lib/python3.11/dist-packages (from requests-cache<2.0.0,>=1.2.1->bioservices) (24.1.3)\n",
            "Requirement already satisfied: url-normalize>=1.4 in /usr/local/lib/python3.11/dist-packages (from requests-cache<2.0.0,>=1.2.1->bioservices) (2.2.1)\n",
            "Requirement already satisfied: rich>=10.7 in /usr/local/lib/python3.11/dist-packages (from rich-click<2.0.0,>=1.8.5->bioservices) (13.9.4)\n",
            "Requirement already satisfied: ptyprocess>=0.5 in /usr/local/lib/python3.11/dist-packages (from pexpect<5.0.0,>=4.9.0->easydev<0.14.0,>=0.13.3->bioservices) (0.7.0)\n",
            "Requirement already satisfied: six>=1.5 in /usr/local/lib/python3.11/dist-packages (from python-dateutil>=2.7->matplotlib>=3.9->bioservices) (1.17.0)\n",
            "Requirement already satisfied: markdown-it-py>=2.2.0 in /usr/local/lib/python3.11/dist-packages (from rich>=10.7->rich-click<2.0.0,>=1.8.5->bioservices) (3.0.0)\n",
            "Requirement already satisfied: pygments<3.0.0,>=2.13.0 in /usr/local/lib/python3.11/dist-packages (from rich>=10.7->rich-click<2.0.0,>=1.8.5->bioservices) (2.19.1)\n",
            "Requirement already satisfied: greenlet>=3.2.0 in /usr/local/lib/python3.11/dist-packages (from gevent->grequests<0.8.0,>=0.7.0->bioservices) (3.2.1)\n",
            "Requirement already satisfied: zope.event in /usr/local/lib/python3.11/dist-packages (from gevent->grequests<0.8.0,>=0.7.0->bioservices) (5.0)\n",
            "Requirement already satisfied: zope.interface in /usr/local/lib/python3.11/dist-packages (from gevent->grequests<0.8.0,>=0.7.0->bioservices) (7.2)\n",
            "Requirement already satisfied: mdurl~=0.1 in /usr/local/lib/python3.11/dist-packages (from markdown-it-py>=2.2.0->rich>=10.7->rich-click<2.0.0,>=1.8.5->bioservices) (0.1.2)\n",
            "Requirement already satisfied: setuptools in /usr/local/lib/python3.11/dist-packages (from zope.event->gevent->grequests<0.8.0,>=0.7.0->bioservices) (75.2.0)\n"
          ]
        }
      ]
    },
    {
      "cell_type": "code",
      "execution_count": 991,
      "id": "db97f998",
      "metadata": {
        "id": "db97f998"
      },
      "outputs": [],
      "source": [
        "import pandas as pd\n",
        "import numpy as np\n",
        "import random\n",
        "import tensorflow as tf\n",
        "import requests\n",
        "from sklearn.preprocessing import StandardScaler\n",
        "from sklearn.model_selection import StratifiedKFold,train_test_split\n",
        "from lifelines.utils import concordance_index\n",
        "from tensorflow.keras.models import Model\n",
        "from tensorflow.keras.callbacks import ModelCheckpoint\n",
        "from tensorflow.keras.layers import Conv2D, MaxPooling2D, Dense,Dropout,Input,Flatten,concatenate\n",
        "from bioservices import KEGG"
      ]
    },
    {
      "cell_type": "markdown",
      "id": "95e82bf3",
      "metadata": {
        "id": "95e82bf3"
      },
      "source": [
        "## Prepare the dataset"
      ]
    },
    {
      "cell_type": "markdown",
      "id": "b1737b96",
      "metadata": {
        "id": "b1737b96"
      },
      "source": [
        "### Clinical data"
      ]
    },
    {
      "cell_type": "markdown",
      "id": "16c2f8e7",
      "metadata": {
        "id": "16c2f8e7"
      },
      "source": [
        "#### Load the dataset"
      ]
    },
    {
      "cell_type": "code",
      "execution_count": 992,
      "id": "08f18fd3",
      "metadata": {
        "id": "08f18fd3"
      },
      "outputs": [],
      "source": [
        "clinical_data = pd.read_csv('/content/luad_clinical_patient.txt', sep='\\t')"
      ]
    },
    {
      "cell_type": "markdown",
      "id": "984b3e1f",
      "metadata": {
        "id": "984b3e1f"
      },
      "source": [
        "#### Select the relevant columns for analysis"
      ]
    },
    {
      "cell_type": "code",
      "execution_count": 993,
      "id": "336ab08f",
      "metadata": {
        "colab": {
          "base_uri": "https://localhost:8080/"
        },
        "id": "336ab08f",
        "outputId": "132e7409-da89-4199-d65d-0081e4a3067c"
      },
      "outputs": [
        {
          "output_type": "stream",
          "name": "stdout",
          "text": [
            "   Patient Identifier   OS_STATUS OS_MONTHS\n",
            "4        TCGA-05-4244    0:LIVING         0\n",
            "5        TCGA-05-4245    0:LIVING     23.98\n",
            "6        TCGA-05-4249    0:LIVING     50.03\n",
            "7        TCGA-05-4250  1:DECEASED      3.98\n",
            "8        TCGA-05-4382    0:LIVING     19.94\n",
            "9        TCGA-05-4384    0:LIVING     13.99\n",
            "10       TCGA-05-4389    0:LIVING     44.97\n",
            "11       TCGA-05-4390    0:LIVING     36.99\n",
            "12       TCGA-05-4395  1:DECEASED         0\n",
            "13       TCGA-05-4396  1:DECEASED      9.95\n"
          ]
        }
      ],
      "source": [
        "clinical_data = clinical_data[['Patient Identifier', 'Overall Survival Status', 'Overall Survival (Months)']].loc[4:]\n",
        "clinical_data = clinical_data.rename(columns = {'Overall Survival Status' : 'OS_STATUS', 'Overall Survival (Months)' : 'OS_MONTHS'})\n",
        "\n",
        "print(clinical_data.head(10))"
      ]
    },
    {
      "cell_type": "markdown",
      "id": "540d377a",
      "metadata": {
        "id": "540d377a"
      },
      "source": [
        "#### Convert OS_MONTHS values into binary format (1 for deceased, 0 for living)"
      ]
    },
    {
      "cell_type": "code",
      "execution_count": 994,
      "id": "1b107901",
      "metadata": {
        "colab": {
          "base_uri": "https://localhost:8080/"
        },
        "id": "1b107901",
        "outputId": "8f78e3e0-b9f8-4c69-db48-21e0932c5e9a"
      },
      "outputs": [
        {
          "output_type": "stream",
          "name": "stdout",
          "text": [
            "   Patient Identifier  OS_STATUS OS_MONTHS\n",
            "4        TCGA-05-4244          0         0\n",
            "5        TCGA-05-4245          0     23.98\n",
            "6        TCGA-05-4249          0     50.03\n",
            "7        TCGA-05-4250          1      3.98\n",
            "8        TCGA-05-4382          0     19.94\n",
            "9        TCGA-05-4384          0     13.99\n",
            "10       TCGA-05-4389          0     44.97\n",
            "11       TCGA-05-4390          0     36.99\n",
            "12       TCGA-05-4395          1         0\n",
            "13       TCGA-05-4396          1      9.95\n"
          ]
        }
      ],
      "source": [
        "clinical_data[\"OS_STATUS\"] = clinical_data[\"OS_STATUS\"].apply(lambda x : 1 if x.find('1:') != -1 else 0)\n",
        "\n",
        "print(clinical_data.head(10))"
      ]
    },
    {
      "cell_type": "markdown",
      "id": "3e5d7c99",
      "metadata": {
        "id": "3e5d7c99"
      },
      "source": [
        "#### Check for unnecessary data"
      ]
    },
    {
      "cell_type": "code",
      "execution_count": 995,
      "id": "587683ae",
      "metadata": {
        "colab": {
          "base_uri": "https://localhost:8080/"
        },
        "id": "587683ae",
        "outputId": "5a3074c5-feea-4d7f-ba96-2b6f86ea397e"
      },
      "outputs": [
        {
          "output_type": "stream",
          "name": "stdout",
          "text": [
            "OS_STATUS\n",
            "0    334\n",
            "1    188\n",
            "Name: count, dtype: int64\n",
            "OS_MONTHS\n",
            "[Not Available]    9\n",
            "25.99              4\n",
            "0                  4\n",
            "15.64              3\n",
            "14.29              3\n",
            "12.65              3\n",
            "18.66              3\n",
            "20.04              3\n",
            "29.43              3\n",
            "18.99              3\n",
            "Name: count, dtype: int64\n"
          ]
        }
      ],
      "source": [
        "print(clinical_data['OS_STATUS'].value_counts())\n",
        "print(clinical_data['OS_MONTHS'].value_counts().head(10))"
      ]
    },
    {
      "cell_type": "markdown",
      "id": "767554bd",
      "metadata": {
        "id": "767554bd"
      },
      "source": [
        "#### Drop rows where OS_MONTHS is 0 or '[Not Available]'"
      ]
    },
    {
      "cell_type": "code",
      "execution_count": 996,
      "id": "930c7ae7",
      "metadata": {
        "colab": {
          "base_uri": "https://localhost:8080/"
        },
        "id": "930c7ae7",
        "outputId": "a9103f7a-bc8f-4003-83ef-d35d4f795741"
      },
      "outputs": [
        {
          "output_type": "stream",
          "name": "stdout",
          "text": [
            "   Patient Identifier  OS_STATUS OS_MONTHS\n",
            "5        TCGA-05-4245          0     23.98\n",
            "6        TCGA-05-4249          0     50.03\n",
            "7        TCGA-05-4250          1      3.98\n",
            "8        TCGA-05-4382          0     19.94\n",
            "9        TCGA-05-4384          0     13.99\n",
            "10       TCGA-05-4389          0     44.97\n",
            "11       TCGA-05-4390          0     36.99\n",
            "13       TCGA-05-4396          1      9.95\n",
            "14       TCGA-05-4397          1     24.01\n",
            "15       TCGA-05-4398          0     47.01\n"
          ]
        }
      ],
      "source": [
        "clinical_data = clinical_data[\n",
        "    (clinical_data['OS_MONTHS'] != '0') &\n",
        "    (clinical_data['OS_MONTHS'] != '[Not Available]')\n",
        "]\n",
        "\n",
        "print(clinical_data.head(10))"
      ]
    },
    {
      "cell_type": "markdown",
      "id": "5204e061",
      "metadata": {
        "id": "5204e061"
      },
      "source": [
        "#### Reset the index to start from 0"
      ]
    },
    {
      "cell_type": "code",
      "execution_count": 997,
      "id": "d0a78b69",
      "metadata": {
        "colab": {
          "base_uri": "https://localhost:8080/"
        },
        "id": "d0a78b69",
        "outputId": "6c349d88-dd7c-46c9-c923-41ed435b21e0"
      },
      "outputs": [
        {
          "output_type": "stream",
          "name": "stdout",
          "text": [
            "  Patient Identifier  OS_STATUS OS_MONTHS\n",
            "0       TCGA-05-4245          0     23.98\n",
            "1       TCGA-05-4249          0     50.03\n",
            "2       TCGA-05-4250          1      3.98\n",
            "3       TCGA-05-4382          0     19.94\n",
            "4       TCGA-05-4384          0     13.99\n",
            "5       TCGA-05-4389          0     44.97\n",
            "6       TCGA-05-4390          0     36.99\n",
            "7       TCGA-05-4396          1      9.95\n",
            "8       TCGA-05-4397          1     24.01\n",
            "9       TCGA-05-4398          0     47.01\n"
          ]
        }
      ],
      "source": [
        "clinical_data = clinical_data.reset_index(drop=True)\n",
        "\n",
        "print(clinical_data.head(10))"
      ]
    },
    {
      "cell_type": "markdown",
      "id": "6bf57b79",
      "metadata": {
        "id": "6bf57b79"
      },
      "source": [
        "### Gene data"
      ]
    },
    {
      "cell_type": "markdown",
      "id": "c40a3937",
      "metadata": {
        "id": "c40a3937"
      },
      "source": [
        "#### Load the dataset"
      ]
    },
    {
      "cell_type": "code",
      "execution_count": 998,
      "id": "9bcb35be",
      "metadata": {
        "colab": {
          "base_uri": "https://localhost:8080/"
        },
        "id": "9bcb35be",
        "outputId": "863d1775-dc56-4337-8dd0-01b9758e2a1a"
      },
      "outputs": [
        {
          "output_type": "stream",
          "name": "stdout",
          "text": [
            "                        0          1          2        3       4       5      \\\n",
            "Hugo_Symbol      LOC100130426   UBE2Q2P3   UBE2Q2P3  HMGB1P1  TIMM23   MOXD2   \n",
            "Entrez_Gene_Id      100130426  100133144  100134869    10357   10431  136542   \n",
            "TCGA-05-4244-01       -2.2883      0.038     0.0691  -1.9057 -0.0395     NaN   \n",
            "TCGA-05-4249-01       -2.2883    -0.3514     0.1971   -0.295  0.1945     NaN   \n",
            "TCGA-05-4250-01       -2.2883    -0.3435    -0.7239  -1.9091  0.7761     NaN   \n",
            "...                       ...        ...        ...      ...     ...     ...   \n",
            "TCGA-NJ-A55O-01       -2.2883     0.5729     1.0176  -0.0218  0.0408     NaN   \n",
            "TCGA-NJ-A55R-01       -2.2883    -0.1679    -0.0462  -0.8099 -0.3206     NaN   \n",
            "TCGA-NJ-A7XG-01       -2.2883     1.8645     2.7613  -0.4522 -0.6611     NaN   \n",
            "TCGA-O1-A52J-01       -2.2883     0.4532      1.087  -1.3473  0.7679     NaN   \n",
            "TCGA-S2-AA1A-01       -2.2883     0.9225    -0.2293  -0.7319  -1.161     NaN   \n",
            "\n",
            "                     6         7       8          9      ...   20521   20522  \\\n",
            "Hugo_Symbol      LOC155060  RNU12-2P    SSX9  LOC317712  ...    ZXDA    ZXDB   \n",
            "Entrez_Gene_Id      155060     26823  280660     317712  ...    7789  158586   \n",
            "TCGA-05-4244-01     1.0624    0.5387 -1.2501        NaN  ... -0.2092 -0.4448   \n",
            "TCGA-05-4249-01     -0.069    1.4599 -1.2501        NaN  ...  0.7816  0.8157   \n",
            "TCGA-05-4250-01    -1.4074   -2.1796 -1.2501        NaN  ...  0.7041  0.0911   \n",
            "...                    ...       ...     ...        ...  ...     ...     ...   \n",
            "TCGA-NJ-A55O-01     0.6719    0.7543 -1.2501        NaN  ... -0.1517 -0.1613   \n",
            "TCGA-NJ-A55R-01      1.154     -0.12 -1.2501        NaN  ...  0.3282  0.1494   \n",
            "TCGA-NJ-A7XG-01      1.022   -2.1796 -1.2501        NaN  ... -2.0722 -1.7646   \n",
            "TCGA-O1-A52J-01     0.1428    2.9555 -1.2501        NaN  ...  2.5448  1.1317   \n",
            "TCGA-S2-AA1A-01     1.1789   -0.2677 -1.2501        NaN  ...  0.7138  0.0837   \n",
            "\n",
            "                  20523   20524   20525   20526     20527   20528   20529  \\\n",
            "Hugo_Symbol        ZXDC  ZYG11A  ZYG11B     ZYX  FLJ10821    ZZZ3  TPTEP1   \n",
            "Entrez_Gene_Id    79364  440590   79699    7791     23140   26009  387590   \n",
            "TCGA-05-4244-01 -0.2293 -1.8833   0.985 -0.4967   -0.2737 -0.4482 -1.0407   \n",
            "TCGA-05-4249-01  0.4243 -0.1788 -0.1119 -0.8791    0.3183  0.0984  1.0324   \n",
            "TCGA-05-4250-01 -0.6346 -0.0054 -1.8251  0.8248    0.3805 -0.6777 -1.0698   \n",
            "...                 ...     ...     ...     ...       ...     ...     ...   \n",
            "TCGA-NJ-A55O-01   0.225 -0.2732  -0.386   0.293    0.6698 -0.3969  1.7447   \n",
            "TCGA-NJ-A55R-01  1.1546  0.4441 -0.2421 -0.3319    1.5561 -0.2637  1.9706   \n",
            "TCGA-NJ-A7XG-01  0.5444 -0.6192 -1.4443 -1.2127    0.8153 -1.3431 -1.1463   \n",
            "TCGA-O1-A52J-01  0.7244 -1.9766 -0.1344  0.4326    0.9605 -1.0035  1.0542   \n",
            "TCGA-S2-AA1A-01  1.8159 -0.8773 -0.9062  0.7905    1.0496 -0.8107  1.4044   \n",
            "\n",
            "                   20530  \n",
            "Hugo_Symbol      AKR1C6P  \n",
            "Entrez_Gene_Id    389932  \n",
            "TCGA-05-4244-01  -1.2966  \n",
            "TCGA-05-4249-01  -1.2966  \n",
            "TCGA-05-4250-01  -1.2966  \n",
            "...                  ...  \n",
            "TCGA-NJ-A55O-01  -1.2966  \n",
            "TCGA-NJ-A55R-01   0.5663  \n",
            "TCGA-NJ-A7XG-01  -1.2966  \n",
            "TCGA-O1-A52J-01  -0.3735  \n",
            "TCGA-S2-AA1A-01  -1.2966  \n",
            "\n",
            "[519 rows x 20531 columns]\n"
          ]
        }
      ],
      "source": [
        "gene_data = pd.read_csv('/content/luad_gene_data.txt', sep='\\t').T\n",
        "\n",
        "print(gene_data)"
      ]
    },
    {
      "cell_type": "markdown",
      "source": [
        "#### Change the column name as gene symbol"
      ],
      "metadata": {
        "id": "wdeHNb3kzhnD"
      },
      "id": "wdeHNb3kzhnD"
    },
    {
      "cell_type": "code",
      "source": [
        "gene_data.columns = gene_data.iloc[0]\n",
        "gene_data = gene_data.drop(['Hugo_Symbol', 'Entrez_Gene_Id'])\n",
        "gene_data = gene_data.astype(float)\n",
        "\n",
        "print(gene_data)"
      ],
      "metadata": {
        "colab": {
          "base_uri": "https://localhost:8080/"
        },
        "id": "ww7i_hKXzlG8",
        "outputId": "69b6427c-19b1-4c2b-cf78-dfabc9b32e92"
      },
      "id": "ww7i_hKXzlG8",
      "execution_count": 999,
      "outputs": [
        {
          "output_type": "stream",
          "name": "stdout",
          "text": [
            "Hugo_Symbol      LOC100130426  UBE2Q2P3  UBE2Q2P3  HMGB1P1  TIMM23  MOXD2  \\\n",
            "TCGA-05-4244-01       -2.2883    0.0380    0.0691  -1.9057 -0.0395    NaN   \n",
            "TCGA-05-4249-01       -2.2883   -0.3514    0.1971  -0.2950  0.1945    NaN   \n",
            "TCGA-05-4250-01       -2.2883   -0.3435   -0.7239  -1.9091  0.7761    NaN   \n",
            "TCGA-05-4382-01       -2.2883    0.1873   -0.4402  -0.5333 -0.1787    NaN   \n",
            "TCGA-05-4384-01       -2.2883   -1.2251   -1.3555  -0.8895 -1.1778    NaN   \n",
            "...                       ...       ...       ...      ...     ...    ...   \n",
            "TCGA-NJ-A55O-01       -2.2883    0.5729    1.0176  -0.0218  0.0408    NaN   \n",
            "TCGA-NJ-A55R-01       -2.2883   -0.1679   -0.0462  -0.8099 -0.3206    NaN   \n",
            "TCGA-NJ-A7XG-01       -2.2883    1.8645    2.7613  -0.4522 -0.6611    NaN   \n",
            "TCGA-O1-A52J-01       -2.2883    0.4532    1.0870  -1.3473  0.7679    NaN   \n",
            "TCGA-S2-AA1A-01       -2.2883    0.9225   -0.2293  -0.7319 -1.1610    NaN   \n",
            "\n",
            "Hugo_Symbol      LOC155060  RNU12-2P    SSX9  LOC317712  ...    ZXDA    ZXDB  \\\n",
            "TCGA-05-4244-01     1.0624    0.5387 -1.2501        NaN  ... -0.2092 -0.4448   \n",
            "TCGA-05-4249-01    -0.0690    1.4599 -1.2501        NaN  ...  0.7816  0.8157   \n",
            "TCGA-05-4250-01    -1.4074   -2.1796 -1.2501        NaN  ...  0.7041  0.0911   \n",
            "TCGA-05-4382-01     0.5870   -0.6958 -0.9868        NaN  ... -0.1734 -0.0352   \n",
            "TCGA-05-4384-01     0.7614   -0.3706 -1.2501        NaN  ...  1.3474  1.1341   \n",
            "...                    ...       ...     ...        ...  ...     ...     ...   \n",
            "TCGA-NJ-A55O-01     0.6719    0.7543 -1.2501        NaN  ... -0.1517 -0.1613   \n",
            "TCGA-NJ-A55R-01     1.1540   -0.1200 -1.2501        NaN  ...  0.3282  0.1494   \n",
            "TCGA-NJ-A7XG-01     1.0220   -2.1796 -1.2501        NaN  ... -2.0722 -1.7646   \n",
            "TCGA-O1-A52J-01     0.1428    2.9555 -1.2501        NaN  ...  2.5448  1.1317   \n",
            "TCGA-S2-AA1A-01     1.1789   -0.2677 -1.2501        NaN  ...  0.7138  0.0837   \n",
            "\n",
            "Hugo_Symbol        ZXDC  ZYG11A  ZYG11B     ZYX  FLJ10821    ZZZ3  TPTEP1  \\\n",
            "TCGA-05-4244-01 -0.2293 -1.8833  0.9850 -0.4967   -0.2737 -0.4482 -1.0407   \n",
            "TCGA-05-4249-01  0.4243 -0.1788 -0.1119 -0.8791    0.3183  0.0984  1.0324   \n",
            "TCGA-05-4250-01 -0.6346 -0.0054 -1.8251  0.8248    0.3805 -0.6777 -1.0698   \n",
            "TCGA-05-4382-01 -0.2710  0.5825  0.3717  1.2704    0.3781 -0.0188 -0.0218   \n",
            "TCGA-05-4384-01  0.7826 -0.7635 -0.1493 -0.1648    1.2559  0.2385  1.5166   \n",
            "...                 ...     ...     ...     ...       ...     ...     ...   \n",
            "TCGA-NJ-A55O-01  0.2250 -0.2732 -0.3860  0.2930    0.6698 -0.3969  1.7447   \n",
            "TCGA-NJ-A55R-01  1.1546  0.4441 -0.2421 -0.3319    1.5561 -0.2637  1.9706   \n",
            "TCGA-NJ-A7XG-01  0.5444 -0.6192 -1.4443 -1.2127    0.8153 -1.3431 -1.1463   \n",
            "TCGA-O1-A52J-01  0.7244 -1.9766 -0.1344  0.4326    0.9605 -1.0035  1.0542   \n",
            "TCGA-S2-AA1A-01  1.8159 -0.8773 -0.9062  0.7905    1.0496 -0.8107  1.4044   \n",
            "\n",
            "Hugo_Symbol      AKR1C6P  \n",
            "TCGA-05-4244-01  -1.2966  \n",
            "TCGA-05-4249-01  -1.2966  \n",
            "TCGA-05-4250-01  -1.2966  \n",
            "TCGA-05-4382-01  -1.2966  \n",
            "TCGA-05-4384-01  -1.2966  \n",
            "...                  ...  \n",
            "TCGA-NJ-A55O-01  -1.2966  \n",
            "TCGA-NJ-A55R-01   0.5663  \n",
            "TCGA-NJ-A7XG-01  -1.2966  \n",
            "TCGA-O1-A52J-01  -0.3735  \n",
            "TCGA-S2-AA1A-01  -1.2966  \n",
            "\n",
            "[517 rows x 20531 columns]\n"
          ]
        }
      ]
    },
    {
      "cell_type": "markdown",
      "source": [
        "#### Drop columns with any NaN values"
      ],
      "metadata": {
        "id": "O1bORicZ0Lp1"
      },
      "id": "O1bORicZ0Lp1"
    },
    {
      "cell_type": "code",
      "source": [
        "gene_data = gene_data.dropna(axis=1)\n",
        "\n",
        "print(gene_data)"
      ],
      "metadata": {
        "colab": {
          "base_uri": "https://localhost:8080/"
        },
        "id": "vgY_ZOPT0TOW",
        "outputId": "85a1f9b0-a664-4a1c-8183-e127d6519a41"
      },
      "id": "vgY_ZOPT0TOW",
      "execution_count": 1000,
      "outputs": [
        {
          "output_type": "stream",
          "name": "stdout",
          "text": [
            "Hugo_Symbol      LOC100130426  UBE2Q2P3  UBE2Q2P3  HMGB1P1  TIMM23  LOC155060  \\\n",
            "TCGA-05-4244-01       -2.2883    0.0380    0.0691  -1.9057 -0.0395     1.0624   \n",
            "TCGA-05-4249-01       -2.2883   -0.3514    0.1971  -0.2950  0.1945    -0.0690   \n",
            "TCGA-05-4250-01       -2.2883   -0.3435   -0.7239  -1.9091  0.7761    -1.4074   \n",
            "TCGA-05-4382-01       -2.2883    0.1873   -0.4402  -0.5333 -0.1787     0.5870   \n",
            "TCGA-05-4384-01       -2.2883   -1.2251   -1.3555  -0.8895 -1.1778     0.7614   \n",
            "...                       ...       ...       ...      ...     ...        ...   \n",
            "TCGA-NJ-A55O-01       -2.2883    0.5729    1.0176  -0.0218  0.0408     0.6719   \n",
            "TCGA-NJ-A55R-01       -2.2883   -0.1679   -0.0462  -0.8099 -0.3206     1.1540   \n",
            "TCGA-NJ-A7XG-01       -2.2883    1.8645    2.7613  -0.4522 -0.6611     1.0220   \n",
            "TCGA-O1-A52J-01       -2.2883    0.4532    1.0870  -1.3473  0.7679     0.1428   \n",
            "TCGA-S2-AA1A-01       -2.2883    0.9225   -0.2293  -0.7319 -1.1610     1.1789   \n",
            "\n",
            "Hugo_Symbol      RNU12-2P    SSX9   EZHIP  EFCAB8  ...    ZXDA    ZXDB  \\\n",
            "TCGA-05-4244-01    0.5387 -1.2501 -0.9569  1.3884  ... -0.2092 -0.4448   \n",
            "TCGA-05-4249-01    1.4599 -1.2501 -0.9569 -0.2834  ...  0.7816  0.8157   \n",
            "TCGA-05-4250-01   -2.1796 -1.2501 -0.9569 -1.6633  ...  0.7041  0.0911   \n",
            "TCGA-05-4382-01   -0.6958 -0.9868  1.1884 -0.1789  ... -0.1734 -0.0352   \n",
            "TCGA-05-4384-01   -0.3706 -1.2501 -0.9569 -0.3323  ...  1.3474  1.1341   \n",
            "...                   ...     ...     ...     ...  ...     ...     ...   \n",
            "TCGA-NJ-A55O-01    0.7543 -1.2501 -0.9569 -1.6633  ... -0.1517 -0.1613   \n",
            "TCGA-NJ-A55R-01   -0.1200 -1.2501  0.1089  2.9233  ...  0.3282  0.1494   \n",
            "TCGA-NJ-A7XG-01   -2.1796 -1.2501 -0.9569  0.7316  ... -2.0722 -1.7646   \n",
            "TCGA-O1-A52J-01    2.9555 -1.2501  0.5042 -0.1792  ...  2.5448  1.1317   \n",
            "TCGA-S2-AA1A-01   -0.2677 -1.2501  0.3220  1.2050  ...  0.7138  0.0837   \n",
            "\n",
            "Hugo_Symbol        ZXDC  ZYG11A  ZYG11B     ZYX  FLJ10821    ZZZ3  TPTEP1  \\\n",
            "TCGA-05-4244-01 -0.2293 -1.8833  0.9850 -0.4967   -0.2737 -0.4482 -1.0407   \n",
            "TCGA-05-4249-01  0.4243 -0.1788 -0.1119 -0.8791    0.3183  0.0984  1.0324   \n",
            "TCGA-05-4250-01 -0.6346 -0.0054 -1.8251  0.8248    0.3805 -0.6777 -1.0698   \n",
            "TCGA-05-4382-01 -0.2710  0.5825  0.3717  1.2704    0.3781 -0.0188 -0.0218   \n",
            "TCGA-05-4384-01  0.7826 -0.7635 -0.1493 -0.1648    1.2559  0.2385  1.5166   \n",
            "...                 ...     ...     ...     ...       ...     ...     ...   \n",
            "TCGA-NJ-A55O-01  0.2250 -0.2732 -0.3860  0.2930    0.6698 -0.3969  1.7447   \n",
            "TCGA-NJ-A55R-01  1.1546  0.4441 -0.2421 -0.3319    1.5561 -0.2637  1.9706   \n",
            "TCGA-NJ-A7XG-01  0.5444 -0.6192 -1.4443 -1.2127    0.8153 -1.3431 -1.1463   \n",
            "TCGA-O1-A52J-01  0.7244 -1.9766 -0.1344  0.4326    0.9605 -1.0035  1.0542   \n",
            "TCGA-S2-AA1A-01  1.8159 -0.8773 -0.9062  0.7905    1.0496 -0.8107  1.4044   \n",
            "\n",
            "Hugo_Symbol      AKR1C6P  \n",
            "TCGA-05-4244-01  -1.2966  \n",
            "TCGA-05-4249-01  -1.2966  \n",
            "TCGA-05-4250-01  -1.2966  \n",
            "TCGA-05-4382-01  -1.2966  \n",
            "TCGA-05-4384-01  -1.2966  \n",
            "...                  ...  \n",
            "TCGA-NJ-A55O-01  -1.2966  \n",
            "TCGA-NJ-A55R-01   0.5663  \n",
            "TCGA-NJ-A7XG-01  -1.2966  \n",
            "TCGA-O1-A52J-01  -0.3735  \n",
            "TCGA-S2-AA1A-01  -1.2966  \n",
            "\n",
            "[517 rows x 20113 columns]\n"
          ]
        }
      ]
    },
    {
      "cell_type": "markdown",
      "source": [
        "#### Remove the last '-01' part in index"
      ],
      "metadata": {
        "id": "caB2EvuV1exn"
      },
      "id": "caB2EvuV1exn"
    },
    {
      "cell_type": "code",
      "source": [
        "gene_data.index = gene_data.index.astype(str)\n",
        "gene_data.index = gene_data.index.str.replace(r'-\\d+$', '', regex=True)\n",
        "\n",
        "print(gene_data)"
      ],
      "metadata": {
        "colab": {
          "base_uri": "https://localhost:8080/"
        },
        "id": "102a9-5R1i2V",
        "outputId": "4197eae2-e5f9-4458-d62c-8cdd7458771d"
      },
      "id": "102a9-5R1i2V",
      "execution_count": 1001,
      "outputs": [
        {
          "output_type": "stream",
          "name": "stdout",
          "text": [
            "Hugo_Symbol   LOC100130426  UBE2Q2P3  UBE2Q2P3  HMGB1P1  TIMM23  LOC155060  \\\n",
            "TCGA-05-4244       -2.2883    0.0380    0.0691  -1.9057 -0.0395     1.0624   \n",
            "TCGA-05-4249       -2.2883   -0.3514    0.1971  -0.2950  0.1945    -0.0690   \n",
            "TCGA-05-4250       -2.2883   -0.3435   -0.7239  -1.9091  0.7761    -1.4074   \n",
            "TCGA-05-4382       -2.2883    0.1873   -0.4402  -0.5333 -0.1787     0.5870   \n",
            "TCGA-05-4384       -2.2883   -1.2251   -1.3555  -0.8895 -1.1778     0.7614   \n",
            "...                    ...       ...       ...      ...     ...        ...   \n",
            "TCGA-NJ-A55O       -2.2883    0.5729    1.0176  -0.0218  0.0408     0.6719   \n",
            "TCGA-NJ-A55R       -2.2883   -0.1679   -0.0462  -0.8099 -0.3206     1.1540   \n",
            "TCGA-NJ-A7XG       -2.2883    1.8645    2.7613  -0.4522 -0.6611     1.0220   \n",
            "TCGA-O1-A52J       -2.2883    0.4532    1.0870  -1.3473  0.7679     0.1428   \n",
            "TCGA-S2-AA1A       -2.2883    0.9225   -0.2293  -0.7319 -1.1610     1.1789   \n",
            "\n",
            "Hugo_Symbol   RNU12-2P    SSX9   EZHIP  EFCAB8  ...    ZXDA    ZXDB    ZXDC  \\\n",
            "TCGA-05-4244    0.5387 -1.2501 -0.9569  1.3884  ... -0.2092 -0.4448 -0.2293   \n",
            "TCGA-05-4249    1.4599 -1.2501 -0.9569 -0.2834  ...  0.7816  0.8157  0.4243   \n",
            "TCGA-05-4250   -2.1796 -1.2501 -0.9569 -1.6633  ...  0.7041  0.0911 -0.6346   \n",
            "TCGA-05-4382   -0.6958 -0.9868  1.1884 -0.1789  ... -0.1734 -0.0352 -0.2710   \n",
            "TCGA-05-4384   -0.3706 -1.2501 -0.9569 -0.3323  ...  1.3474  1.1341  0.7826   \n",
            "...                ...     ...     ...     ...  ...     ...     ...     ...   \n",
            "TCGA-NJ-A55O    0.7543 -1.2501 -0.9569 -1.6633  ... -0.1517 -0.1613  0.2250   \n",
            "TCGA-NJ-A55R   -0.1200 -1.2501  0.1089  2.9233  ...  0.3282  0.1494  1.1546   \n",
            "TCGA-NJ-A7XG   -2.1796 -1.2501 -0.9569  0.7316  ... -2.0722 -1.7646  0.5444   \n",
            "TCGA-O1-A52J    2.9555 -1.2501  0.5042 -0.1792  ...  2.5448  1.1317  0.7244   \n",
            "TCGA-S2-AA1A   -0.2677 -1.2501  0.3220  1.2050  ...  0.7138  0.0837  1.8159   \n",
            "\n",
            "Hugo_Symbol   ZYG11A  ZYG11B     ZYX  FLJ10821    ZZZ3  TPTEP1  AKR1C6P  \n",
            "TCGA-05-4244 -1.8833  0.9850 -0.4967   -0.2737 -0.4482 -1.0407  -1.2966  \n",
            "TCGA-05-4249 -0.1788 -0.1119 -0.8791    0.3183  0.0984  1.0324  -1.2966  \n",
            "TCGA-05-4250 -0.0054 -1.8251  0.8248    0.3805 -0.6777 -1.0698  -1.2966  \n",
            "TCGA-05-4382  0.5825  0.3717  1.2704    0.3781 -0.0188 -0.0218  -1.2966  \n",
            "TCGA-05-4384 -0.7635 -0.1493 -0.1648    1.2559  0.2385  1.5166  -1.2966  \n",
            "...              ...     ...     ...       ...     ...     ...      ...  \n",
            "TCGA-NJ-A55O -0.2732 -0.3860  0.2930    0.6698 -0.3969  1.7447  -1.2966  \n",
            "TCGA-NJ-A55R  0.4441 -0.2421 -0.3319    1.5561 -0.2637  1.9706   0.5663  \n",
            "TCGA-NJ-A7XG -0.6192 -1.4443 -1.2127    0.8153 -1.3431 -1.1463  -1.2966  \n",
            "TCGA-O1-A52J -1.9766 -0.1344  0.4326    0.9605 -1.0035  1.0542  -0.3735  \n",
            "TCGA-S2-AA1A -0.8773 -0.9062  0.7905    1.0496 -0.8107  1.4044  -1.2966  \n",
            "\n",
            "[517 rows x 20113 columns]\n"
          ]
        }
      ]
    },
    {
      "cell_type": "markdown",
      "source": [
        "#### Check and control the duplicated genes"
      ],
      "metadata": {
        "id": "B5Dn8O3N2ITL"
      },
      "id": "B5Dn8O3N2ITL"
    },
    {
      "cell_type": "code",
      "source": [
        "duplicated_genes = gene_data.columns[gene_data.columns.duplicated()]\n",
        "\n",
        "print(duplicated_genes)\n",
        "print(len(duplicated_genes))"
      ],
      "metadata": {
        "colab": {
          "base_uri": "https://localhost:8080/"
        },
        "id": "bR8vHUyD2NTX",
        "outputId": "88504555-79cf-4c8e-d53f-81390faab0b8"
      },
      "id": "bR8vHUyD2NTX",
      "execution_count": 1002,
      "outputs": [
        {
          "output_type": "stream",
          "name": "stdout",
          "text": [
            "Index(['UBE2Q2P3', 'CC2D2B', 'CCDC7', 'CYorf15B', 'C1orf84', 'LINC00875',\n",
            "       'ELMOD1', 'NBPF16', 'NEBL', 'NKAIN3', 'C5orf23', 'PALM2AKAP2',\n",
            "       'PLEKHG7', 'QSOX1', 'SH3D20', 'SNAP47', 'NCRNA00185'],\n",
            "      dtype='object', name='Hugo_Symbol')\n",
            "17\n"
          ]
        }
      ]
    },
    {
      "cell_type": "code",
      "source": [
        "for gene in duplicated_genes:\n",
        "  var_gene = np.var(gene_data[gene])\n",
        "\n",
        "  if var_gene.values[0] < var_gene.values[1]:\n",
        "    gene_data[gene] = gene_data[gene].iloc[:, 1]\n",
        "  else:\n",
        "    gene_data[gene] = gene_data[gene].iloc[:, 0]\n",
        "\n",
        "gene_data = gene_data.iloc[:, ~gene_data.columns.duplicated()]\n",
        "print(gene_data)"
      ],
      "metadata": {
        "colab": {
          "base_uri": "https://localhost:8080/"
        },
        "id": "58qQPIx2JKuV",
        "outputId": "3b163f56-1ec0-4a57-94b6-d79ab20c5b57"
      },
      "id": "58qQPIx2JKuV",
      "execution_count": 1003,
      "outputs": [
        {
          "output_type": "stream",
          "name": "stderr",
          "text": [
            "/usr/local/lib/python3.11/dist-packages/numpy/_core/fromnumeric.py:4006: FutureWarning: The behavior of DataFrame.var with axis=None is deprecated, in a future version this will reduce over both axes and return a scalar. To retain the old behavior, pass axis=0 (or do not pass axis)\n",
            "  return var(axis=axis, dtype=dtype, out=out, ddof=ddof, **kwargs)\n"
          ]
        },
        {
          "output_type": "stream",
          "name": "stdout",
          "text": [
            "Hugo_Symbol   LOC100130426  UBE2Q2P3  HMGB1P1  TIMM23  LOC155060  RNU12-2P  \\\n",
            "TCGA-05-4244       -2.2883    0.0380  -1.9057 -0.0395     1.0624    0.5387   \n",
            "TCGA-05-4249       -2.2883   -0.3514  -0.2950  0.1945    -0.0690    1.4599   \n",
            "TCGA-05-4250       -2.2883   -0.3435  -1.9091  0.7761    -1.4074   -2.1796   \n",
            "TCGA-05-4382       -2.2883    0.1873  -0.5333 -0.1787     0.5870   -0.6958   \n",
            "TCGA-05-4384       -2.2883   -1.2251  -0.8895 -1.1778     0.7614   -0.3706   \n",
            "...                    ...       ...      ...     ...        ...       ...   \n",
            "TCGA-NJ-A55O       -2.2883    0.5729  -0.0218  0.0408     0.6719    0.7543   \n",
            "TCGA-NJ-A55R       -2.2883   -0.1679  -0.8099 -0.3206     1.1540   -0.1200   \n",
            "TCGA-NJ-A7XG       -2.2883    1.8645  -0.4522 -0.6611     1.0220   -2.1796   \n",
            "TCGA-O1-A52J       -2.2883    0.4532  -1.3473  0.7679     0.1428    2.9555   \n",
            "TCGA-S2-AA1A       -2.2883    0.9225  -0.7319 -1.1610     1.1789   -0.2677   \n",
            "\n",
            "Hugo_Symbol     SSX9   EZHIP  EFCAB8  SRP14P1  ...    ZXDA    ZXDB    ZXDC  \\\n",
            "TCGA-05-4244 -1.2501 -0.9569  1.3884   0.1027  ... -0.2092 -0.4448 -0.2293   \n",
            "TCGA-05-4249 -1.2501 -0.9569 -0.2834  -0.0119  ...  0.7816  0.8157  0.4243   \n",
            "TCGA-05-4250 -1.2501 -0.9569 -1.6633  -0.0611  ...  0.7041  0.0911 -0.6346   \n",
            "TCGA-05-4382 -0.9868  1.1884 -0.1789  -0.2600  ... -0.1734 -0.0352 -0.2710   \n",
            "TCGA-05-4384 -1.2501 -0.9569 -0.3323   0.2313  ...  1.3474  1.1341  0.7826   \n",
            "...              ...     ...     ...      ...  ...     ...     ...     ...   \n",
            "TCGA-NJ-A55O -1.2501 -0.9569 -1.6633  -0.1497  ... -0.1517 -0.1613  0.2250   \n",
            "TCGA-NJ-A55R -1.2501  0.1089  2.9233  -1.7395  ...  0.3282  0.1494  1.1546   \n",
            "TCGA-NJ-A7XG -1.2501 -0.9569  0.7316  -1.6127  ... -2.0722 -1.7646  0.5444   \n",
            "TCGA-O1-A52J -1.2501  0.5042 -0.1792  -0.1152  ...  2.5448  1.1317  0.7244   \n",
            "TCGA-S2-AA1A -1.2501  0.3220  1.2050  -1.2385  ...  0.7138  0.0837  1.8159   \n",
            "\n",
            "Hugo_Symbol   ZYG11A  ZYG11B     ZYX  FLJ10821    ZZZ3  TPTEP1  AKR1C6P  \n",
            "TCGA-05-4244 -1.8833  0.9850 -0.4967   -0.2737 -0.4482 -1.0407  -1.2966  \n",
            "TCGA-05-4249 -0.1788 -0.1119 -0.8791    0.3183  0.0984  1.0324  -1.2966  \n",
            "TCGA-05-4250 -0.0054 -1.8251  0.8248    0.3805 -0.6777 -1.0698  -1.2966  \n",
            "TCGA-05-4382  0.5825  0.3717  1.2704    0.3781 -0.0188 -0.0218  -1.2966  \n",
            "TCGA-05-4384 -0.7635 -0.1493 -0.1648    1.2559  0.2385  1.5166  -1.2966  \n",
            "...              ...     ...     ...       ...     ...     ...      ...  \n",
            "TCGA-NJ-A55O -0.2732 -0.3860  0.2930    0.6698 -0.3969  1.7447  -1.2966  \n",
            "TCGA-NJ-A55R  0.4441 -0.2421 -0.3319    1.5561 -0.2637  1.9706   0.5663  \n",
            "TCGA-NJ-A7XG -0.6192 -1.4443 -1.2127    0.8153 -1.3431 -1.1463  -1.2966  \n",
            "TCGA-O1-A52J -1.9766 -0.1344  0.4326    0.9605 -1.0035  1.0542  -0.3735  \n",
            "TCGA-S2-AA1A -0.8773 -0.9062  0.7905    1.0496 -0.8107  1.4044  -1.2966  \n",
            "\n",
            "[517 rows x 20096 columns]\n"
          ]
        }
      ]
    },
    {
      "cell_type": "markdown",
      "source": [
        "## Feature Selection"
      ],
      "metadata": {
        "id": "jNQt0Z3qMrqR"
      },
      "id": "jNQt0Z3qMrqR"
    },
    {
      "cell_type": "markdown",
      "source": [
        "### 1. Variance-based Univariate Selection(Top 500)"
      ],
      "metadata": {
        "id": "2cB5yVOjMF57"
      },
      "id": "2cB5yVOjMF57"
    },
    {
      "cell_type": "markdown",
      "source": [
        "#### Calculate variance by column"
      ],
      "metadata": {
        "id": "H3hwhAadPLfL"
      },
      "id": "H3hwhAadPLfL"
    },
    {
      "cell_type": "code",
      "source": [
        "variances = gene_data.var(axis=0)\n",
        "print(variances)"
      ],
      "metadata": {
        "colab": {
          "base_uri": "https://localhost:8080/"
        },
        "id": "8rgKTTf7MKgG",
        "outputId": "45491538-147f-469b-8778-fbaaf72a4c25"
      },
      "id": "8rgKTTf7MKgG",
      "execution_count": 1004,
      "outputs": [
        {
          "output_type": "stream",
          "name": "stdout",
          "text": [
            "Hugo_Symbol\n",
            "LOC100130426    0.245146\n",
            "UBE2Q2P3        1.248637\n",
            "HMGB1P1         1.001940\n",
            "TIMM23          1.001939\n",
            "LOC155060       1.001941\n",
            "                  ...   \n",
            "ZYX             1.001936\n",
            "FLJ10821        1.001935\n",
            "ZZZ3            1.001940\n",
            "TPTEP1          1.001939\n",
            "AKR1C6P         0.416599\n",
            "Length: 20096, dtype: float64\n"
          ]
        }
      ]
    },
    {
      "cell_type": "code",
      "source": [
        "top_100_variance = variances.sort_values(ascending=False).head(100)\n",
        "print(top_100_variance)"
      ],
      "metadata": {
        "colab": {
          "base_uri": "https://localhost:8080/"
        },
        "id": "5DxmziGEPnYV",
        "outputId": "3456906b-bca0-45b4-e2c7-d02122ea1c92"
      },
      "id": "5DxmziGEPnYV",
      "execution_count": 1005,
      "outputs": [
        {
          "output_type": "stream",
          "name": "stdout",
          "text": [
            "Hugo_Symbol\n",
            "OR6K2        57.466105\n",
            "OR4C45       19.551354\n",
            "KRTAP24-1    15.872888\n",
            "OR7C3         5.544010\n",
            "ZNHIT2        4.114460\n",
            "               ...    \n",
            "FLJ32662      1.539155\n",
            "MLANA         1.537218\n",
            "DPPA2P3       1.536937\n",
            "SUMO4         1.536818\n",
            "PRNT          1.536028\n",
            "Length: 100, dtype: float64\n"
          ]
        }
      ]
    },
    {
      "cell_type": "markdown",
      "source": [
        "#### Drop other columns"
      ],
      "metadata": {
        "id": "tb9wC27CQ381"
      },
      "id": "tb9wC27CQ381"
    },
    {
      "cell_type": "code",
      "source": [
        "gene_data_100 = gene_data[top_100_variance.index]\n",
        "print(gene_data_100)"
      ],
      "metadata": {
        "colab": {
          "base_uri": "https://localhost:8080/"
        },
        "id": "vKHkzsfBQ-3h",
        "outputId": "bd1d169c-5cb4-4eb8-f49b-92aa81eb221c"
      },
      "id": "vKHkzsfBQ-3h",
      "execution_count": 1006,
      "outputs": [
        {
          "output_type": "stream",
          "name": "stdout",
          "text": [
            "Hugo_Symbol      OR6K2   OR4C45  KRTAP24-1    OR7C3  ZNHIT2   DUX4L2  \\\n",
            "TCGA-05-4244 -121.9952 -71.1536   -64.1101 -30.9537 -0.0887 -31.5977   \n",
            "TCGA-05-4249 -121.9952 -71.1536   -64.1101 -30.9537 -0.7377 -31.5977   \n",
            "TCGA-05-4250 -121.9952 -71.1536   -64.1101 -30.9537 -0.1711 -31.5977   \n",
            "TCGA-05-4382 -121.9952 -71.1536   -64.1101 -30.9537 -0.6707 -31.5977   \n",
            "TCGA-05-4384 -121.9952 -71.1536   -64.1101 -30.9537  0.0768 -31.5977   \n",
            "...                ...      ...        ...      ...     ...      ...   \n",
            "TCGA-NJ-A55O -121.9952 -71.1536   -64.1101 -30.9537  0.2712 -31.5977   \n",
            "TCGA-NJ-A55R -121.9952 -71.1536   -64.1101 -30.9537  0.1254 -31.5977   \n",
            "TCGA-NJ-A7XG -121.9952 -71.1536   -64.1101 -30.9537  0.8624 -31.5977   \n",
            "TCGA-O1-A52J -121.9952 -71.1536   -64.1101 -30.9537  0.4563 -31.5977   \n",
            "TCGA-S2-AA1A -121.9952 -71.1536   -64.1101 -30.9537  0.5036 -31.5977   \n",
            "\n",
            "Hugo_Symbol   TMEM189-UBE2V1  KRTAP20-2  OR12D3  ZFP91-CNTF  ...   GPR52  \\\n",
            "TCGA-05-4244         -3.5024   -23.5867  -27.29     -3.2558  ... -0.2934   \n",
            "TCGA-05-4249         -3.5024   -23.5867  -27.29     -0.7277  ... -2.2012   \n",
            "TCGA-05-4250         -3.5024   -23.5867  -27.29     -3.2558  ... -2.2012   \n",
            "TCGA-05-4382         -0.4443   -23.5867  -27.29     -1.6353  ...  0.6338   \n",
            "TCGA-05-4384         -3.5024   -23.5867  -27.29     -3.2558  ... -0.4833   \n",
            "...                      ...        ...     ...         ...  ...     ...   \n",
            "TCGA-NJ-A55O         -3.5024   -23.5867  -27.29     -3.2558  ... -2.2012   \n",
            "TCGA-NJ-A55R         -3.5024   -23.5867  -27.29     -1.5319  ... -0.2454   \n",
            "TCGA-NJ-A7XG         -3.5024   -23.5867  -27.29     -0.8374  ... -2.2012   \n",
            "TCGA-O1-A52J         -0.7741   -23.5867  -27.29     -3.2558  ... -0.7923   \n",
            "TCGA-S2-AA1A         -3.5024   -23.5867  -27.29     -3.2558  ... -2.2012   \n",
            "\n",
            "Hugo_Symbol   ITPK1-AS1  SPATA45  BTBD18  C9orf50  FLJ32662   MLANA  DPPA2P3  \\\n",
            "TCGA-05-4244     1.2139  -0.5350  0.4078   0.1648    1.2958 -2.0257   0.4983   \n",
            "TCGA-05-4249    -2.0477   0.9502 -0.9065  -1.3090   -1.3098 -1.3293  -1.0911   \n",
            "TCGA-05-4250    -1.2208  -1.9751 -1.4464  -2.0007   -0.6849 -2.0257  -2.1056   \n",
            "TCGA-05-4382    -2.0477  -1.3916 -0.1638  -1.0316   -1.4856 -1.4905  -0.6843   \n",
            "TCGA-05-4384    -2.0477  -0.6783 -0.1346   0.5793   -2.0695 -2.0257   0.7956   \n",
            "...                 ...      ...     ...      ...       ...     ...      ...   \n",
            "TCGA-NJ-A55O    -0.7207  -1.9751 -1.0026   0.9829    0.6840  1.3803  -2.1056   \n",
            "TCGA-NJ-A55R    -0.4803   0.4528 -0.7892  -1.0283   -0.5921  1.1993  -1.3230   \n",
            "TCGA-NJ-A7XG    -0.1704  -1.9751  1.2053   2.6356   -0.2999  3.6424  -0.7355   \n",
            "TCGA-O1-A52J    -0.1092   0.9336  0.9500   0.2049   -2.0695 -2.0257   2.3338   \n",
            "TCGA-S2-AA1A    -2.0477   1.9766 -0.0343   3.2153   -2.0695  6.4987  -2.1056   \n",
            "\n",
            "Hugo_Symbol    SUMO4     PRNT  \n",
            "TCGA-05-4244  0.0478 -19.9206  \n",
            "TCGA-05-4249 -0.0698 -19.9206  \n",
            "TCGA-05-4250 -0.4176 -19.9206  \n",
            "TCGA-05-4382  0.5445 -19.9206  \n",
            "TCGA-05-4384 -0.9600 -19.9206  \n",
            "...              ...      ...  \n",
            "TCGA-NJ-A55O -2.1700 -19.9206  \n",
            "TCGA-NJ-A55R  1.2730 -19.9206  \n",
            "TCGA-NJ-A7XG  1.1827 -19.9206  \n",
            "TCGA-O1-A52J  0.9299 -19.9206  \n",
            "TCGA-S2-AA1A -0.0448 -19.9206  \n",
            "\n",
            "[517 rows x 100 columns]\n"
          ]
        }
      ]
    },
    {
      "cell_type": "markdown",
      "source": [
        "#### Normalize the gene dataset (Z-score)"
      ],
      "metadata": {
        "id": "pcpynWLARPPw"
      },
      "id": "pcpynWLARPPw"
    },
    {
      "cell_type": "code",
      "source": [
        "numeric_cols = gene_data_100.columns[1:]\n",
        "gene_data_100.loc[:, numeric_cols] = StandardScaler().fit_transform(gene_data_100[numeric_cols])\n",
        "print(gene_data_100)"
      ],
      "metadata": {
        "colab": {
          "base_uri": "https://localhost:8080/"
        },
        "id": "sumaegDcRSiM",
        "outputId": "d2e771b8-ce6f-4065-c878-cef0f31f18bc"
      },
      "id": "sumaegDcRSiM",
      "execution_count": 1007,
      "outputs": [
        {
          "output_type": "stream",
          "name": "stdout",
          "text": [
            "Hugo_Symbol      OR6K2    OR4C45  KRTAP24-1     OR7C3    ZNHIT2    DUX4L2  \\\n",
            "TCGA-05-4244 -121.9952 -0.062312   -0.06231 -0.076357  0.211212 -0.062286   \n",
            "TCGA-05-4249 -121.9952 -0.062312   -0.06231 -0.076357 -0.109052 -0.062286   \n",
            "TCGA-05-4250 -121.9952 -0.062312   -0.06231 -0.076357  0.170550 -0.062286   \n",
            "TCGA-05-4382 -121.9952 -0.062312   -0.06231 -0.076357 -0.075990 -0.062286   \n",
            "TCGA-05-4384 -121.9952 -0.062312   -0.06231 -0.076357  0.292882 -0.062286   \n",
            "...                ...       ...        ...       ...       ...       ...   \n",
            "TCGA-NJ-A55O -121.9952 -0.062312   -0.06231 -0.076357  0.388813 -0.062286   \n",
            "TCGA-NJ-A55R -121.9952 -0.062312   -0.06231 -0.076357  0.316865 -0.062286   \n",
            "TCGA-NJ-A7XG -121.9952 -0.062312   -0.06231 -0.076357  0.680555 -0.062286   \n",
            "TCGA-O1-A52J -121.9952 -0.062312   -0.06231 -0.076357  0.480155 -0.062286   \n",
            "TCGA-S2-AA1A -121.9952 -0.062312   -0.06231 -0.076357  0.503497 -0.062286   \n",
            "\n",
            "Hugo_Symbol   TMEM189-UBE2V1  KRTAP20-2    OR12D3  ZFP91-CNTF  ...     GPR52  \\\n",
            "TCGA-05-4244       -0.737549  -0.076329 -0.062276   -0.644388  ...  0.847690   \n",
            "TCGA-05-4249       -0.737549  -0.076329 -0.062276    0.913967  ... -0.689574   \n",
            "TCGA-05-4250       -0.737549  -0.076329 -0.062276   -0.644388  ... -0.689574   \n",
            "TCGA-05-4382        0.952506  -0.076329 -0.062276    0.354510  ...  1.594808   \n",
            "TCGA-05-4384       -0.737549  -0.076329 -0.062276   -0.644388  ...  0.694673   \n",
            "...                      ...        ...       ...         ...  ...       ...   \n",
            "TCGA-NJ-A55O       -0.737549  -0.076329 -0.062276   -0.644388  ... -0.689574   \n",
            "TCGA-NJ-A55R       -0.737549  -0.076329 -0.062276    0.418247  ...  0.886368   \n",
            "TCGA-NJ-A7XG       -0.737549  -0.076329 -0.062276    0.846346  ... -0.689574   \n",
            "TCGA-O1-A52J        0.770243  -0.076329 -0.062276   -0.644388  ...  0.445688   \n",
            "TCGA-S2-AA1A       -0.737549  -0.076329 -0.062276   -0.644388  ... -0.689574   \n",
            "\n",
            "Hugo_Symbol   ITPK1-AS1   SPATA45    BTBD18   C9orf50  FLJ32662     MLANA  \\\n",
            "TCGA-05-4244   1.818038  0.141541  0.658908  0.607419  1.439501 -1.202046   \n",
            "TCGA-05-4249  -0.810878  1.338826 -0.401240 -0.581424 -0.662762 -0.639819   \n",
            "TCGA-05-4250  -0.144379 -1.019386 -0.836737 -1.139384 -0.158577 -1.202046   \n",
            "TCGA-05-4382  -0.810878 -0.549001  0.197841 -0.357659 -0.804602 -0.769961   \n",
            "TCGA-05-4384  -0.810878  0.026021  0.221394  0.941775 -1.275707 -1.202046   \n",
            "...                 ...       ...       ...       ...       ...       ...   \n",
            "TCGA-NJ-A55O   0.258711 -1.019386 -0.478757  1.267340  0.945885  1.547730   \n",
            "TCGA-NJ-A55R   0.452479  0.937850 -0.306623 -0.354997 -0.083704  1.401602   \n",
            "TCGA-NJ-A7XG   0.702264 -1.019386  1.302191  2.600492  0.152050  3.373997   \n",
            "TCGA-O1-A52J   0.751593  1.325444  1.096260  0.639765 -1.275707 -1.202046   \n",
            "TCGA-S2-AA1A  -0.810878  2.166252  0.302299  3.068108 -1.275707  5.679982   \n",
            "\n",
            "Hugo_Symbol    DPPA2P3     SUMO4      PRNT  \n",
            "TCGA-05-4244  1.352663  0.370723 -0.062239  \n",
            "TCGA-05-4249  0.069371  0.275768 -0.062239  \n",
            "TCGA-05-4250 -0.749743 -0.005058 -0.062239  \n",
            "TCGA-05-4382  0.397824  0.771778 -0.062239  \n",
            "TCGA-05-4384  1.592705 -0.443013 -0.062239  \n",
            "...                ...       ...       ...  \n",
            "TCGA-NJ-A55O -0.749743 -1.420013 -0.062239  \n",
            "TCGA-NJ-A55R -0.117867  1.359996 -0.062239  \n",
            "TCGA-NJ-A7XG  0.356485  1.287085 -0.062239  \n",
            "TCGA-O1-A52J  2.834658  1.082964 -0.062239  \n",
            "TCGA-S2-AA1A -0.749743  0.295954 -0.062239  \n",
            "\n",
            "[517 rows x 100 columns]\n"
          ]
        }
      ]
    },
    {
      "cell_type": "markdown",
      "source": [
        "### 2. KEGG pathway"
      ],
      "metadata": {
        "id": "-gwGnGvfMLd2"
      },
      "id": "-gwGnGvfMLd2"
    },
    {
      "cell_type": "code",
      "source": [],
      "metadata": {
        "id": "HW7tmLhFCIeX"
      },
      "id": "HW7tmLhFCIeX",
      "execution_count": 1007,
      "outputs": []
    },
    {
      "cell_type": "markdown",
      "source": [
        "### 3. Reactome pathway"
      ],
      "metadata": {
        "id": "UE8GxooIMPPE"
      },
      "id": "UE8GxooIMPPE"
    },
    {
      "cell_type": "code",
      "source": [],
      "metadata": {
        "id": "g7nymIVqMVdN"
      },
      "id": "g7nymIVqMVdN",
      "execution_count": 1007,
      "outputs": []
    },
    {
      "cell_type": "markdown",
      "source": [
        "### 4. Cascaded Wx"
      ],
      "metadata": {
        "id": "_QLhDELfMR1L"
      },
      "id": "_QLhDELfMR1L"
    },
    {
      "cell_type": "code",
      "source": [],
      "metadata": {
        "id": "qgqwIIO-MU4C"
      },
      "id": "qgqwIIO-MU4C",
      "execution_count": 1007,
      "outputs": []
    },
    {
      "cell_type": "markdown",
      "source": [
        "## Merge the clinical data and the gene data"
      ],
      "metadata": {
        "id": "EReOL0-mQGXc"
      },
      "id": "EReOL0-mQGXc"
    },
    {
      "cell_type": "code",
      "source": [
        "merged_data = pd.merge(gene_data_100,\n",
        "                       clinical_data,\n",
        "                       left_on=gene_data_100.index,\n",
        "                       right_on='Patient Identifier',\n",
        "                       how='inner')\n",
        "\n",
        "print(merged_data)"
      ],
      "metadata": {
        "id": "BuPkS8ISSwsG",
        "colab": {
          "base_uri": "https://localhost:8080/"
        },
        "outputId": "0dd62d9d-c98c-4b37-e71f-0933eae15773"
      },
      "id": "BuPkS8ISSwsG",
      "execution_count": 1008,
      "outputs": [
        {
          "output_type": "stream",
          "name": "stdout",
          "text": [
            "        OR6K2    OR4C45  KRTAP24-1     OR7C3    ZNHIT2    DUX4L2  \\\n",
            "0   -121.9952 -0.062312   -0.06231 -0.076357 -0.109052 -0.062286   \n",
            "1   -121.9952 -0.062312   -0.06231 -0.076357  0.170550 -0.062286   \n",
            "2   -121.9952 -0.062312   -0.06231 -0.076357 -0.075990 -0.062286   \n",
            "3   -121.9952 -0.062312   -0.06231 -0.076357  0.292882 -0.062286   \n",
            "4   -121.9952 -0.062312   -0.06231 -0.076357 -0.669737 -0.062286   \n",
            "..        ...       ...        ...       ...       ...       ...   \n",
            "499 -121.9952 -0.062312   -0.06231 -0.076357  0.388813 -0.062286   \n",
            "500 -121.9952 -0.062312   -0.06231 -0.076357  0.316865 -0.062286   \n",
            "501 -121.9952 -0.062312   -0.06231 -0.076357  0.680555 -0.062286   \n",
            "502 -121.9952 -0.062312   -0.06231 -0.076357  0.480155 -0.062286   \n",
            "503 -121.9952 -0.062312   -0.06231 -0.076357  0.503497 -0.062286   \n",
            "\n",
            "     TMEM189-UBE2V1  KRTAP20-2    OR12D3  ZFP91-CNTF  ...    BTBD18   C9orf50  \\\n",
            "0         -0.737549  -0.076329 -0.062276    0.913967  ... -0.401240 -0.581424   \n",
            "1         -0.737549  -0.076329 -0.062276   -0.644388  ... -0.836737 -1.139384   \n",
            "2          0.952506  -0.076329 -0.062276    0.354510  ...  0.197841 -0.357659   \n",
            "3         -0.737549  -0.076329 -0.062276   -0.644388  ...  0.221394  0.941775   \n",
            "4         -0.737549  -0.076329 -0.062276    0.706852  ... -0.830526 -0.560935   \n",
            "..              ...        ...       ...         ...  ...       ...       ...   \n",
            "499       -0.737549  -0.076329 -0.062276   -0.644388  ... -0.478757  1.267340   \n",
            "500       -0.737549  -0.076329 -0.062276    0.418247  ... -0.306623 -0.354997   \n",
            "501       -0.737549  -0.076329 -0.062276    0.846346  ...  1.302191  2.600492   \n",
            "502        0.770243  -0.076329 -0.062276   -0.644388  ...  1.096260  0.639765   \n",
            "503       -0.737549  -0.076329 -0.062276   -0.644388  ...  0.302299  3.068108   \n",
            "\n",
            "     FLJ32662     MLANA   DPPA2P3     SUMO4      PRNT  Patient Identifier  \\\n",
            "0   -0.662762 -0.639819  0.069371  0.275768 -0.062239        TCGA-05-4249   \n",
            "1   -0.158577 -1.202046 -0.749743 -0.005058 -0.062239        TCGA-05-4250   \n",
            "2   -0.804602 -0.769961  0.397824  0.771778 -0.062239        TCGA-05-4382   \n",
            "3   -1.275707 -1.202046  1.592705 -0.443013 -0.062239        TCGA-05-4384   \n",
            "4   -0.640252 -1.202046 -0.749743 -1.420013 -0.062239        TCGA-05-4389   \n",
            "..        ...       ...       ...       ...       ...                 ...   \n",
            "499  0.945885  1.547730 -0.749743 -1.420013 -0.062239        TCGA-NJ-A55O   \n",
            "500 -0.083704  1.401602 -0.117867  1.359996 -0.062239        TCGA-NJ-A55R   \n",
            "501  0.152050  3.373997  0.356485  1.287085 -0.062239        TCGA-NJ-A7XG   \n",
            "502 -1.275707 -1.202046  2.834658  1.082964 -0.062239        TCGA-O1-A52J   \n",
            "503 -1.275707  5.679982 -0.749743  0.295954 -0.062239        TCGA-S2-AA1A   \n",
            "\n",
            "     OS_STATUS  OS_MONTHS  \n",
            "0            0      50.03  \n",
            "1            1       3.98  \n",
            "2            0      19.94  \n",
            "3            0      13.99  \n",
            "4            0      44.97  \n",
            "..         ...        ...  \n",
            "499          0       0.43  \n",
            "500          0      19.81  \n",
            "501          0      20.27  \n",
            "502          1      59.07  \n",
            "503          0      16.85  \n",
            "\n",
            "[504 rows x 103 columns]\n"
          ]
        }
      ]
    },
    {
      "cell_type": "markdown",
      "source": [
        "## Model(CNN-Cox)"
      ],
      "metadata": {
        "id": "V3j_4eHaM6Nm"
      },
      "id": "V3j_4eHaM6Nm"
    },
    {
      "cell_type": "markdown",
      "source": [],
      "metadata": {
        "id": "YPIFcsjEYIxU"
      },
      "id": "YPIFcsjEYIxU"
    },
    {
      "cell_type": "code",
      "source": [
        "def traindcnncoxmodel(merged_data, cancer_name, conv1, conv1_size, dense, input_shape, save_path, le, wi):\n",
        "\n",
        "\n",
        "    # 생존 상태 및 생존 시간\n",
        "    E = np.array(merged_data[\"OS_STATUS\"])  # 생존 상태 (0: censored, 1: event)\n",
        "    Y = np.array(merged_data[\"OS_MONTHS\"])  # 생존 시간\n",
        "\n",
        "    # 유전자 발현 데이터 (특성 선택)\n",
        "    gene_columns = [col for col in merged_data.columns if col not in [\"OS_STATUS\", \"OS_MONTHS\", \"Patient Identifier\"]]\n",
        "    X = np.array(merged_data[gene_columns]).astype('float64')\n",
        "    Y = Y.astype('float64')\n",
        "\n",
        "    # 표준화\n",
        "    scaler = StandardScaler().fit(X)\n",
        "    X = scaler.transform(X)\n",
        "\n",
        "    score_tst_list = []\n",
        "    score_dev_list = []\n",
        "\n",
        "    kf_outer = StratifiedKFold(n_splits=5, random_state=1, shuffle=True)\n",
        "\n",
        "    for i, (outer_train_idx, outer_test_idx) in enumerate(kf_outer.split(X, E)):\n",
        "        fold = i + 1\n",
        "        ci_tst_list = []\n",
        "        ci_dev_list = []\n",
        "\n",
        "        x_tst, c_tst, s_tst = X[outer_test_idx], E[outer_test_idx], Y[outer_test_idx]\n",
        "        x_trn_full, c_trn_full, s_trn_full = X[outer_train_idx], E[outer_train_idx], Y[outer_train_idx]\n",
        "\n",
        "        x_trn, x_dev, c_trn, c_dev, s_trn, s_dev = train_test_split(\n",
        "            x_trn_full, c_trn_full, s_trn_full, test_size=0.1, stratify=c_trn_full, random_state=1\n",
        "        )\n",
        "\n",
        "        # 데이터 정렬\n",
        "        sort_idx = np.argsort(s_trn)[::-1]\n",
        "        x_trn, s_trn, c_trn = x_trn[sort_idx], s_trn[sort_idx], c_trn[sort_idx]\n",
        "\n",
        "        # 데이터 reshape\n",
        "        x_trn = x_trn.reshape(-1, le, wi, 1)\n",
        "        x_dev = x_dev.reshape(-1, le, wi, 1)\n",
        "        x_tst = x_tst.reshape(-1, le, wi, 1)\n",
        "\n",
        "        # 모델 경로 설정\n",
        "        modelpath = save_path + f\"{cancer_name}_fold_{fold}_repeat_{i+1}_{le*wi}.weights.h5\"\n",
        "        checkpoint = MyCallback(modelpath, (x_trn, c_trn, s_trn, x_dev, c_dev, s_dev), fold=fold)\n",
        "\n",
        "        # 모델 정의 및 컴파일\n",
        "        model = dcnncox(conv1, conv1_size, dense, input_shape=(le, wi, 1))\n",
        "        model.compile(loss=\"mean_squared_error\", optimizer=\"adam\")\n",
        "\n",
        "        # 모델 훈련\n",
        "        print(f\"\\n==================== Training Fold {fold} ====================\")\n",
        "        history = model.fit(x_trn, s_trn, batch_size=len(x_trn), epochs=10000, verbose=0, callbacks=[checkpoint], shuffle=False)\n",
        "\n",
        "        # 모델 가중치 불러오기\n",
        "        model.load_weights(modelpath)\n",
        "\n",
        "        # 예측 및 C-index 계산 (Validation)\n",
        "        hr_pred_dev = np.exp(model.predict(x_dev, batch_size=1, verbose=0))\n",
        "        ci_dev = concordance_index(s_dev, -hr_pred_dev, c_dev)\n",
        "\n",
        "        # 예측 및 C-index 계산 (Test)\n",
        "        hr_pred_tst = np.exp(model.predict(x_tst, batch_size=1, verbose=0))\n",
        "        ci_tst = concordance_index(s_tst, -hr_pred_tst, c_tst)\n",
        "\n",
        "        ci_dev_list.append(ci_dev)\n",
        "        ci_tst_list.append(ci_tst)\n",
        "\n",
        "        score_dev_list.append(ci_dev_list)\n",
        "        score_tst_list.append(ci_tst_list)\n",
        "\n",
        "        print(f'C-index (fold {fold}): {np.mean(ci_tst_list):.4f} +/- {np.std(ci_tst_list):.4f}')\n",
        "\n",
        "    print(f'\\n{cancer_name} - Mean C-index: {np.mean(score_tst_list):.4f} +/- {np.std(score_tst_list):.4f}')\n",
        "\n",
        "    return score_tst_list\n"
      ],
      "metadata": {
        "id": "VwEHvO8nYyi1"
      },
      "id": "VwEHvO8nYyi1",
      "execution_count": 1009,
      "outputs": []
    },
    {
      "cell_type": "code",
      "source": [
        "def dcnncox(conv1=128, conv1_size=(1, 10), dense=64, input_shape=(10, 10, 1)):\n",
        "    input_img = Input(input_shape)\n",
        "\n",
        "    tower = Conv2D(conv1, conv1_size, activation='relu')(input_img)\n",
        "    tower1 = MaxPooling2D(1, 2)(tower)\n",
        "    tower2 = Flatten()(tower1)\n",
        "\n",
        "    out = Dense(dense, activation='relu')(tower2)\n",
        "    last_layer = Dense(1, kernel_initializer='zeros', bias_initializer='zeros')(out)\n",
        "\n",
        "    model = Model(inputs=[input_img], outputs=last_layer)\n",
        "    return model"
      ],
      "metadata": {
        "id": "g40MmrLjb-u8"
      },
      "id": "g40MmrLjb-u8",
      "execution_count": 1010,
      "outputs": []
    },
    {
      "cell_type": "code",
      "source": [
        "#loss\n",
        "def nll(E, NUM_E):\n",
        "    def loss(y_true, y_pred):\n",
        "        hazard_ratio = tf.squeeze(tf.exp(y_pred))\n",
        "        log_risk = tf.math.log(tf.math.cumsum(hazard_ratio))\n",
        "        uncensored_likelihood = tf.subtract(tf.squeeze(y_pred),log_risk)\n",
        "        censored_likelihood = uncensored_likelihood * E\n",
        "        neg_likelihood = -tf.reduce_sum(censored_likelihood) / NUM_E\n",
        "        return neg_likelihood\n",
        "\n",
        "    return loss"
      ],
      "metadata": {
        "id": "kkrJc94lcdrC"
      },
      "id": "kkrJc94lcdrC",
      "execution_count": 1011,
      "outputs": []
    },
    {
      "cell_type": "code",
      "source": [
        "def avgcindex(Cindex,cancer_types,numbers):\n",
        "    cisum=[]\n",
        "    for i in range(7):\n",
        "        cancer_name = cancer_types[i]\n",
        "        number = numbers[i]\n",
        "        print(cancer_name,np.mean(Cindex[i]))\n",
        "        cisum.append(np.mean(Cindex[i])*number)\n",
        "\n",
        "    avgci= np.array(cisum).sum()/np.array(numbers).sum()\n",
        "    return avgci"
      ],
      "metadata": {
        "id": "rA8V6x5XdAxP"
      },
      "id": "rA8V6x5XdAxP",
      "execution_count": 1012,
      "outputs": []
    },
    {
      "cell_type": "code",
      "source": [
        "def setup_seed(seed):\n",
        "    random.seed(seed)  # 为python set random seed\n",
        "    np.random.seed(seed)  # 为numpy set random seed\n",
        "    tf.random.set_seed(seed)  # tf cpu fix seed"
      ],
      "metadata": {
        "id": "lbao53JmdEe7"
      },
      "id": "lbao53JmdEe7",
      "execution_count": 1013,
      "outputs": []
    },
    {
      "cell_type": "code",
      "source": [
        "class MyCallback(ModelCheckpoint):\n",
        "    def __init__(self, filepath, data, fold=None, params=None, real_save=True, patience=20, max_epoch=1000):\n",
        "        super(MyCallback, self).__init__(filepath, save_weights_only=True)\n",
        "        self.patience = patience\n",
        "        self.max_epoch = max_epoch\n",
        "        self.fold = fold\n",
        "        self.params = params if params else {}\n",
        "\n",
        "        self.x_trn, self.c_trn, self.s_trn, self.x_dev, self.c_dev, self.s_dev = data\n",
        "\n",
        "        self.best_cindex = 0\n",
        "        self.best_epoch = 0\n",
        "        self.real_save = real_save\n",
        "\n",
        "    def print_status(self):\n",
        "        print(\"\\n==================== Fold %d Training Result ====================\" % self.fold)\n",
        "        print(f\"- Best Epoch: {self.best_epoch}\")\n",
        "        print(f\"- Best C-index: {self.best_cindex:.4f}\")\n",
        "        print(\"===============================================================\")\n",
        "\n",
        "    def on_train_begin(self, logs=None):\n",
        "        print(f\"\\n===== Start Training Fold {self.fold} =====\")\n",
        "        print(f\"Train samples: {len(self.x_trn)}, Dev samples: {len(self.x_dev)}\")\n",
        "        print(f\"Hyperparameters: {self.params}\")\n",
        "        print(\"===================================================\")\n",
        "\n",
        "    def on_epoch_end(self, epoch, logs=None):\n",
        "        pred_dev = -np.exp(self.model.predict(self.x_dev, batch_size=1, verbose=0))\n",
        "        cindex_dev = concordance_index(self.s_dev, pred_dev, self.c_dev)\n",
        "\n",
        "        if cindex_dev > self.best_cindex:\n",
        "            self.best_cindex = cindex_dev\n",
        "            self.best_epoch = epoch\n",
        "            if self.real_save:\n",
        "                if self.save_weights_only:\n",
        "                    self.model.save_weights(self.filepath, overwrite=True)\n",
        "                else:\n",
        "                    self.model.save(self.filepath, overwrite=True)\n",
        "        elif epoch - self.best_epoch > self.patience:\n",
        "            self.model.stop_training = True\n",
        "            print(f\"Early stopping at epoch {epoch} (no improvement for {self.patience} epochs)\")\n",
        "\n",
        "        if epoch >= self.max_epoch:\n",
        "            self.model.stop_training = True\n",
        "            print(f\"Stopping at max epoch {self.max_epoch}\")\n",
        "\n",
        "    def on_train_end(self, logs=None):\n",
        "        print(\"[Training Ended]\")\n",
        "        self.print_status()\n"
      ],
      "metadata": {
        "id": "1kQgNhQXcZ5C"
      },
      "id": "1kQgNhQXcZ5C",
      "execution_count": 1014,
      "outputs": []
    },
    {
      "cell_type": "code",
      "source": [
        "# 예시로 LUAD 사용\n",
        "cancer_name = 'LUAD'\n",
        "\n",
        "# 모델 파라미터 설정\n",
        "conv1 = 64\n",
        "dense = 16\n",
        "conv1_size = (1, 10)\n",
        "input_shape = (10, 10, 1)\n",
        "le, wi = 10, 10\n",
        "\n",
        "save_path=\"/content/\"\n",
        "\n",
        "# 모델 훈련 및 C-index 계산\n",
        "score_tst_list = traindcnncoxmodel(merged_data, cancer_name, conv1, conv1_size, dense, input_shape, save_path, le, wi)\n",
        "\n",
        "# C-index 출력\n",
        "print(f\"Test C-index for {cancer_name}: {np.mean(score_tst_list):.4f} +/- {np.std(score_tst_list):.4f}\")"
      ],
      "metadata": {
        "id": "mx1tduzSZJMq",
        "colab": {
          "base_uri": "https://localhost:8080/"
        },
        "outputId": "f4408325-b54d-4675-b36e-1868de82019f"
      },
      "id": "mx1tduzSZJMq",
      "execution_count": 1015,
      "outputs": [
        {
          "output_type": "stream",
          "name": "stdout",
          "text": [
            "\n",
            "==================== Training Fold 1 ====================\n",
            "\n",
            "===== Start Training Fold 1 =====\n",
            "Train samples: 362, Dev samples: 41\n",
            "Hyperparameters: {'verbose': 0, 'epochs': 10000, 'steps': 1}\n",
            "===================================================\n"
          ]
        },
        {
          "output_type": "stream",
          "name": "stderr",
          "text": [
            "/usr/local/lib/python3.11/dist-packages/keras/src/models/functional.py:237: UserWarning: The structure of `inputs` doesn't match the expected structure.\n",
            "Expected: ['keras_tensor_354']\n",
            "Received: inputs=Tensor(shape=(362, 10, 10, 1))\n",
            "  warnings.warn(msg)\n",
            "/usr/local/lib/python3.11/dist-packages/keras/src/models/functional.py:237: UserWarning: The structure of `inputs` doesn't match the expected structure.\n",
            "Expected: ['keras_tensor_354']\n",
            "Received: inputs=Tensor(shape=(1, 10, 10, 1))\n",
            "  warnings.warn(msg)\n"
          ]
        },
        {
          "output_type": "stream",
          "name": "stdout",
          "text": [
            "Early stopping at epoch 53 (no improvement for 20 epochs)\n",
            "[Training Ended]\n",
            "\n",
            "==================== Fold 1 Training Result ====================\n",
            "- Best Epoch: 32\n",
            "- Best C-index: 0.4880\n",
            "===============================================================\n",
            "C-index (fold 1): 0.5303 +/- 0.0000\n",
            "\n",
            "==================== Training Fold 2 ====================\n",
            "\n",
            "===== Start Training Fold 2 =====\n",
            "Train samples: 362, Dev samples: 41\n",
            "Hyperparameters: {'verbose': 0, 'epochs': 10000, 'steps': 1}\n",
            "===================================================\n"
          ]
        },
        {
          "output_type": "stream",
          "name": "stderr",
          "text": [
            "/usr/local/lib/python3.11/dist-packages/keras/src/models/functional.py:237: UserWarning: The structure of `inputs` doesn't match the expected structure.\n",
            "Expected: ['keras_tensor_360']\n",
            "Received: inputs=Tensor(shape=(362, 10, 10, 1))\n",
            "  warnings.warn(msg)\n",
            "/usr/local/lib/python3.11/dist-packages/keras/src/models/functional.py:237: UserWarning: The structure of `inputs` doesn't match the expected structure.\n",
            "Expected: ['keras_tensor_360']\n",
            "Received: inputs=Tensor(shape=(1, 10, 10, 1))\n",
            "  warnings.warn(msg)\n"
          ]
        },
        {
          "output_type": "stream",
          "name": "stdout",
          "text": [
            "Early stopping at epoch 44 (no improvement for 20 epochs)\n",
            "[Training Ended]\n",
            "\n",
            "==================== Fold 2 Training Result ====================\n",
            "- Best Epoch: 23\n",
            "- Best C-index: 0.6006\n",
            "===============================================================\n",
            "C-index (fold 2): 0.4993 +/- 0.0000\n",
            "\n",
            "==================== Training Fold 3 ====================\n",
            "\n",
            "===== Start Training Fold 3 =====\n",
            "Train samples: 362, Dev samples: 41\n",
            "Hyperparameters: {'verbose': 0, 'epochs': 10000, 'steps': 1}\n",
            "===================================================\n"
          ]
        },
        {
          "output_type": "stream",
          "name": "stderr",
          "text": [
            "/usr/local/lib/python3.11/dist-packages/keras/src/models/functional.py:237: UserWarning: The structure of `inputs` doesn't match the expected structure.\n",
            "Expected: ['keras_tensor_366']\n",
            "Received: inputs=Tensor(shape=(362, 10, 10, 1))\n",
            "  warnings.warn(msg)\n",
            "/usr/local/lib/python3.11/dist-packages/keras/src/models/functional.py:237: UserWarning: The structure of `inputs` doesn't match the expected structure.\n",
            "Expected: ['keras_tensor_366']\n",
            "Received: inputs=Tensor(shape=(1, 10, 10, 1))\n",
            "  warnings.warn(msg)\n"
          ]
        },
        {
          "output_type": "stream",
          "name": "stdout",
          "text": [
            "Early stopping at epoch 24 (no improvement for 20 epochs)\n",
            "[Training Ended]\n",
            "\n",
            "==================== Fold 3 Training Result ====================\n",
            "- Best Epoch: 3\n",
            "- Best C-index: 0.6052\n",
            "===============================================================\n",
            "C-index (fold 3): 0.3863 +/- 0.0000\n",
            "\n",
            "==================== Training Fold 4 ====================\n",
            "\n",
            "===== Start Training Fold 4 =====\n",
            "Train samples: 362, Dev samples: 41\n",
            "Hyperparameters: {'verbose': 0, 'epochs': 10000, 'steps': 1}\n",
            "===================================================\n"
          ]
        },
        {
          "output_type": "stream",
          "name": "stderr",
          "text": [
            "/usr/local/lib/python3.11/dist-packages/keras/src/models/functional.py:237: UserWarning: The structure of `inputs` doesn't match the expected structure.\n",
            "Expected: ['keras_tensor_372']\n",
            "Received: inputs=Tensor(shape=(362, 10, 10, 1))\n",
            "  warnings.warn(msg)\n",
            "/usr/local/lib/python3.11/dist-packages/keras/src/models/functional.py:237: UserWarning: The structure of `inputs` doesn't match the expected structure.\n",
            "Expected: ['keras_tensor_372']\n",
            "Received: inputs=Tensor(shape=(1, 10, 10, 1))\n",
            "  warnings.warn(msg)\n"
          ]
        },
        {
          "output_type": "stream",
          "name": "stdout",
          "text": [
            "Early stopping at epoch 82 (no improvement for 20 epochs)\n",
            "[Training Ended]\n",
            "\n",
            "==================== Fold 4 Training Result ====================\n",
            "- Best Epoch: 61\n",
            "- Best C-index: 0.6554\n",
            "===============================================================\n",
            "C-index (fold 4): 0.4899 +/- 0.0000\n",
            "\n",
            "==================== Training Fold 5 ====================\n",
            "\n",
            "===== Start Training Fold 5 =====\n",
            "Train samples: 363, Dev samples: 41\n",
            "Hyperparameters: {'verbose': 0, 'epochs': 10000, 'steps': 1}\n",
            "===================================================\n"
          ]
        },
        {
          "output_type": "stream",
          "name": "stderr",
          "text": [
            "/usr/local/lib/python3.11/dist-packages/keras/src/models/functional.py:237: UserWarning: The structure of `inputs` doesn't match the expected structure.\n",
            "Expected: ['keras_tensor_378']\n",
            "Received: inputs=Tensor(shape=(363, 10, 10, 1))\n",
            "  warnings.warn(msg)\n",
            "/usr/local/lib/python3.11/dist-packages/keras/src/models/functional.py:237: UserWarning: The structure of `inputs` doesn't match the expected structure.\n",
            "Expected: ['keras_tensor_378']\n",
            "Received: inputs=Tensor(shape=(1, 10, 10, 1))\n",
            "  warnings.warn(msg)\n"
          ]
        },
        {
          "output_type": "stream",
          "name": "stdout",
          "text": [
            "Early stopping at epoch 21 (no improvement for 20 epochs)\n",
            "[Training Ended]\n",
            "\n",
            "==================== Fold 5 Training Result ====================\n",
            "- Best Epoch: 0\n",
            "- Best C-index: 0.6309\n",
            "===============================================================\n",
            "C-index (fold 5): 0.5410 +/- 0.0000\n",
            "\n",
            "LUAD - Mean C-index: 0.4894 +/- 0.0549\n",
            "Test C-index for LUAD: 0.4894 +/- 0.0549\n"
          ]
        }
      ]
    },
    {
      "cell_type": "markdown",
      "source": [
        "### Result"
      ],
      "metadata": {
        "id": "L_FK6Zp4YJCa"
      },
      "id": "L_FK6Zp4YJCa"
    }
  ],
  "metadata": {
    "kernelspec": {
      "display_name": "Python 3",
      "name": "python3"
    },
    "language_info": {
      "codemirror_mode": {
        "name": "ipython",
        "version": 3
      },
      "file_extension": ".py",
      "mimetype": "text/x-python",
      "name": "python",
      "nbconvert_exporter": "python",
      "pygments_lexer": "ipython3",
      "version": "3.8.20"
    },
    "colab": {
      "provenance": [],
      "gpuType": "T4"
    },
    "accelerator": "GPU"
  },
  "nbformat": 4,
  "nbformat_minor": 5
}