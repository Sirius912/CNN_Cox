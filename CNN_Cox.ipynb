{
  "cells": [
    {
      "cell_type": "markdown",
      "id": "a1027733",
      "metadata": {
        "id": "a1027733"
      },
      "source": [
        "# Survival Prediction of Lung Cancer Patients Based on Different Feature Selection Methods Using CNN-Cox Models"
      ]
    },
    {
      "cell_type": "markdown",
      "id": "754057a4",
      "metadata": {
        "id": "754057a4"
      },
      "source": [
        "## Import the Libraries"
      ]
    },
    {
      "cell_type": "code",
      "execution_count": 27,
      "id": "db97f998",
      "metadata": {
        "id": "db97f998"
      },
      "outputs": [],
      "source": [
        "import pandas as pd\n",
        "import numpy as np"
      ]
    },
    {
      "cell_type": "markdown",
      "id": "95e82bf3",
      "metadata": {
        "id": "95e82bf3"
      },
      "source": [
        "## Prepare the dataset"
      ]
    },
    {
      "cell_type": "markdown",
      "id": "b1737b96",
      "metadata": {
        "id": "b1737b96"
      },
      "source": [
        "### Clinical data"
      ]
    },
    {
      "cell_type": "markdown",
      "id": "16c2f8e7",
      "metadata": {
        "id": "16c2f8e7"
      },
      "source": [
        "#### Load the dataset"
      ]
    },
    {
      "cell_type": "code",
      "execution_count": 28,
      "id": "08f18fd3",
      "metadata": {
        "id": "08f18fd3"
      },
      "outputs": [],
      "source": [
        "clinical_data = pd.read_csv('/content/luad_clinical_patient.txt', sep='\\t')"
      ]
    },
    {
      "cell_type": "markdown",
      "id": "984b3e1f",
      "metadata": {
        "id": "984b3e1f"
      },
      "source": [
        "#### Select the relevant columns for analysis"
      ]
    },
    {
      "cell_type": "code",
      "execution_count": 29,
      "id": "336ab08f",
      "metadata": {
        "colab": {
          "base_uri": "https://localhost:8080/"
        },
        "id": "336ab08f",
        "outputId": "2b72a878-abb7-4b88-bcc8-8657a2b6c239"
      },
      "outputs": [
        {
          "output_type": "stream",
          "name": "stdout",
          "text": [
            "   Patient Identifier   OS_STATUS OS_MONTHS\n",
            "4        TCGA-05-4244    0:LIVING         0\n",
            "5        TCGA-05-4245    0:LIVING     23.98\n",
            "6        TCGA-05-4249    0:LIVING     50.03\n",
            "7        TCGA-05-4250  1:DECEASED      3.98\n",
            "8        TCGA-05-4382    0:LIVING     19.94\n",
            "9        TCGA-05-4384    0:LIVING     13.99\n",
            "10       TCGA-05-4389    0:LIVING     44.97\n",
            "11       TCGA-05-4390    0:LIVING     36.99\n",
            "12       TCGA-05-4395  1:DECEASED         0\n",
            "13       TCGA-05-4396  1:DECEASED      9.95\n"
          ]
        }
      ],
      "source": [
        "clinical_data = clinical_data[['Patient Identifier', 'Overall Survival Status', 'Overall Survival (Months)']].loc[4:]\n",
        "clinical_data = clinical_data.rename(columns = {'Overall Survival Status' : 'OS_STATUS', 'Overall Survival (Months)' : 'OS_MONTHS'})\n",
        "\n",
        "print(clinical_data.head(10))"
      ]
    },
    {
      "cell_type": "markdown",
      "id": "540d377a",
      "metadata": {
        "id": "540d377a"
      },
      "source": [
        "#### Convert OS_MONTHS values into binary format (1 for deceased, 0 for living)"
      ]
    },
    {
      "cell_type": "code",
      "execution_count": 30,
      "id": "1b107901",
      "metadata": {
        "colab": {
          "base_uri": "https://localhost:8080/"
        },
        "id": "1b107901",
        "outputId": "e0a61576-4d1f-42ab-e7a0-de78637aa8ff"
      },
      "outputs": [
        {
          "output_type": "stream",
          "name": "stdout",
          "text": [
            "   Patient Identifier  OS_STATUS OS_MONTHS\n",
            "4        TCGA-05-4244          0         0\n",
            "5        TCGA-05-4245          0     23.98\n",
            "6        TCGA-05-4249          0     50.03\n",
            "7        TCGA-05-4250          1      3.98\n",
            "8        TCGA-05-4382          0     19.94\n",
            "9        TCGA-05-4384          0     13.99\n",
            "10       TCGA-05-4389          0     44.97\n",
            "11       TCGA-05-4390          0     36.99\n",
            "12       TCGA-05-4395          1         0\n",
            "13       TCGA-05-4396          1      9.95\n"
          ]
        }
      ],
      "source": [
        "clinical_data[\"OS_STATUS\"] = clinical_data[\"OS_STATUS\"].apply(lambda x : 1 if x.find('1:') != -1 else 0)\n",
        "\n",
        "print(clinical_data.head(10))"
      ]
    },
    {
      "cell_type": "markdown",
      "id": "3e5d7c99",
      "metadata": {
        "id": "3e5d7c99"
      },
      "source": [
        "#### Check for unnecessary data"
      ]
    },
    {
      "cell_type": "code",
      "execution_count": 31,
      "id": "587683ae",
      "metadata": {
        "colab": {
          "base_uri": "https://localhost:8080/"
        },
        "id": "587683ae",
        "outputId": "f9a85267-9100-4aae-ce6c-ce039c900fa9"
      },
      "outputs": [
        {
          "output_type": "stream",
          "name": "stdout",
          "text": [
            "OS_STATUS\n",
            "0    334\n",
            "1    188\n",
            "Name: count, dtype: int64\n",
            "OS_MONTHS\n",
            "[Not Available]    9\n",
            "25.99              4\n",
            "0                  4\n",
            "15.64              3\n",
            "14.29              3\n",
            "12.65              3\n",
            "18.66              3\n",
            "20.04              3\n",
            "29.43              3\n",
            "18.99              3\n",
            "Name: count, dtype: int64\n"
          ]
        }
      ],
      "source": [
        "print(clinical_data['OS_STATUS'].value_counts())\n",
        "print(clinical_data['OS_MONTHS'].value_counts().head(10))"
      ]
    },
    {
      "cell_type": "markdown",
      "id": "767554bd",
      "metadata": {
        "id": "767554bd"
      },
      "source": [
        "#### Drop rows where OS_MONTHS is 0 or '[Not Available]'"
      ]
    },
    {
      "cell_type": "code",
      "execution_count": 32,
      "id": "930c7ae7",
      "metadata": {
        "colab": {
          "base_uri": "https://localhost:8080/"
        },
        "id": "930c7ae7",
        "outputId": "799443e9-86e8-4615-e2a7-20284ad7466d"
      },
      "outputs": [
        {
          "output_type": "stream",
          "name": "stdout",
          "text": [
            "   Patient Identifier  OS_STATUS OS_MONTHS\n",
            "5        TCGA-05-4245          0     23.98\n",
            "6        TCGA-05-4249          0     50.03\n",
            "7        TCGA-05-4250          1      3.98\n",
            "8        TCGA-05-4382          0     19.94\n",
            "9        TCGA-05-4384          0     13.99\n",
            "10       TCGA-05-4389          0     44.97\n",
            "11       TCGA-05-4390          0     36.99\n",
            "13       TCGA-05-4396          1      9.95\n",
            "14       TCGA-05-4397          1     24.01\n",
            "15       TCGA-05-4398          0     47.01\n"
          ]
        }
      ],
      "source": [
        "clinical_data = clinical_data[\n",
        "    (clinical_data['OS_MONTHS'] != '0') &\n",
        "    (clinical_data['OS_MONTHS'] != '[Not Available]')\n",
        "]\n",
        "\n",
        "print(clinical_data.head(10))"
      ]
    },
    {
      "cell_type": "markdown",
      "id": "5204e061",
      "metadata": {
        "id": "5204e061"
      },
      "source": [
        "#### Reset the index to start from 0"
      ]
    },
    {
      "cell_type": "code",
      "execution_count": 33,
      "id": "d0a78b69",
      "metadata": {
        "colab": {
          "base_uri": "https://localhost:8080/"
        },
        "id": "d0a78b69",
        "outputId": "f3c61250-d9c3-4c98-b84c-63ff31fecc58"
      },
      "outputs": [
        {
          "output_type": "stream",
          "name": "stdout",
          "text": [
            "  Patient Identifier  OS_STATUS OS_MONTHS\n",
            "0       TCGA-05-4245          0     23.98\n",
            "1       TCGA-05-4249          0     50.03\n",
            "2       TCGA-05-4250          1      3.98\n",
            "3       TCGA-05-4382          0     19.94\n",
            "4       TCGA-05-4384          0     13.99\n",
            "5       TCGA-05-4389          0     44.97\n",
            "6       TCGA-05-4390          0     36.99\n",
            "7       TCGA-05-4396          1      9.95\n",
            "8       TCGA-05-4397          1     24.01\n",
            "9       TCGA-05-4398          0     47.01\n"
          ]
        }
      ],
      "source": [
        "clinical_data = clinical_data.reset_index(drop=True)\n",
        "\n",
        "print(clinical_data.head(10))"
      ]
    },
    {
      "cell_type": "markdown",
      "id": "6bf57b79",
      "metadata": {
        "id": "6bf57b79"
      },
      "source": [
        "### Gene data"
      ]
    },
    {
      "cell_type": "markdown",
      "id": "c40a3937",
      "metadata": {
        "id": "c40a3937"
      },
      "source": [
        "#### Load the dataset"
      ]
    },
    {
      "cell_type": "code",
      "execution_count": 34,
      "id": "9bcb35be",
      "metadata": {
        "colab": {
          "base_uri": "https://localhost:8080/"
        },
        "id": "9bcb35be",
        "outputId": "dea6445c-de9d-4dba-8446-a18f4d5485b1"
      },
      "outputs": [
        {
          "output_type": "stream",
          "name": "stdout",
          "text": [
            "                        0          1          2        3       4       5      \\\n",
            "Hugo_Symbol      LOC100130426   UBE2Q2P3   UBE2Q2P3  HMGB1P1  TIMM23   MOXD2   \n",
            "Entrez_Gene_Id      100130426  100133144  100134869    10357   10431  136542   \n",
            "TCGA-05-4244-01       -2.2883      0.038     0.0691  -1.9057 -0.0395     NaN   \n",
            "TCGA-05-4249-01       -2.2883    -0.3514     0.1971   -0.295  0.1945     NaN   \n",
            "TCGA-05-4250-01       -2.2883    -0.3435    -0.7239  -1.9091  0.7761     NaN   \n",
            "...                       ...        ...        ...      ...     ...     ...   \n",
            "TCGA-NJ-A55O-01       -2.2883     0.5729     1.0176  -0.0218  0.0408     NaN   \n",
            "TCGA-NJ-A55R-01       -2.2883    -0.1679    -0.0462  -0.8099 -0.3206     NaN   \n",
            "TCGA-NJ-A7XG-01       -2.2883     1.8645     2.7613  -0.4522 -0.6611     NaN   \n",
            "TCGA-O1-A52J-01       -2.2883     0.4532      1.087  -1.3473  0.7679     NaN   \n",
            "TCGA-S2-AA1A-01       -2.2883     0.9225    -0.2293  -0.7319  -1.161     NaN   \n",
            "\n",
            "                     6         7       8          9      ...   20521   20522  \\\n",
            "Hugo_Symbol      LOC155060  RNU12-2P    SSX9  LOC317712  ...    ZXDA    ZXDB   \n",
            "Entrez_Gene_Id      155060     26823  280660     317712  ...    7789  158586   \n",
            "TCGA-05-4244-01     1.0624    0.5387 -1.2501        NaN  ... -0.2092 -0.4448   \n",
            "TCGA-05-4249-01     -0.069    1.4599 -1.2501        NaN  ...  0.7816  0.8157   \n",
            "TCGA-05-4250-01    -1.4074   -2.1796 -1.2501        NaN  ...  0.7041  0.0911   \n",
            "...                    ...       ...     ...        ...  ...     ...     ...   \n",
            "TCGA-NJ-A55O-01     0.6719    0.7543 -1.2501        NaN  ... -0.1517 -0.1613   \n",
            "TCGA-NJ-A55R-01      1.154     -0.12 -1.2501        NaN  ...  0.3282  0.1494   \n",
            "TCGA-NJ-A7XG-01      1.022   -2.1796 -1.2501        NaN  ... -2.0722 -1.7646   \n",
            "TCGA-O1-A52J-01     0.1428    2.9555 -1.2501        NaN  ...  2.5448  1.1317   \n",
            "TCGA-S2-AA1A-01     1.1789   -0.2677 -1.2501        NaN  ...  0.7138  0.0837   \n",
            "\n",
            "                  20523   20524   20525   20526     20527   20528   20529  \\\n",
            "Hugo_Symbol        ZXDC  ZYG11A  ZYG11B     ZYX  FLJ10821    ZZZ3  TPTEP1   \n",
            "Entrez_Gene_Id    79364  440590   79699    7791     23140   26009  387590   \n",
            "TCGA-05-4244-01 -0.2293 -1.8833   0.985 -0.4967   -0.2737 -0.4482 -1.0407   \n",
            "TCGA-05-4249-01  0.4243 -0.1788 -0.1119 -0.8791    0.3183  0.0984  1.0324   \n",
            "TCGA-05-4250-01 -0.6346 -0.0054 -1.8251  0.8248    0.3805 -0.6777 -1.0698   \n",
            "...                 ...     ...     ...     ...       ...     ...     ...   \n",
            "TCGA-NJ-A55O-01   0.225 -0.2732  -0.386   0.293    0.6698 -0.3969  1.7447   \n",
            "TCGA-NJ-A55R-01  1.1546  0.4441 -0.2421 -0.3319    1.5561 -0.2637  1.9706   \n",
            "TCGA-NJ-A7XG-01  0.5444 -0.6192 -1.4443 -1.2127    0.8153 -1.3431 -1.1463   \n",
            "TCGA-O1-A52J-01  0.7244 -1.9766 -0.1344  0.4326    0.9605 -1.0035  1.0542   \n",
            "TCGA-S2-AA1A-01  1.8159 -0.8773 -0.9062  0.7905    1.0496 -0.8107  1.4044   \n",
            "\n",
            "                   20530  \n",
            "Hugo_Symbol      AKR1C6P  \n",
            "Entrez_Gene_Id    389932  \n",
            "TCGA-05-4244-01  -1.2966  \n",
            "TCGA-05-4249-01  -1.2966  \n",
            "TCGA-05-4250-01  -1.2966  \n",
            "...                  ...  \n",
            "TCGA-NJ-A55O-01  -1.2966  \n",
            "TCGA-NJ-A55R-01   0.5663  \n",
            "TCGA-NJ-A7XG-01  -1.2966  \n",
            "TCGA-O1-A52J-01  -0.3735  \n",
            "TCGA-S2-AA1A-01  -1.2966  \n",
            "\n",
            "[519 rows x 20531 columns]\n"
          ]
        }
      ],
      "source": [
        "gene_data = pd.read_csv('/content/luad_gene_data.txt', sep='\\t').T\n",
        "\n",
        "print(gene_data)"
      ]
    },
    {
      "cell_type": "markdown",
      "source": [
        "#### Change the column name as gene symbol"
      ],
      "metadata": {
        "id": "wdeHNb3kzhnD"
      },
      "id": "wdeHNb3kzhnD"
    },
    {
      "cell_type": "code",
      "source": [
        "gene_data.columns = gene_data.iloc[0]\n",
        "gene_data = gene_data.drop(['Hugo_Symbol', 'Entrez_Gene_Id'])\n",
        "gene_data = gene_data.astype(float)\n",
        "\n",
        "print(gene_data)"
      ],
      "metadata": {
        "colab": {
          "base_uri": "https://localhost:8080/"
        },
        "id": "ww7i_hKXzlG8",
        "outputId": "96641fab-d1e0-4cdc-81b7-0ac6759a10c0"
      },
      "id": "ww7i_hKXzlG8",
      "execution_count": 35,
      "outputs": [
        {
          "output_type": "stream",
          "name": "stdout",
          "text": [
            "Hugo_Symbol      LOC100130426  UBE2Q2P3  UBE2Q2P3  HMGB1P1  TIMM23  MOXD2  \\\n",
            "TCGA-05-4244-01       -2.2883    0.0380    0.0691  -1.9057 -0.0395    NaN   \n",
            "TCGA-05-4249-01       -2.2883   -0.3514    0.1971  -0.2950  0.1945    NaN   \n",
            "TCGA-05-4250-01       -2.2883   -0.3435   -0.7239  -1.9091  0.7761    NaN   \n",
            "TCGA-05-4382-01       -2.2883    0.1873   -0.4402  -0.5333 -0.1787    NaN   \n",
            "TCGA-05-4384-01       -2.2883   -1.2251   -1.3555  -0.8895 -1.1778    NaN   \n",
            "...                       ...       ...       ...      ...     ...    ...   \n",
            "TCGA-NJ-A55O-01       -2.2883    0.5729    1.0176  -0.0218  0.0408    NaN   \n",
            "TCGA-NJ-A55R-01       -2.2883   -0.1679   -0.0462  -0.8099 -0.3206    NaN   \n",
            "TCGA-NJ-A7XG-01       -2.2883    1.8645    2.7613  -0.4522 -0.6611    NaN   \n",
            "TCGA-O1-A52J-01       -2.2883    0.4532    1.0870  -1.3473  0.7679    NaN   \n",
            "TCGA-S2-AA1A-01       -2.2883    0.9225   -0.2293  -0.7319 -1.1610    NaN   \n",
            "\n",
            "Hugo_Symbol      LOC155060  RNU12-2P    SSX9  LOC317712  ...    ZXDA    ZXDB  \\\n",
            "TCGA-05-4244-01     1.0624    0.5387 -1.2501        NaN  ... -0.2092 -0.4448   \n",
            "TCGA-05-4249-01    -0.0690    1.4599 -1.2501        NaN  ...  0.7816  0.8157   \n",
            "TCGA-05-4250-01    -1.4074   -2.1796 -1.2501        NaN  ...  0.7041  0.0911   \n",
            "TCGA-05-4382-01     0.5870   -0.6958 -0.9868        NaN  ... -0.1734 -0.0352   \n",
            "TCGA-05-4384-01     0.7614   -0.3706 -1.2501        NaN  ...  1.3474  1.1341   \n",
            "...                    ...       ...     ...        ...  ...     ...     ...   \n",
            "TCGA-NJ-A55O-01     0.6719    0.7543 -1.2501        NaN  ... -0.1517 -0.1613   \n",
            "TCGA-NJ-A55R-01     1.1540   -0.1200 -1.2501        NaN  ...  0.3282  0.1494   \n",
            "TCGA-NJ-A7XG-01     1.0220   -2.1796 -1.2501        NaN  ... -2.0722 -1.7646   \n",
            "TCGA-O1-A52J-01     0.1428    2.9555 -1.2501        NaN  ...  2.5448  1.1317   \n",
            "TCGA-S2-AA1A-01     1.1789   -0.2677 -1.2501        NaN  ...  0.7138  0.0837   \n",
            "\n",
            "Hugo_Symbol        ZXDC  ZYG11A  ZYG11B     ZYX  FLJ10821    ZZZ3  TPTEP1  \\\n",
            "TCGA-05-4244-01 -0.2293 -1.8833  0.9850 -0.4967   -0.2737 -0.4482 -1.0407   \n",
            "TCGA-05-4249-01  0.4243 -0.1788 -0.1119 -0.8791    0.3183  0.0984  1.0324   \n",
            "TCGA-05-4250-01 -0.6346 -0.0054 -1.8251  0.8248    0.3805 -0.6777 -1.0698   \n",
            "TCGA-05-4382-01 -0.2710  0.5825  0.3717  1.2704    0.3781 -0.0188 -0.0218   \n",
            "TCGA-05-4384-01  0.7826 -0.7635 -0.1493 -0.1648    1.2559  0.2385  1.5166   \n",
            "...                 ...     ...     ...     ...       ...     ...     ...   \n",
            "TCGA-NJ-A55O-01  0.2250 -0.2732 -0.3860  0.2930    0.6698 -0.3969  1.7447   \n",
            "TCGA-NJ-A55R-01  1.1546  0.4441 -0.2421 -0.3319    1.5561 -0.2637  1.9706   \n",
            "TCGA-NJ-A7XG-01  0.5444 -0.6192 -1.4443 -1.2127    0.8153 -1.3431 -1.1463   \n",
            "TCGA-O1-A52J-01  0.7244 -1.9766 -0.1344  0.4326    0.9605 -1.0035  1.0542   \n",
            "TCGA-S2-AA1A-01  1.8159 -0.8773 -0.9062  0.7905    1.0496 -0.8107  1.4044   \n",
            "\n",
            "Hugo_Symbol      AKR1C6P  \n",
            "TCGA-05-4244-01  -1.2966  \n",
            "TCGA-05-4249-01  -1.2966  \n",
            "TCGA-05-4250-01  -1.2966  \n",
            "TCGA-05-4382-01  -1.2966  \n",
            "TCGA-05-4384-01  -1.2966  \n",
            "...                  ...  \n",
            "TCGA-NJ-A55O-01  -1.2966  \n",
            "TCGA-NJ-A55R-01   0.5663  \n",
            "TCGA-NJ-A7XG-01  -1.2966  \n",
            "TCGA-O1-A52J-01  -0.3735  \n",
            "TCGA-S2-AA1A-01  -1.2966  \n",
            "\n",
            "[517 rows x 20531 columns]\n"
          ]
        }
      ]
    },
    {
      "cell_type": "markdown",
      "source": [
        "#### Drop columns with any NaN values"
      ],
      "metadata": {
        "id": "O1bORicZ0Lp1"
      },
      "id": "O1bORicZ0Lp1"
    },
    {
      "cell_type": "code",
      "source": [
        "gene_data = gene_data.dropna(axis=1)\n",
        "\n",
        "print(gene_data)"
      ],
      "metadata": {
        "colab": {
          "base_uri": "https://localhost:8080/"
        },
        "id": "vgY_ZOPT0TOW",
        "outputId": "aeed2797-1a78-4ba6-9683-6e29e953159b"
      },
      "id": "vgY_ZOPT0TOW",
      "execution_count": 36,
      "outputs": [
        {
          "output_type": "stream",
          "name": "stdout",
          "text": [
            "Hugo_Symbol      LOC100130426  UBE2Q2P3  UBE2Q2P3  HMGB1P1  TIMM23  LOC155060  \\\n",
            "TCGA-05-4244-01       -2.2883    0.0380    0.0691  -1.9057 -0.0395     1.0624   \n",
            "TCGA-05-4249-01       -2.2883   -0.3514    0.1971  -0.2950  0.1945    -0.0690   \n",
            "TCGA-05-4250-01       -2.2883   -0.3435   -0.7239  -1.9091  0.7761    -1.4074   \n",
            "TCGA-05-4382-01       -2.2883    0.1873   -0.4402  -0.5333 -0.1787     0.5870   \n",
            "TCGA-05-4384-01       -2.2883   -1.2251   -1.3555  -0.8895 -1.1778     0.7614   \n",
            "...                       ...       ...       ...      ...     ...        ...   \n",
            "TCGA-NJ-A55O-01       -2.2883    0.5729    1.0176  -0.0218  0.0408     0.6719   \n",
            "TCGA-NJ-A55R-01       -2.2883   -0.1679   -0.0462  -0.8099 -0.3206     1.1540   \n",
            "TCGA-NJ-A7XG-01       -2.2883    1.8645    2.7613  -0.4522 -0.6611     1.0220   \n",
            "TCGA-O1-A52J-01       -2.2883    0.4532    1.0870  -1.3473  0.7679     0.1428   \n",
            "TCGA-S2-AA1A-01       -2.2883    0.9225   -0.2293  -0.7319 -1.1610     1.1789   \n",
            "\n",
            "Hugo_Symbol      RNU12-2P    SSX9   EZHIP  EFCAB8  ...    ZXDA    ZXDB  \\\n",
            "TCGA-05-4244-01    0.5387 -1.2501 -0.9569  1.3884  ... -0.2092 -0.4448   \n",
            "TCGA-05-4249-01    1.4599 -1.2501 -0.9569 -0.2834  ...  0.7816  0.8157   \n",
            "TCGA-05-4250-01   -2.1796 -1.2501 -0.9569 -1.6633  ...  0.7041  0.0911   \n",
            "TCGA-05-4382-01   -0.6958 -0.9868  1.1884 -0.1789  ... -0.1734 -0.0352   \n",
            "TCGA-05-4384-01   -0.3706 -1.2501 -0.9569 -0.3323  ...  1.3474  1.1341   \n",
            "...                   ...     ...     ...     ...  ...     ...     ...   \n",
            "TCGA-NJ-A55O-01    0.7543 -1.2501 -0.9569 -1.6633  ... -0.1517 -0.1613   \n",
            "TCGA-NJ-A55R-01   -0.1200 -1.2501  0.1089  2.9233  ...  0.3282  0.1494   \n",
            "TCGA-NJ-A7XG-01   -2.1796 -1.2501 -0.9569  0.7316  ... -2.0722 -1.7646   \n",
            "TCGA-O1-A52J-01    2.9555 -1.2501  0.5042 -0.1792  ...  2.5448  1.1317   \n",
            "TCGA-S2-AA1A-01   -0.2677 -1.2501  0.3220  1.2050  ...  0.7138  0.0837   \n",
            "\n",
            "Hugo_Symbol        ZXDC  ZYG11A  ZYG11B     ZYX  FLJ10821    ZZZ3  TPTEP1  \\\n",
            "TCGA-05-4244-01 -0.2293 -1.8833  0.9850 -0.4967   -0.2737 -0.4482 -1.0407   \n",
            "TCGA-05-4249-01  0.4243 -0.1788 -0.1119 -0.8791    0.3183  0.0984  1.0324   \n",
            "TCGA-05-4250-01 -0.6346 -0.0054 -1.8251  0.8248    0.3805 -0.6777 -1.0698   \n",
            "TCGA-05-4382-01 -0.2710  0.5825  0.3717  1.2704    0.3781 -0.0188 -0.0218   \n",
            "TCGA-05-4384-01  0.7826 -0.7635 -0.1493 -0.1648    1.2559  0.2385  1.5166   \n",
            "...                 ...     ...     ...     ...       ...     ...     ...   \n",
            "TCGA-NJ-A55O-01  0.2250 -0.2732 -0.3860  0.2930    0.6698 -0.3969  1.7447   \n",
            "TCGA-NJ-A55R-01  1.1546  0.4441 -0.2421 -0.3319    1.5561 -0.2637  1.9706   \n",
            "TCGA-NJ-A7XG-01  0.5444 -0.6192 -1.4443 -1.2127    0.8153 -1.3431 -1.1463   \n",
            "TCGA-O1-A52J-01  0.7244 -1.9766 -0.1344  0.4326    0.9605 -1.0035  1.0542   \n",
            "TCGA-S2-AA1A-01  1.8159 -0.8773 -0.9062  0.7905    1.0496 -0.8107  1.4044   \n",
            "\n",
            "Hugo_Symbol      AKR1C6P  \n",
            "TCGA-05-4244-01  -1.2966  \n",
            "TCGA-05-4249-01  -1.2966  \n",
            "TCGA-05-4250-01  -1.2966  \n",
            "TCGA-05-4382-01  -1.2966  \n",
            "TCGA-05-4384-01  -1.2966  \n",
            "...                  ...  \n",
            "TCGA-NJ-A55O-01  -1.2966  \n",
            "TCGA-NJ-A55R-01   0.5663  \n",
            "TCGA-NJ-A7XG-01  -1.2966  \n",
            "TCGA-O1-A52J-01  -0.3735  \n",
            "TCGA-S2-AA1A-01  -1.2966  \n",
            "\n",
            "[517 rows x 20113 columns]\n"
          ]
        }
      ]
    },
    {
      "cell_type": "markdown",
      "source": [
        "#### Remove the last '-01' part in index"
      ],
      "metadata": {
        "id": "caB2EvuV1exn"
      },
      "id": "caB2EvuV1exn"
    },
    {
      "cell_type": "code",
      "source": [
        "gene_data.index = gene_data.index.astype(str)\n",
        "gene_data.index = gene_data.index.str.replace(r'-\\d+$', '', regex=True)\n",
        "\n",
        "print(gene_data)"
      ],
      "metadata": {
        "colab": {
          "base_uri": "https://localhost:8080/"
        },
        "id": "102a9-5R1i2V",
        "outputId": "706803e0-fa1d-476c-c9dc-97de2041c9c1"
      },
      "id": "102a9-5R1i2V",
      "execution_count": 37,
      "outputs": [
        {
          "output_type": "stream",
          "name": "stdout",
          "text": [
            "Hugo_Symbol   LOC100130426  UBE2Q2P3  UBE2Q2P3  HMGB1P1  TIMM23  LOC155060  \\\n",
            "TCGA-05-4244       -2.2883    0.0380    0.0691  -1.9057 -0.0395     1.0624   \n",
            "TCGA-05-4249       -2.2883   -0.3514    0.1971  -0.2950  0.1945    -0.0690   \n",
            "TCGA-05-4250       -2.2883   -0.3435   -0.7239  -1.9091  0.7761    -1.4074   \n",
            "TCGA-05-4382       -2.2883    0.1873   -0.4402  -0.5333 -0.1787     0.5870   \n",
            "TCGA-05-4384       -2.2883   -1.2251   -1.3555  -0.8895 -1.1778     0.7614   \n",
            "...                    ...       ...       ...      ...     ...        ...   \n",
            "TCGA-NJ-A55O       -2.2883    0.5729    1.0176  -0.0218  0.0408     0.6719   \n",
            "TCGA-NJ-A55R       -2.2883   -0.1679   -0.0462  -0.8099 -0.3206     1.1540   \n",
            "TCGA-NJ-A7XG       -2.2883    1.8645    2.7613  -0.4522 -0.6611     1.0220   \n",
            "TCGA-O1-A52J       -2.2883    0.4532    1.0870  -1.3473  0.7679     0.1428   \n",
            "TCGA-S2-AA1A       -2.2883    0.9225   -0.2293  -0.7319 -1.1610     1.1789   \n",
            "\n",
            "Hugo_Symbol   RNU12-2P    SSX9   EZHIP  EFCAB8  ...    ZXDA    ZXDB    ZXDC  \\\n",
            "TCGA-05-4244    0.5387 -1.2501 -0.9569  1.3884  ... -0.2092 -0.4448 -0.2293   \n",
            "TCGA-05-4249    1.4599 -1.2501 -0.9569 -0.2834  ...  0.7816  0.8157  0.4243   \n",
            "TCGA-05-4250   -2.1796 -1.2501 -0.9569 -1.6633  ...  0.7041  0.0911 -0.6346   \n",
            "TCGA-05-4382   -0.6958 -0.9868  1.1884 -0.1789  ... -0.1734 -0.0352 -0.2710   \n",
            "TCGA-05-4384   -0.3706 -1.2501 -0.9569 -0.3323  ...  1.3474  1.1341  0.7826   \n",
            "...                ...     ...     ...     ...  ...     ...     ...     ...   \n",
            "TCGA-NJ-A55O    0.7543 -1.2501 -0.9569 -1.6633  ... -0.1517 -0.1613  0.2250   \n",
            "TCGA-NJ-A55R   -0.1200 -1.2501  0.1089  2.9233  ...  0.3282  0.1494  1.1546   \n",
            "TCGA-NJ-A7XG   -2.1796 -1.2501 -0.9569  0.7316  ... -2.0722 -1.7646  0.5444   \n",
            "TCGA-O1-A52J    2.9555 -1.2501  0.5042 -0.1792  ...  2.5448  1.1317  0.7244   \n",
            "TCGA-S2-AA1A   -0.2677 -1.2501  0.3220  1.2050  ...  0.7138  0.0837  1.8159   \n",
            "\n",
            "Hugo_Symbol   ZYG11A  ZYG11B     ZYX  FLJ10821    ZZZ3  TPTEP1  AKR1C6P  \n",
            "TCGA-05-4244 -1.8833  0.9850 -0.4967   -0.2737 -0.4482 -1.0407  -1.2966  \n",
            "TCGA-05-4249 -0.1788 -0.1119 -0.8791    0.3183  0.0984  1.0324  -1.2966  \n",
            "TCGA-05-4250 -0.0054 -1.8251  0.8248    0.3805 -0.6777 -1.0698  -1.2966  \n",
            "TCGA-05-4382  0.5825  0.3717  1.2704    0.3781 -0.0188 -0.0218  -1.2966  \n",
            "TCGA-05-4384 -0.7635 -0.1493 -0.1648    1.2559  0.2385  1.5166  -1.2966  \n",
            "...              ...     ...     ...       ...     ...     ...      ...  \n",
            "TCGA-NJ-A55O -0.2732 -0.3860  0.2930    0.6698 -0.3969  1.7447  -1.2966  \n",
            "TCGA-NJ-A55R  0.4441 -0.2421 -0.3319    1.5561 -0.2637  1.9706   0.5663  \n",
            "TCGA-NJ-A7XG -0.6192 -1.4443 -1.2127    0.8153 -1.3431 -1.1463  -1.2966  \n",
            "TCGA-O1-A52J -1.9766 -0.1344  0.4326    0.9605 -1.0035  1.0542  -0.3735  \n",
            "TCGA-S2-AA1A -0.8773 -0.9062  0.7905    1.0496 -0.8107  1.4044  -1.2966  \n",
            "\n",
            "[517 rows x 20113 columns]\n"
          ]
        }
      ]
    },
    {
      "cell_type": "markdown",
      "source": [
        "#### Check and control the duplicated genes"
      ],
      "metadata": {
        "id": "B5Dn8O3N2ITL"
      },
      "id": "B5Dn8O3N2ITL"
    },
    {
      "cell_type": "code",
      "source": [
        "duplicated_genes = gene_data.columns[gene_data.columns.duplicated()]\n",
        "\n",
        "print(duplicated_genes)\n",
        "print(len(duplicated_genes))"
      ],
      "metadata": {
        "colab": {
          "base_uri": "https://localhost:8080/"
        },
        "id": "bR8vHUyD2NTX",
        "outputId": "75ad5d15-f4c4-4725-d95c-90eb073c1308"
      },
      "id": "bR8vHUyD2NTX",
      "execution_count": 38,
      "outputs": [
        {
          "output_type": "stream",
          "name": "stdout",
          "text": [
            "Index(['UBE2Q2P3', 'CC2D2B', 'CCDC7', 'CYorf15B', 'C1orf84', 'LINC00875',\n",
            "       'ELMOD1', 'NBPF16', 'NEBL', 'NKAIN3', 'C5orf23', 'PALM2AKAP2',\n",
            "       'PLEKHG7', 'QSOX1', 'SH3D20', 'SNAP47', 'NCRNA00185'],\n",
            "      dtype='object', name='Hugo_Symbol')\n",
            "17\n"
          ]
        }
      ]
    },
    {
      "cell_type": "code",
      "source": [
        "for gene in duplicated_genes:\n",
        "  var_gene = np.var(gene_data[gene])\n",
        "\n",
        "  if var_gene.values[0] < var_gene.values[1]:\n",
        "    gene_data[gene] = gene_data[gene].iloc[:, 1]\n",
        "  else:\n",
        "    gene_data[gene] = gene_data[gene].iloc[:, 0]\n",
        "\n",
        "gene_data = gene_data.iloc[:, ~gene_data.columns.duplicated()]\n",
        "print(gene_data)"
      ],
      "metadata": {
        "colab": {
          "base_uri": "https://localhost:8080/"
        },
        "id": "58qQPIx2JKuV",
        "outputId": "4c0131a2-b734-4eae-9fc6-95c7885ce8ac"
      },
      "id": "58qQPIx2JKuV",
      "execution_count": 39,
      "outputs": [
        {
          "output_type": "stream",
          "name": "stderr",
          "text": [
            "/usr/local/lib/python3.11/dist-packages/numpy/_core/fromnumeric.py:4006: FutureWarning: The behavior of DataFrame.var with axis=None is deprecated, in a future version this will reduce over both axes and return a scalar. To retain the old behavior, pass axis=0 (or do not pass axis)\n",
            "  return var(axis=axis, dtype=dtype, out=out, ddof=ddof, **kwargs)\n"
          ]
        },
        {
          "output_type": "stream",
          "name": "stdout",
          "text": [
            "Hugo_Symbol   LOC100130426  UBE2Q2P3  HMGB1P1  TIMM23  LOC155060  RNU12-2P  \\\n",
            "TCGA-05-4244       -2.2883    0.0380  -1.9057 -0.0395     1.0624    0.5387   \n",
            "TCGA-05-4249       -2.2883   -0.3514  -0.2950  0.1945    -0.0690    1.4599   \n",
            "TCGA-05-4250       -2.2883   -0.3435  -1.9091  0.7761    -1.4074   -2.1796   \n",
            "TCGA-05-4382       -2.2883    0.1873  -0.5333 -0.1787     0.5870   -0.6958   \n",
            "TCGA-05-4384       -2.2883   -1.2251  -0.8895 -1.1778     0.7614   -0.3706   \n",
            "...                    ...       ...      ...     ...        ...       ...   \n",
            "TCGA-NJ-A55O       -2.2883    0.5729  -0.0218  0.0408     0.6719    0.7543   \n",
            "TCGA-NJ-A55R       -2.2883   -0.1679  -0.8099 -0.3206     1.1540   -0.1200   \n",
            "TCGA-NJ-A7XG       -2.2883    1.8645  -0.4522 -0.6611     1.0220   -2.1796   \n",
            "TCGA-O1-A52J       -2.2883    0.4532  -1.3473  0.7679     0.1428    2.9555   \n",
            "TCGA-S2-AA1A       -2.2883    0.9225  -0.7319 -1.1610     1.1789   -0.2677   \n",
            "\n",
            "Hugo_Symbol     SSX9   EZHIP  EFCAB8  SRP14P1  ...    ZXDA    ZXDB    ZXDC  \\\n",
            "TCGA-05-4244 -1.2501 -0.9569  1.3884   0.1027  ... -0.2092 -0.4448 -0.2293   \n",
            "TCGA-05-4249 -1.2501 -0.9569 -0.2834  -0.0119  ...  0.7816  0.8157  0.4243   \n",
            "TCGA-05-4250 -1.2501 -0.9569 -1.6633  -0.0611  ...  0.7041  0.0911 -0.6346   \n",
            "TCGA-05-4382 -0.9868  1.1884 -0.1789  -0.2600  ... -0.1734 -0.0352 -0.2710   \n",
            "TCGA-05-4384 -1.2501 -0.9569 -0.3323   0.2313  ...  1.3474  1.1341  0.7826   \n",
            "...              ...     ...     ...      ...  ...     ...     ...     ...   \n",
            "TCGA-NJ-A55O -1.2501 -0.9569 -1.6633  -0.1497  ... -0.1517 -0.1613  0.2250   \n",
            "TCGA-NJ-A55R -1.2501  0.1089  2.9233  -1.7395  ...  0.3282  0.1494  1.1546   \n",
            "TCGA-NJ-A7XG -1.2501 -0.9569  0.7316  -1.6127  ... -2.0722 -1.7646  0.5444   \n",
            "TCGA-O1-A52J -1.2501  0.5042 -0.1792  -0.1152  ...  2.5448  1.1317  0.7244   \n",
            "TCGA-S2-AA1A -1.2501  0.3220  1.2050  -1.2385  ...  0.7138  0.0837  1.8159   \n",
            "\n",
            "Hugo_Symbol   ZYG11A  ZYG11B     ZYX  FLJ10821    ZZZ3  TPTEP1  AKR1C6P  \n",
            "TCGA-05-4244 -1.8833  0.9850 -0.4967   -0.2737 -0.4482 -1.0407  -1.2966  \n",
            "TCGA-05-4249 -0.1788 -0.1119 -0.8791    0.3183  0.0984  1.0324  -1.2966  \n",
            "TCGA-05-4250 -0.0054 -1.8251  0.8248    0.3805 -0.6777 -1.0698  -1.2966  \n",
            "TCGA-05-4382  0.5825  0.3717  1.2704    0.3781 -0.0188 -0.0218  -1.2966  \n",
            "TCGA-05-4384 -0.7635 -0.1493 -0.1648    1.2559  0.2385  1.5166  -1.2966  \n",
            "...              ...     ...     ...       ...     ...     ...      ...  \n",
            "TCGA-NJ-A55O -0.2732 -0.3860  0.2930    0.6698 -0.3969  1.7447  -1.2966  \n",
            "TCGA-NJ-A55R  0.4441 -0.2421 -0.3319    1.5561 -0.2637  1.9706   0.5663  \n",
            "TCGA-NJ-A7XG -0.6192 -1.4443 -1.2127    0.8153 -1.3431 -1.1463  -1.2966  \n",
            "TCGA-O1-A52J -1.9766 -0.1344  0.4326    0.9605 -1.0035  1.0542  -0.3735  \n",
            "TCGA-S2-AA1A -0.8773 -0.9062  0.7905    1.0496 -0.8107  1.4044  -1.2966  \n",
            "\n",
            "[517 rows x 20096 columns]\n"
          ]
        }
      ]
    }
  ],
  "metadata": {
    "kernelspec": {
      "display_name": "Python 3",
      "name": "python3"
    },
    "language_info": {
      "codemirror_mode": {
        "name": "ipython",
        "version": 3
      },
      "file_extension": ".py",
      "mimetype": "text/x-python",
      "name": "python",
      "nbconvert_exporter": "python",
      "pygments_lexer": "ipython3",
      "version": "3.8.20"
    },
    "colab": {
      "provenance": [],
      "gpuType": "T4"
    },
    "accelerator": "GPU"
  },
  "nbformat": 4,
  "nbformat_minor": 5
}